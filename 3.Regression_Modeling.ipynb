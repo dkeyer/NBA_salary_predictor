{
 "cells": [
  {
   "cell_type": "code",
   "execution_count": 1,
   "metadata": {},
   "outputs": [],
   "source": [
    "import pandas as pd\n",
    "import numpy as np\n",
    "import seaborn as sns\n",
    "import matplotlib.pyplot as plt\n",
    "from sklearn.linear_model import LinearRegression, Ridge, RidgeCV, Lasso, \\\n",
    "LassoCV, ElasticNet, ElasticNetCV\n",
    "from sklearn.model_selection import train_test_split, cross_val_score, GridSearchCV\n",
    "from sklearn.metrics import mean_squared_error, r2_score\n",
    "\n",
    "from sklearn.preprocessing import StandardScaler, PolynomialFeatures\n",
    "from sklearn.tree import DecisionTreeRegressor\n",
    "from sklearn.ensemble import BaggingRegressor, RandomForestRegressor, ExtraTreesRegressor\n",
    "from sklearn.neighbors import KNeighborsRegressor\n",
    "from sklearn.svm import SVR\n",
    "from sklearn.decomposition import PCA\n",
    "#imports"
   ]
  },
  {
   "cell_type": "code",
   "execution_count": 2,
   "metadata": {},
   "outputs": [],
   "source": [
    "twenty_stats = pd.read_csv('./datasets/twenty_STATS.csv')\n",
    "nineteen_stats = pd.read_csv('./datasets/nineteen_STATS.csv')\n",
    "eighteen_stats =  pd.read_csv('./datasets/eighteen_STATS.csv')\n",
    "seventeen_stats = pd.read_csv('./datasets/seventeen_STATS.csv')\n",
    "sixteen_stats = pd.read_csv('./datasets/sixteen_STATS.csv')\n",
    "fifteen_stats = pd.read_csv('./datasets/fifteen_STATS.csv')\n",
    "fourteen_stats = pd.read_csv('./datasets/fourteen_STATS.csv')\n",
    "thirteen_stats = pd.read_csv('./datasets/thirteen_STATS.csv')\n",
    "twelve_stats = pd.read_csv('./datasets/twelve_STATS.csv')\n",
    "eleven_stats = pd.read_csv('./datasets/eleven_STATS.csv')\n",
    "\n",
    "\n",
    "eleven_salary = pd.read_csv('./datasets/eleven_salary.csv')\n",
    "twelve_salary = pd.read_csv('./datasets/twelve_salary.csv')\n",
    "thirtheen_salary = pd.read_csv('./datasets/thirtheen_salary.csv')\n",
    "fourteen_salary = pd.read_csv('./datasets/fourteen_salary.csv')\n",
    "fifteen_salary = pd.read_csv('./datasets/fifteen_salary.csv')\n",
    "sixteen_salary = pd.read_csv('./datasets/sixteen_salary.csv')\n",
    "seventeen_salary = pd.read_csv('./datasets/seventeen_salary.csv')\n",
    "eighteen_salary = pd.read_csv('./datasets/eighteen_salary.csv')\n",
    "twenty_salary = pd.read_csv('./datasets/NBA_Player_salaries_1920.csv')\n",
    "\n",
    "\n",
    "twenty_stats_and_sal = pd.read_csv('./datasets/twenty_stats_and_sal.csv')\n",
    "sixteen_to_twenty_with_sal = pd.read_csv('./datasets/sixteen_to_twenty_with_sal.csv')\n",
    "seventeen_to_twenty_with_sal = pd.read_csv('./datasets/seventeen_to_twenty_with_sal.csv')\n",
    "\n",
    "\n",
    "\n",
    "#Reading in data from 2019-2020, all subsequent reading in of data will be similar i.e. will be named with the year in which\n",
    "#the season ended"
   ]
  },
  {
   "cell_type": "code",
   "execution_count": 3,
   "metadata": {},
   "outputs": [
    {
     "data": {
      "text/html": [
       "<div>\n",
       "<style scoped>\n",
       "    .dataframe tbody tr th:only-of-type {\n",
       "        vertical-align: middle;\n",
       "    }\n",
       "\n",
       "    .dataframe tbody tr th {\n",
       "        vertical-align: top;\n",
       "    }\n",
       "\n",
       "    .dataframe thead th {\n",
       "        text-align: right;\n",
       "    }\n",
       "</style>\n",
       "<table border=\"1\" class=\"dataframe\">\n",
       "  <thead>\n",
       "    <tr style=\"text-align: right;\">\n",
       "      <th></th>\n",
       "      <th>Age</th>\n",
       "      <th>G</th>\n",
       "      <th>GS</th>\n",
       "      <th>MP</th>\n",
       "      <th>FG</th>\n",
       "      <th>FGA</th>\n",
       "      <th>FG%</th>\n",
       "      <th>3P</th>\n",
       "      <th>3PA</th>\n",
       "      <th>3P%</th>\n",
       "      <th>...</th>\n",
       "      <th>ORB</th>\n",
       "      <th>DRB</th>\n",
       "      <th>TRB</th>\n",
       "      <th>AST</th>\n",
       "      <th>STL</th>\n",
       "      <th>BLK</th>\n",
       "      <th>TOV</th>\n",
       "      <th>PF</th>\n",
       "      <th>PTS</th>\n",
       "      <th>2019-20</th>\n",
       "    </tr>\n",
       "  </thead>\n",
       "  <tbody>\n",
       "    <tr>\n",
       "      <th>count</th>\n",
       "      <td>463.000000</td>\n",
       "      <td>463.000000</td>\n",
       "      <td>463.000000</td>\n",
       "      <td>463.000000</td>\n",
       "      <td>463.000000</td>\n",
       "      <td>463.000000</td>\n",
       "      <td>461.000000</td>\n",
       "      <td>463.000000</td>\n",
       "      <td>463.000000</td>\n",
       "      <td>442.000000</td>\n",
       "      <td>...</td>\n",
       "      <td>463.000000</td>\n",
       "      <td>463.000000</td>\n",
       "      <td>463.000000</td>\n",
       "      <td>463.000000</td>\n",
       "      <td>463.000000</td>\n",
       "      <td>463.000000</td>\n",
       "      <td>463.000000</td>\n",
       "      <td>463.000000</td>\n",
       "      <td>463.000000</td>\n",
       "      <td>4.630000e+02</td>\n",
       "    </tr>\n",
       "    <tr>\n",
       "      <th>mean</th>\n",
       "      <td>25.941685</td>\n",
       "      <td>45.438445</td>\n",
       "      <td>21.937365</td>\n",
       "      <td>20.568035</td>\n",
       "      <td>3.399784</td>\n",
       "      <td>7.450540</td>\n",
       "      <td>0.450733</td>\n",
       "      <td>1.003672</td>\n",
       "      <td>2.848164</td>\n",
       "      <td>0.317041</td>\n",
       "      <td>...</td>\n",
       "      <td>0.878186</td>\n",
       "      <td>2.959179</td>\n",
       "      <td>3.834773</td>\n",
       "      <td>2.054860</td>\n",
       "      <td>0.651620</td>\n",
       "      <td>0.420950</td>\n",
       "      <td>1.190929</td>\n",
       "      <td>1.830886</td>\n",
       "      <td>9.287905</td>\n",
       "      <td>7.490563e+06</td>\n",
       "    </tr>\n",
       "    <tr>\n",
       "      <th>std</th>\n",
       "      <td>4.204570</td>\n",
       "      <td>21.161203</td>\n",
       "      <td>24.623889</td>\n",
       "      <td>8.863900</td>\n",
       "      <td>2.287776</td>\n",
       "      <td>4.795122</td>\n",
       "      <td>0.098538</td>\n",
       "      <td>0.868252</td>\n",
       "      <td>2.252164</td>\n",
       "      <td>0.118322</td>\n",
       "      <td>...</td>\n",
       "      <td>0.757059</td>\n",
       "      <td>1.871915</td>\n",
       "      <td>2.479505</td>\n",
       "      <td>1.817916</td>\n",
       "      <td>0.401287</td>\n",
       "      <td>0.418425</td>\n",
       "      <td>0.830378</td>\n",
       "      <td>0.778650</td>\n",
       "      <td>6.419173</td>\n",
       "      <td>8.844878e+06</td>\n",
       "    </tr>\n",
       "    <tr>\n",
       "      <th>min</th>\n",
       "      <td>19.000000</td>\n",
       "      <td>1.000000</td>\n",
       "      <td>0.000000</td>\n",
       "      <td>1.000000</td>\n",
       "      <td>0.000000</td>\n",
       "      <td>0.000000</td>\n",
       "      <td>0.000000</td>\n",
       "      <td>0.000000</td>\n",
       "      <td>0.000000</td>\n",
       "      <td>0.000000</td>\n",
       "      <td>...</td>\n",
       "      <td>0.000000</td>\n",
       "      <td>0.000000</td>\n",
       "      <td>0.000000</td>\n",
       "      <td>0.000000</td>\n",
       "      <td>0.000000</td>\n",
       "      <td>0.000000</td>\n",
       "      <td>0.000000</td>\n",
       "      <td>0.000000</td>\n",
       "      <td>0.000000</td>\n",
       "      <td>5.000000e+04</td>\n",
       "    </tr>\n",
       "    <tr>\n",
       "      <th>25%</th>\n",
       "      <td>23.000000</td>\n",
       "      <td>29.000000</td>\n",
       "      <td>1.000000</td>\n",
       "      <td>13.500000</td>\n",
       "      <td>1.700000</td>\n",
       "      <td>3.850000</td>\n",
       "      <td>0.407000</td>\n",
       "      <td>0.300000</td>\n",
       "      <td>1.100000</td>\n",
       "      <td>0.284500</td>\n",
       "      <td>...</td>\n",
       "      <td>0.400000</td>\n",
       "      <td>1.700000</td>\n",
       "      <td>2.100000</td>\n",
       "      <td>0.800000</td>\n",
       "      <td>0.400000</td>\n",
       "      <td>0.200000</td>\n",
       "      <td>0.600000</td>\n",
       "      <td>1.300000</td>\n",
       "      <td>4.600000</td>\n",
       "      <td>1.619542e+06</td>\n",
       "    </tr>\n",
       "    <tr>\n",
       "      <th>50%</th>\n",
       "      <td>25.000000</td>\n",
       "      <td>53.000000</td>\n",
       "      <td>9.000000</td>\n",
       "      <td>20.100000</td>\n",
       "      <td>2.900000</td>\n",
       "      <td>6.100000</td>\n",
       "      <td>0.443000</td>\n",
       "      <td>0.900000</td>\n",
       "      <td>2.400000</td>\n",
       "      <td>0.344000</td>\n",
       "      <td>...</td>\n",
       "      <td>0.600000</td>\n",
       "      <td>2.600000</td>\n",
       "      <td>3.400000</td>\n",
       "      <td>1.500000</td>\n",
       "      <td>0.600000</td>\n",
       "      <td>0.300000</td>\n",
       "      <td>1.000000</td>\n",
       "      <td>1.800000</td>\n",
       "      <td>7.500000</td>\n",
       "      <td>3.454080e+06</td>\n",
       "    </tr>\n",
       "    <tr>\n",
       "      <th>75%</th>\n",
       "      <td>29.000000</td>\n",
       "      <td>63.000000</td>\n",
       "      <td>44.000000</td>\n",
       "      <td>28.200000</td>\n",
       "      <td>4.550000</td>\n",
       "      <td>10.350000</td>\n",
       "      <td>0.488000</td>\n",
       "      <td>1.500000</td>\n",
       "      <td>4.000000</td>\n",
       "      <td>0.378000</td>\n",
       "      <td>...</td>\n",
       "      <td>1.100000</td>\n",
       "      <td>3.800000</td>\n",
       "      <td>4.900000</td>\n",
       "      <td>2.700000</td>\n",
       "      <td>0.900000</td>\n",
       "      <td>0.500000</td>\n",
       "      <td>1.500000</td>\n",
       "      <td>2.300000</td>\n",
       "      <td>12.300000</td>\n",
       "      <td>1.005000e+07</td>\n",
       "    </tr>\n",
       "    <tr>\n",
       "      <th>max</th>\n",
       "      <td>43.000000</td>\n",
       "      <td>74.000000</td>\n",
       "      <td>73.000000</td>\n",
       "      <td>37.500000</td>\n",
       "      <td>10.900000</td>\n",
       "      <td>22.900000</td>\n",
       "      <td>0.778000</td>\n",
       "      <td>4.400000</td>\n",
       "      <td>12.400000</td>\n",
       "      <td>1.000000</td>\n",
       "      <td>...</td>\n",
       "      <td>4.400000</td>\n",
       "      <td>11.400000</td>\n",
       "      <td>15.200000</td>\n",
       "      <td>10.200000</td>\n",
       "      <td>2.100000</td>\n",
       "      <td>2.900000</td>\n",
       "      <td>4.800000</td>\n",
       "      <td>5.000000</td>\n",
       "      <td>34.300000</td>\n",
       "      <td>4.023176e+07</td>\n",
       "    </tr>\n",
       "  </tbody>\n",
       "</table>\n",
       "<p>8 rows × 27 columns</p>\n",
       "</div>"
      ],
      "text/plain": [
       "              Age           G          GS          MP          FG         FGA  \\\n",
       "count  463.000000  463.000000  463.000000  463.000000  463.000000  463.000000   \n",
       "mean    25.941685   45.438445   21.937365   20.568035    3.399784    7.450540   \n",
       "std      4.204570   21.161203   24.623889    8.863900    2.287776    4.795122   \n",
       "min     19.000000    1.000000    0.000000    1.000000    0.000000    0.000000   \n",
       "25%     23.000000   29.000000    1.000000   13.500000    1.700000    3.850000   \n",
       "50%     25.000000   53.000000    9.000000   20.100000    2.900000    6.100000   \n",
       "75%     29.000000   63.000000   44.000000   28.200000    4.550000   10.350000   \n",
       "max     43.000000   74.000000   73.000000   37.500000   10.900000   22.900000   \n",
       "\n",
       "              FG%          3P         3PA         3P%  ...         ORB  \\\n",
       "count  461.000000  463.000000  463.000000  442.000000  ...  463.000000   \n",
       "mean     0.450733    1.003672    2.848164    0.317041  ...    0.878186   \n",
       "std      0.098538    0.868252    2.252164    0.118322  ...    0.757059   \n",
       "min      0.000000    0.000000    0.000000    0.000000  ...    0.000000   \n",
       "25%      0.407000    0.300000    1.100000    0.284500  ...    0.400000   \n",
       "50%      0.443000    0.900000    2.400000    0.344000  ...    0.600000   \n",
       "75%      0.488000    1.500000    4.000000    0.378000  ...    1.100000   \n",
       "max      0.778000    4.400000   12.400000    1.000000  ...    4.400000   \n",
       "\n",
       "              DRB         TRB         AST         STL         BLK         TOV  \\\n",
       "count  463.000000  463.000000  463.000000  463.000000  463.000000  463.000000   \n",
       "mean     2.959179    3.834773    2.054860    0.651620    0.420950    1.190929   \n",
       "std      1.871915    2.479505    1.817916    0.401287    0.418425    0.830378   \n",
       "min      0.000000    0.000000    0.000000    0.000000    0.000000    0.000000   \n",
       "25%      1.700000    2.100000    0.800000    0.400000    0.200000    0.600000   \n",
       "50%      2.600000    3.400000    1.500000    0.600000    0.300000    1.000000   \n",
       "75%      3.800000    4.900000    2.700000    0.900000    0.500000    1.500000   \n",
       "max     11.400000   15.200000   10.200000    2.100000    2.900000    4.800000   \n",
       "\n",
       "               PF         PTS       2019-20  \n",
       "count  463.000000  463.000000  4.630000e+02  \n",
       "mean     1.830886    9.287905  7.490563e+06  \n",
       "std      0.778650    6.419173  8.844878e+06  \n",
       "min      0.000000    0.000000  5.000000e+04  \n",
       "25%      1.300000    4.600000  1.619542e+06  \n",
       "50%      1.800000    7.500000  3.454080e+06  \n",
       "75%      2.300000   12.300000  1.005000e+07  \n",
       "max      5.000000   34.300000  4.023176e+07  \n",
       "\n",
       "[8 rows x 27 columns]"
      ]
     },
     "execution_count": 3,
     "metadata": {},
     "output_type": "execute_result"
    }
   ],
   "source": [
    "twenty_stats_and_sal.describe()"
   ]
  },
  {
   "cell_type": "code",
   "execution_count": null,
   "metadata": {},
   "outputs": [],
   "source": []
  },
  {
   "cell_type": "code",
   "execution_count": 1655,
   "metadata": {},
   "outputs": [
    {
     "data": {
      "text/html": [
       "<div>\n",
       "<style scoped>\n",
       "    .dataframe tbody tr th:only-of-type {\n",
       "        vertical-align: middle;\n",
       "    }\n",
       "\n",
       "    .dataframe tbody tr th {\n",
       "        vertical-align: top;\n",
       "    }\n",
       "\n",
       "    .dataframe thead th {\n",
       "        text-align: right;\n",
       "    }\n",
       "</style>\n",
       "<table border=\"1\" class=\"dataframe\">\n",
       "  <thead>\n",
       "    <tr style=\"text-align: right;\">\n",
       "      <th></th>\n",
       "      <th>Player</th>\n",
       "      <th>2019-20</th>\n",
       "    </tr>\n",
       "  </thead>\n",
       "  <tbody>\n",
       "    <tr>\n",
       "      <th>0</th>\n",
       "      <td>Stephen Curry</td>\n",
       "      <td>$40,231,758</td>\n",
       "    </tr>\n",
       "    <tr>\n",
       "      <th>1</th>\n",
       "      <td>Chris Paul</td>\n",
       "      <td>$38,506,482</td>\n",
       "    </tr>\n",
       "    <tr>\n",
       "      <th>2</th>\n",
       "      <td>Russell Westbrook</td>\n",
       "      <td>$38,178,000</td>\n",
       "    </tr>\n",
       "    <tr>\n",
       "      <th>3</th>\n",
       "      <td>John Wall</td>\n",
       "      <td>$37,800,000</td>\n",
       "    </tr>\n",
       "    <tr>\n",
       "      <th>4</th>\n",
       "      <td>James Harden</td>\n",
       "      <td>$37,800,000</td>\n",
       "    </tr>\n",
       "  </tbody>\n",
       "</table>\n",
       "</div>"
      ],
      "text/plain": [
       "              Player      2019-20\n",
       "0      Stephen Curry  $40,231,758\n",
       "1         Chris Paul  $38,506,482\n",
       "2  Russell Westbrook  $38,178,000\n",
       "3          John Wall  $37,800,000\n",
       "4       James Harden  $37,800,000"
      ]
     },
     "execution_count": 1655,
     "metadata": {},
     "output_type": "execute_result"
    }
   ],
   "source": [
    "twenty_salary_cond = twenty_salary[['Player', '2019-20']]\n",
    "twenty_salary_cond.head()\n",
    "#Condensing the dataframe, as I am only concerned with 2019-2020 salary for now"
   ]
  },
  {
   "cell_type": "code",
   "execution_count": 1656,
   "metadata": {},
   "outputs": [
    {
     "data": {
      "text/plain": [
       "FG      0.767685\n",
       "FGA     0.747993\n",
       "MP      0.738304\n",
       "GS      0.697379\n",
       "2PA     0.684865\n",
       "2P      0.676427\n",
       "3PA     0.428419\n",
       "3P      0.423755\n",
       "G       0.323772\n",
       "3P%     0.157425\n",
       "2P%     0.134902\n",
       "eFG%    0.133224\n",
       "FG%     0.128468\n",
       "Rk     -0.018450\n",
       "Age    -0.048687\n",
       "Name: 2019-20, dtype: float64"
      ]
     },
     "execution_count": 1656,
     "metadata": {},
     "output_type": "execute_result"
    }
   ],
   "source": [
    "sixteen_to_twenty_with_sal.corr()['2019-20'][0:15].sort_values(ascending=False)\n",
    "#Checking for correlation"
   ]
  },
  {
   "cell_type": "code",
   "execution_count": 1657,
   "metadata": {},
   "outputs": [],
   "source": [
    "features = sixteen_to_twenty_with_sal.drop(['Age', 'Rk', 'Tm', 'Pos', 'Season', 'Player', '2019-20'], axis=1)\n",
    "#Checking models with several features"
   ]
  },
  {
   "cell_type": "code",
   "execution_count": 1659,
   "metadata": {},
   "outputs": [],
   "source": [
    "X = features\n",
    "y = sixteen_to_twenty_with_sal['2019-20']"
   ]
  },
  {
   "cell_type": "code",
   "execution_count": 1660,
   "metadata": {},
   "outputs": [],
   "source": [
    "X_train, X_test, y_train, y_test = train_test_split(X, y, test_size = 0.30, random_state = 42)"
   ]
  },
  {
   "cell_type": "code",
   "execution_count": 1661,
   "metadata": {
    "scrolled": false
   },
   "outputs": [],
   "source": [
    "lr = LinearRegression()\n",
    "knnr = KNeighborsRegressor()\n",
    "dt = DecisionTreeRegressor()\n",
    "br = BaggingRegressor()\n",
    "rf = RandomForestRegressor()\n",
    "svr = SVR()\n",
    "et = ExtraTreesRegressor()"
   ]
  },
  {
   "cell_type": "code",
   "execution_count": 1662,
   "metadata": {},
   "outputs": [
    {
     "data": {
      "text/plain": [
       "ExtraTreesRegressor()"
      ]
     },
     "execution_count": 1662,
     "metadata": {},
     "output_type": "execute_result"
    }
   ],
   "source": [
    "lr.fit(X_train, y_train)\n",
    "knnr.fit(X_train, y_train)\n",
    "dt.fit(X_train, y_train)\n",
    "br.fit(X_train, y_train)\n",
    "rf.fit(X_train, y_train)\n",
    "svr.fit(X_train, y_train)\n",
    "et.fit(X_train, y_train)"
   ]
  },
  {
   "cell_type": "markdown",
   "metadata": {},
   "source": [
    "Trying several different models to see if we can minimize RMSE"
   ]
  },
  {
   "cell_type": "code",
   "execution_count": 1663,
   "metadata": {},
   "outputs": [
    {
     "data": {
      "text/plain": [
       "0.605845293303936"
      ]
     },
     "execution_count": 1663,
     "metadata": {},
     "output_type": "execute_result"
    }
   ],
   "source": [
    "cross_val_score(lr, X, y, cv=5).mean()c\n",
    "#Baseline"
   ]
  },
  {
   "cell_type": "code",
   "execution_count": 1664,
   "metadata": {},
   "outputs": [
    {
     "data": {
      "text/plain": [
       "array([-4.19532409e+04,  8.90700272e+03,  5.67514317e+04, -1.73969862e+06,\n",
       "        2.64629619e+07, -1.00886278e+06, -1.18387043e+07, -3.31247953e+07,\n",
       "       -1.08018553e+06, -1.89850921e+07, -2.69618731e+07,  5.47471674e+07,\n",
       "       -6.35814633e+07, -9.73869449e+06, -9.37512015e+05,  1.41978317e+07,\n",
       "        1.06774629e+07,  1.35011298e+07, -1.13963016e+07,  1.91763361e+06,\n",
       "        4.23215011e+06,  4.24187044e+06, -3.71983038e+06, -2.11930741e+06,\n",
       "        1.16693100e+07])"
      ]
     },
     "execution_count": 1664,
     "metadata": {},
     "output_type": "execute_result"
    }
   ],
   "source": [
    "lr.coef_"
   ]
  },
  {
   "cell_type": "code",
   "execution_count": 1665,
   "metadata": {},
   "outputs": [
    {
     "data": {
      "text/plain": [
       "0.7491076695969239"
      ]
     },
     "execution_count": 1665,
     "metadata": {},
     "output_type": "execute_result"
    }
   ],
   "source": [
    "lr.score(X_train, y_train)\n",
    "#Testing scores of r2 and RMSE with linear regression"
   ]
  },
  {
   "cell_type": "code",
   "execution_count": 1666,
   "metadata": {},
   "outputs": [
    {
     "data": {
      "text/plain": [
       "0.5940398524663546"
      ]
     },
     "execution_count": 1666,
     "metadata": {},
     "output_type": "execute_result"
    }
   ],
   "source": [
    "lr.score(X_test, y_test)"
   ]
  },
  {
   "cell_type": "code",
   "execution_count": 1667,
   "metadata": {},
   "outputs": [],
   "source": [
    "test_preds = lr.predict(X_test)"
   ]
  },
  {
   "cell_type": "code",
   "execution_count": 1668,
   "metadata": {},
   "outputs": [],
   "source": [
    "train_preds = lr.predict(X_train)"
   ]
  },
  {
   "cell_type": "code",
   "execution_count": 1669,
   "metadata": {},
   "outputs": [
    {
     "data": {
      "text/plain": [
       "6228975.9520565495"
      ]
     },
     "execution_count": 1669,
     "metadata": {},
     "output_type": "execute_result"
    }
   ],
   "source": [
    "np.sqrt(mean_squared_error(y_test, test_preds))"
   ]
  },
  {
   "cell_type": "code",
   "execution_count": 1670,
   "metadata": {},
   "outputs": [
    {
     "data": {
      "text/plain": [
       "5170234.905955995"
      ]
     },
     "execution_count": 1670,
     "metadata": {},
     "output_type": "execute_result"
    }
   ],
   "source": [
    "np.sqrt(mean_squared_error(y_train, train_preds))"
   ]
  },
  {
   "cell_type": "code",
   "execution_count": 1671,
   "metadata": {},
   "outputs": [
    {
     "data": {
      "text/plain": [
       "0.7026244524766411"
      ]
     },
     "execution_count": 1671,
     "metadata": {},
     "output_type": "execute_result"
    }
   ],
   "source": [
    "knnr.score(X_train, y_train)\n",
    "#Testing scores of r2 and RMSE with KNN regressor"
   ]
  },
  {
   "cell_type": "code",
   "execution_count": 1672,
   "metadata": {},
   "outputs": [
    {
     "data": {
      "text/plain": [
       "0.6174018428114534"
      ]
     },
     "execution_count": 1672,
     "metadata": {},
     "output_type": "execute_result"
    }
   ],
   "source": [
    "knnr.score(X_test, y_test)"
   ]
  },
  {
   "cell_type": "code",
   "execution_count": 1673,
   "metadata": {},
   "outputs": [
    {
     "data": {
      "text/plain": [
       "1.0"
      ]
     },
     "execution_count": 1673,
     "metadata": {},
     "output_type": "execute_result"
    }
   ],
   "source": [
    "dt.score(X_train, y_train)\n",
    "#Testing scores of r2 and RMSE with Decision trees"
   ]
  },
  {
   "cell_type": "code",
   "execution_count": 1674,
   "metadata": {},
   "outputs": [
    {
     "data": {
      "text/plain": [
       "0.28822099958129066"
      ]
     },
     "execution_count": 1674,
     "metadata": {},
     "output_type": "execute_result"
    }
   ],
   "source": [
    "dt.score(X_test, y_test)"
   ]
  },
  {
   "cell_type": "code",
   "execution_count": 1675,
   "metadata": {},
   "outputs": [
    {
     "data": {
      "text/plain": [
       "0.9476412795390765"
      ]
     },
     "execution_count": 1675,
     "metadata": {},
     "output_type": "execute_result"
    }
   ],
   "source": [
    "br.score(X_train, y_train)\n",
    "#Testing scores of r2 and RMSE with Bagging regressor"
   ]
  },
  {
   "cell_type": "code",
   "execution_count": 1676,
   "metadata": {},
   "outputs": [
    {
     "data": {
      "text/plain": [
       "0.6282485381720319"
      ]
     },
     "execution_count": 1676,
     "metadata": {},
     "output_type": "execute_result"
    }
   ],
   "source": [
    "br.score(X_test, y_test)"
   ]
  },
  {
   "cell_type": "code",
   "execution_count": 1677,
   "metadata": {},
   "outputs": [
    {
     "data": {
      "text/plain": [
       "0.9501956323529547"
      ]
     },
     "execution_count": 1677,
     "metadata": {},
     "output_type": "execute_result"
    }
   ],
   "source": [
    "rf.score(X_train, y_train)\n",
    "#Testing scores of r2 and RMSE with Random forest"
   ]
  },
  {
   "cell_type": "code",
   "execution_count": 1678,
   "metadata": {},
   "outputs": [
    {
     "data": {
      "text/plain": [
       "0.641001181396434"
      ]
     },
     "execution_count": 1678,
     "metadata": {},
     "output_type": "execute_result"
    }
   ],
   "source": [
    "rf.score(X_test, y_test)"
   ]
  },
  {
   "cell_type": "code",
   "execution_count": 1679,
   "metadata": {},
   "outputs": [
    {
     "data": {
      "text/plain": [
       "-0.05753000042309253"
      ]
     },
     "execution_count": 1679,
     "metadata": {},
     "output_type": "execute_result"
    }
   ],
   "source": [
    "svr.score(X_train, y_train)"
   ]
  },
  {
   "cell_type": "code",
   "execution_count": 1680,
   "metadata": {},
   "outputs": [
    {
     "data": {
      "text/plain": [
       "-0.041535599878647744"
      ]
     },
     "execution_count": 1680,
     "metadata": {},
     "output_type": "execute_result"
    }
   ],
   "source": [
    "svr.score(X_test, y_test)"
   ]
  },
  {
   "cell_type": "code",
   "execution_count": 1681,
   "metadata": {},
   "outputs": [],
   "source": [
    "test_preds = knnr.predict(X_test)\n",
    "#test_preds = lr.predict(X_test)"
   ]
  },
  {
   "cell_type": "code",
   "execution_count": 1682,
   "metadata": {},
   "outputs": [],
   "source": [
    "train_preds = knnr.predict(X_train)\n",
    "# train_preds = lr.predict(X_train)"
   ]
  },
  {
   "cell_type": "code",
   "execution_count": 1683,
   "metadata": {},
   "outputs": [
    {
     "data": {
      "text/plain": [
       "6047089.414952738"
      ]
     },
     "execution_count": 1683,
     "metadata": {},
     "output_type": "execute_result"
    }
   ],
   "source": [
    "np.sqrt(mean_squared_error(y_test, test_preds))"
   ]
  },
  {
   "cell_type": "code",
   "execution_count": 1685,
   "metadata": {},
   "outputs": [
    {
     "data": {
      "text/plain": [
       "5628843.966195232"
      ]
     },
     "execution_count": 1685,
     "metadata": {},
     "output_type": "execute_result"
    }
   ],
   "source": [
    "np.sqrt(mean_squared_error(y_train, train_preds))"
   ]
  },
  {
   "cell_type": "code",
   "execution_count": 1693,
   "metadata": {},
   "outputs": [],
   "source": [
    "knn_params = {\n",
    "    'n_neighbors': range(1,100,10),\n",
    "    'leaf_size': [20,30,40,50],\n",
    "    'weights': ['uniform', 'distance']}\n",
    "#Trying to gridsearch with some of my better models, did not get the results I was hoping for"
   ]
  },
  {
   "cell_type": "code",
   "execution_count": 1694,
   "metadata": {},
   "outputs": [],
   "source": [
    "knn_gridsearch = GridSearchCV(knnr, \n",
    "                              knn_params,\n",
    "                              cv=5) "
   ]
  },
  {
   "cell_type": "code",
   "execution_count": 1696,
   "metadata": {},
   "outputs": [],
   "source": [
    "knn_gridsearch.fit(X_train, y_train);"
   ]
  },
  {
   "cell_type": "code",
   "execution_count": 1697,
   "metadata": {},
   "outputs": [
    {
     "data": {
      "text/plain": [
       "{'leaf_size': 20, 'n_neighbors': 11, 'weights': 'uniform'}"
      ]
     },
     "execution_count": 1697,
     "metadata": {},
     "output_type": "execute_result"
    }
   ],
   "source": [
    "knn_gridsearch.best_params_"
   ]
  },
  {
   "cell_type": "code",
   "execution_count": 1698,
   "metadata": {},
   "outputs": [
    {
     "data": {
      "text/plain": [
       "0.5886993245038447"
      ]
     },
     "execution_count": 1698,
     "metadata": {},
     "output_type": "execute_result"
    }
   ],
   "source": [
    "knn_gridsearch.best_score_"
   ]
  },
  {
   "cell_type": "code",
   "execution_count": 1699,
   "metadata": {},
   "outputs": [
    {
     "data": {
      "text/plain": [
       "0.672839454645892"
      ]
     },
     "execution_count": 1699,
     "metadata": {},
     "output_type": "execute_result"
    }
   ],
   "source": [
    "knn_gridsearch.score(X_test, y_test)\n",
    "#Improvement on baseline, but will it give a significant RMSE?"
   ]
  },
  {
   "cell_type": "code",
   "execution_count": 1700,
   "metadata": {},
   "outputs": [],
   "source": [
    "test_preds = knn_gridsearch.predict(X_test)"
   ]
  },
  {
   "cell_type": "code",
   "execution_count": 1701,
   "metadata": {},
   "outputs": [
    {
     "data": {
      "text/plain": [
       "5591848.73894986"
      ]
     },
     "execution_count": 1701,
     "metadata": {},
     "output_type": "execute_result"
    }
   ],
   "source": [
    "np.sqrt(mean_squared_error(y_test, test_preds))\n",
    "#RMSE is considerably lower after tuning hyperparameters, but still rather high"
   ]
  },
  {
   "cell_type": "code",
   "execution_count": 1703,
   "metadata": {},
   "outputs": [],
   "source": [
    "#gridsearching this time with decision trees, again not the results I had hoped for\n",
    "dt_gridsearch = GridSearchCV(estimator = DecisionTreeRegressor(),\n",
    "                    param_grid = {'max_depth': [2, 3, 5, 7],\n",
    "                                  'min_samples_split': [5, 10, 15, 20],\n",
    "                                  'min_samples_leaf': [2, 3, 4, 5, 6],\n",
    "                                  'ccp_alpha': [0, 0.001, 0.01, 0.1, 1, 10]},\n",
    "                    cv = 5)"
   ]
  },
  {
   "cell_type": "code",
   "execution_count": 1704,
   "metadata": {},
   "outputs": [
    {
     "data": {
      "text/plain": [
       "dict_keys(['cv', 'error_score', 'estimator__ccp_alpha', 'estimator__criterion', 'estimator__max_depth', 'estimator__max_features', 'estimator__max_leaf_nodes', 'estimator__min_impurity_decrease', 'estimator__min_impurity_split', 'estimator__min_samples_leaf', 'estimator__min_samples_split', 'estimator__min_weight_fraction_leaf', 'estimator__presort', 'estimator__random_state', 'estimator__splitter', 'estimator', 'iid', 'n_jobs', 'param_grid', 'pre_dispatch', 'refit', 'return_train_score', 'scoring', 'verbose'])"
      ]
     },
     "execution_count": 1704,
     "metadata": {},
     "output_type": "execute_result"
    }
   ],
   "source": [
    "dt_gridsearch.get_params().keys()"
   ]
  },
  {
   "cell_type": "code",
   "execution_count": 1705,
   "metadata": {},
   "outputs": [
    {
     "data": {
      "text/plain": [
       "GridSearchCV(cv=5, estimator=DecisionTreeRegressor(),\n",
       "             param_grid={'ccp_alpha': [0, 0.001, 0.01, 0.1, 1, 10],\n",
       "                         'max_depth': [2, 3, 5, 7],\n",
       "                         'min_samples_leaf': [2, 3, 4, 5, 6],\n",
       "                         'min_samples_split': [5, 10, 15, 20]})"
      ]
     },
     "execution_count": 1705,
     "metadata": {},
     "output_type": "execute_result"
    }
   ],
   "source": [
    "dt_gridsearch.fit(X_train, y_train)"
   ]
  },
  {
   "cell_type": "code",
   "execution_count": 1706,
   "metadata": {},
   "outputs": [
    {
     "data": {
      "text/plain": [
       "{'ccp_alpha': 0.001,\n",
       " 'max_depth': 3,\n",
       " 'min_samples_leaf': 6,\n",
       " 'min_samples_split': 20}"
      ]
     },
     "execution_count": 1706,
     "metadata": {},
     "output_type": "execute_result"
    }
   ],
   "source": [
    "dt_gridsearch.best_params_"
   ]
  },
  {
   "cell_type": "code",
   "execution_count": 1707,
   "metadata": {},
   "outputs": [
    {
     "data": {
      "text/plain": [
       "0.4871808483267944"
      ]
     },
     "execution_count": 1707,
     "metadata": {},
     "output_type": "execute_result"
    }
   ],
   "source": [
    "dt_gridsearch.score(X_test, y_test)"
   ]
  },
  {
   "cell_type": "code",
   "execution_count": 1708,
   "metadata": {},
   "outputs": [
    {
     "data": {
      "text/plain": [
       "0.4473281440172444"
      ]
     },
     "execution_count": 1708,
     "metadata": {},
     "output_type": "execute_result"
    }
   ],
   "source": [
    "dt_gridsearch.best_score_"
   ]
  },
  {
   "cell_type": "code",
   "execution_count": 1709,
   "metadata": {},
   "outputs": [],
   "source": [
    "test_preds = dt_gridsearch.predict(X_test)"
   ]
  },
  {
   "cell_type": "code",
   "execution_count": 1710,
   "metadata": {},
   "outputs": [
    {
     "data": {
      "text/plain": [
       "7000951.537213902"
      ]
     },
     "execution_count": 1710,
     "metadata": {},
     "output_type": "execute_result"
    }
   ],
   "source": [
    "np.sqrt(mean_squared_error(y_test, test_preds))"
   ]
  },
  {
   "cell_type": "markdown",
   "metadata": {},
   "source": [
    "# Sixteen to Twenty with PCA"
   ]
  },
  {
   "cell_type": "markdown",
   "metadata": {},
   "source": [
    "Experimenting with PCA to see if it will lower PCA"
   ]
  },
  {
   "cell_type": "markdown",
   "metadata": {},
   "source": [
    "Will try several different models with different methods to see if any help give a lower RMSE or higher r-squared"
   ]
  },
  {
   "cell_type": "code",
   "execution_count": 1711,
   "metadata": {},
   "outputs": [],
   "source": [
    "features = sixteen_to_twenty_with_sal.drop(['Age', 'Rk', 'Tm', 'Pos', 'Season', 'Player', '2019-20'], axis=1)"
   ]
  },
  {
   "cell_type": "code",
   "execution_count": 1712,
   "metadata": {},
   "outputs": [],
   "source": [
    "X = features\n",
    "y = sixteen_to_twenty_with_sal['2019-20']"
   ]
  },
  {
   "cell_type": "code",
   "execution_count": 1713,
   "metadata": {},
   "outputs": [],
   "source": [
    "X_train, X_test, y_train, y_test = train_test_split(X, y, test_size = 0.30, random_state = 42)"
   ]
  },
  {
   "cell_type": "code",
   "execution_count": 1714,
   "metadata": {},
   "outputs": [],
   "source": [
    "ss = StandardScaler()\n",
    "\n",
    "X_train_sc = ss.fit_transform(X_train)\n",
    "\n",
    "X_test_sc = ss.transform(X_test)"
   ]
  },
  {
   "cell_type": "code",
   "execution_count": 1715,
   "metadata": {},
   "outputs": [],
   "source": [
    "pca = PCA(n_components=9, random_state = 42)\n",
    "\n",
    "#GS number of components?"
   ]
  },
  {
   "cell_type": "code",
   "execution_count": 1716,
   "metadata": {},
   "outputs": [
    {
     "data": {
      "text/plain": [
       "PCA(n_components=9, random_state=42)"
      ]
     },
     "execution_count": 1716,
     "metadata": {},
     "output_type": "execute_result"
    }
   ],
   "source": [
    "pca.fit(X_train)"
   ]
  },
  {
   "cell_type": "code",
   "execution_count": 1717,
   "metadata": {},
   "outputs": [],
   "source": [
    "Z_train = pca.transform(X_train_sc)"
   ]
  },
  {
   "cell_type": "code",
   "execution_count": 1718,
   "metadata": {},
   "outputs": [
    {
     "name": "stderr",
     "output_type": "stream",
     "text": [
      "C:\\ProgramData\\Anaconda3\\lib\\site-packages\\IPython\\core\\displayhook.py:275: UserWarning: Output cache limit (currently 1000 entries) hit.\n",
      "Flushing oldest 200 entries.\n",
      "  warn('Output cache limit (currently {sz} entries) hit.\\n'\n"
     ]
    },
    {
     "data": {
      "text/html": [
       "<div>\n",
       "<style scoped>\n",
       "    .dataframe tbody tr th:only-of-type {\n",
       "        vertical-align: middle;\n",
       "    }\n",
       "\n",
       "    .dataframe tbody tr th {\n",
       "        vertical-align: top;\n",
       "    }\n",
       "\n",
       "    .dataframe thead th {\n",
       "        text-align: right;\n",
       "    }\n",
       "</style>\n",
       "<table border=\"1\" class=\"dataframe\">\n",
       "  <thead>\n",
       "    <tr style=\"text-align: right;\">\n",
       "      <th></th>\n",
       "      <th>0</th>\n",
       "      <th>1</th>\n",
       "      <th>2</th>\n",
       "      <th>3</th>\n",
       "      <th>4</th>\n",
       "      <th>5</th>\n",
       "      <th>6</th>\n",
       "      <th>7</th>\n",
       "      <th>8</th>\n",
       "    </tr>\n",
       "  </thead>\n",
       "  <tbody>\n",
       "    <tr>\n",
       "      <th>count</th>\n",
       "      <td>148.000000</td>\n",
       "      <td>148.000000</td>\n",
       "      <td>148.000000</td>\n",
       "      <td>148.000000</td>\n",
       "      <td>148.000000</td>\n",
       "      <td>148.000000</td>\n",
       "      <td>148.000000</td>\n",
       "      <td>148.000000</td>\n",
       "      <td>148.000000</td>\n",
       "    </tr>\n",
       "    <tr>\n",
       "      <th>mean</th>\n",
       "      <td>59.383520</td>\n",
       "      <td>52.044953</td>\n",
       "      <td>-8.630224</td>\n",
       "      <td>1.978709</td>\n",
       "      <td>8.277569</td>\n",
       "      <td>1.032593</td>\n",
       "      <td>1.124524</td>\n",
       "      <td>0.086715</td>\n",
       "      <td>-0.053899</td>\n",
       "    </tr>\n",
       "    <tr>\n",
       "      <th>std</th>\n",
       "      <td>1.843282</td>\n",
       "      <td>0.892913</td>\n",
       "      <td>2.147717</td>\n",
       "      <td>1.855220</td>\n",
       "      <td>0.821020</td>\n",
       "      <td>0.782368</td>\n",
       "      <td>1.114864</td>\n",
       "      <td>0.602486</td>\n",
       "      <td>0.566427</td>\n",
       "    </tr>\n",
       "    <tr>\n",
       "      <th>min</th>\n",
       "      <td>54.994715</td>\n",
       "      <td>50.326587</td>\n",
       "      <td>-12.330153</td>\n",
       "      <td>-0.742362</td>\n",
       "      <td>5.403524</td>\n",
       "      <td>-1.058568</td>\n",
       "      <td>-0.330712</td>\n",
       "      <td>-2.086434</td>\n",
       "      <td>-1.472273</td>\n",
       "    </tr>\n",
       "    <tr>\n",
       "      <th>25%</th>\n",
       "      <td>57.919722</td>\n",
       "      <td>51.426648</td>\n",
       "      <td>-10.259625</td>\n",
       "      <td>0.626207</td>\n",
       "      <td>7.895957</td>\n",
       "      <td>0.648458</td>\n",
       "      <td>0.385979</td>\n",
       "      <td>-0.248843</td>\n",
       "      <td>-0.372047</td>\n",
       "    </tr>\n",
       "    <tr>\n",
       "      <th>50%</th>\n",
       "      <td>59.503093</td>\n",
       "      <td>51.915295</td>\n",
       "      <td>-8.903454</td>\n",
       "      <td>1.575864</td>\n",
       "      <td>8.378562</td>\n",
       "      <td>1.048210</td>\n",
       "      <td>0.690654</td>\n",
       "      <td>0.120400</td>\n",
       "      <td>-0.017744</td>\n",
       "    </tr>\n",
       "    <tr>\n",
       "      <th>75%</th>\n",
       "      <td>60.976530</td>\n",
       "      <td>52.527362</td>\n",
       "      <td>-7.410414</td>\n",
       "      <td>2.867903</td>\n",
       "      <td>8.855148</td>\n",
       "      <td>1.373281</td>\n",
       "      <td>1.615208</td>\n",
       "      <td>0.453639</td>\n",
       "      <td>0.261864</td>\n",
       "    </tr>\n",
       "    <tr>\n",
       "      <th>max</th>\n",
       "      <td>63.650385</td>\n",
       "      <td>55.766990</td>\n",
       "      <td>-1.264855</td>\n",
       "      <td>8.659509</td>\n",
       "      <td>9.741164</td>\n",
       "      <td>4.127730</td>\n",
       "      <td>6.270286</td>\n",
       "      <td>1.811970</td>\n",
       "      <td>1.937866</td>\n",
       "    </tr>\n",
       "  </tbody>\n",
       "</table>\n",
       "</div>"
      ],
      "text/plain": [
       "                0           1           2           3           4           5  \\\n",
       "count  148.000000  148.000000  148.000000  148.000000  148.000000  148.000000   \n",
       "mean    59.383520   52.044953   -8.630224    1.978709    8.277569    1.032593   \n",
       "std      1.843282    0.892913    2.147717    1.855220    0.821020    0.782368   \n",
       "min     54.994715   50.326587  -12.330153   -0.742362    5.403524   -1.058568   \n",
       "25%     57.919722   51.426648  -10.259625    0.626207    7.895957    0.648458   \n",
       "50%     59.503093   51.915295   -8.903454    1.575864    8.378562    1.048210   \n",
       "75%     60.976530   52.527362   -7.410414    2.867903    8.855148    1.373281   \n",
       "max     63.650385   55.766990   -1.264855    8.659509    9.741164    4.127730   \n",
       "\n",
       "                6           7           8  \n",
       "count  148.000000  148.000000  148.000000  \n",
       "mean     1.124524    0.086715   -0.053899  \n",
       "std      1.114864    0.602486    0.566427  \n",
       "min     -0.330712   -2.086434   -1.472273  \n",
       "25%      0.385979   -0.248843   -0.372047  \n",
       "50%      0.690654    0.120400   -0.017744  \n",
       "75%      1.615208    0.453639    0.261864  \n",
       "max      6.270286    1.811970    1.937866  "
      ]
     },
     "execution_count": 1718,
     "metadata": {},
     "output_type": "execute_result"
    }
   ],
   "source": [
    "pd.DataFrame(Z_train).describe()"
   ]
  },
  {
   "cell_type": "code",
   "execution_count": 1719,
   "metadata": {},
   "outputs": [],
   "source": [
    "Z_test = pca.transform(X_test_sc)"
   ]
  },
  {
   "cell_type": "code",
   "execution_count": 1723,
   "metadata": {},
   "outputs": [
    {
     "data": {
      "text/plain": [
       "array([0.812, 0.115, 0.045, 0.014, 0.006, 0.003, 0.003, 0.001, 0.   ])"
      ]
     },
     "execution_count": 1723,
     "metadata": {},
     "output_type": "execute_result"
    }
   ],
   "source": [
    "var_exp = pca.explained_variance_ratio_\n",
    "np.round(var_exp[:10],3)"
   ]
  },
  {
   "cell_type": "code",
   "execution_count": 1724,
   "metadata": {},
   "outputs": [
    {
     "data": {
      "text/plain": [
       "ExtraTreesRegressor()"
      ]
     },
     "execution_count": 1724,
     "metadata": {},
     "output_type": "execute_result"
    }
   ],
   "source": [
    "lr.fit(Z_train, y_train)\n",
    "dt.fit(Z_train, y_train)\n",
    "br.fit(Z_train, y_train)\n",
    "knnr.fit(Z_train, y_train)\n",
    "rf.fit(Z_train, y_train)\n",
    "et.fit(Z_train, y_train)"
   ]
  },
  {
   "cell_type": "code",
   "execution_count": 1725,
   "metadata": {},
   "outputs": [
    {
     "data": {
      "text/plain": [
       "0.6745287718516135"
      ]
     },
     "execution_count": 1725,
     "metadata": {},
     "output_type": "execute_result"
    }
   ],
   "source": [
    "lr.score(Z_train, y_train)"
   ]
  },
  {
   "cell_type": "code",
   "execution_count": 1726,
   "metadata": {},
   "outputs": [
    {
     "data": {
      "text/plain": [
       "0.6549180639159097"
      ]
     },
     "execution_count": 1726,
     "metadata": {},
     "output_type": "execute_result"
    }
   ],
   "source": [
    "lr.score(Z_test, y_test)"
   ]
  },
  {
   "cell_type": "code",
   "execution_count": 1727,
   "metadata": {},
   "outputs": [],
   "source": [
    "test_preds = lr.predict(Z_test)"
   ]
  },
  {
   "cell_type": "code",
   "execution_count": 1728,
   "metadata": {},
   "outputs": [
    {
     "data": {
      "text/plain": [
       "5742963.636039956"
      ]
     },
     "execution_count": 1728,
     "metadata": {},
     "output_type": "execute_result"
    }
   ],
   "source": [
    "np.sqrt(mean_squared_error(y_test, test_preds))"
   ]
  },
  {
   "cell_type": "code",
   "execution_count": 1521,
   "metadata": {},
   "outputs": [
    {
     "data": {
      "text/plain": [
       "1.0"
      ]
     },
     "execution_count": 1521,
     "metadata": {},
     "output_type": "execute_result"
    }
   ],
   "source": [
    "dt.score(Z_train, y_train)"
   ]
  },
  {
   "cell_type": "code",
   "execution_count": 1522,
   "metadata": {},
   "outputs": [
    {
     "data": {
      "text/plain": [
       "0.435620427522885"
      ]
     },
     "execution_count": 1522,
     "metadata": {},
     "output_type": "execute_result"
    }
   ],
   "source": [
    "dt.score(Z_test, y_test)"
   ]
  },
  {
   "cell_type": "code",
   "execution_count": 1523,
   "metadata": {},
   "outputs": [],
   "source": [
    "test_preds = dt.predict(Z_test)"
   ]
  },
  {
   "cell_type": "code",
   "execution_count": 1524,
   "metadata": {},
   "outputs": [
    {
     "data": {
      "text/plain": [
       "7344472.287953068"
      ]
     },
     "execution_count": 1524,
     "metadata": {},
     "output_type": "execute_result"
    }
   ],
   "source": [
    "np.sqrt(mean_squared_error(y_test, test_preds))"
   ]
  },
  {
   "cell_type": "code",
   "execution_count": 1525,
   "metadata": {},
   "outputs": [
    {
     "data": {
      "text/plain": [
       "0.6848285812001335"
      ]
     },
     "execution_count": 1525,
     "metadata": {},
     "output_type": "execute_result"
    }
   ],
   "source": [
    "knnr.score(Z_train, y_train)"
   ]
  },
  {
   "cell_type": "code",
   "execution_count": 1526,
   "metadata": {},
   "outputs": [
    {
     "data": {
      "text/plain": [
       "0.6046666311043639"
      ]
     },
     "execution_count": 1526,
     "metadata": {},
     "output_type": "execute_result"
    }
   ],
   "source": [
    "knnr.score(Z_test, y_test)"
   ]
  },
  {
   "cell_type": "code",
   "execution_count": 1527,
   "metadata": {},
   "outputs": [],
   "source": [
    "test_preds = knnr.predict(Z_test)"
   ]
  },
  {
   "cell_type": "code",
   "execution_count": 1528,
   "metadata": {},
   "outputs": [
    {
     "data": {
      "text/plain": [
       "6146907.673487986"
      ]
     },
     "execution_count": 1528,
     "metadata": {},
     "output_type": "execute_result"
    }
   ],
   "source": [
    "np.sqrt(mean_squared_error(y_test, test_preds))"
   ]
  },
  {
   "cell_type": "code",
   "execution_count": 1529,
   "metadata": {},
   "outputs": [
    {
     "data": {
      "text/plain": [
       "0.9178517693330157"
      ]
     },
     "execution_count": 1529,
     "metadata": {},
     "output_type": "execute_result"
    }
   ],
   "source": [
    "br.score(Z_train, y_train)"
   ]
  },
  {
   "cell_type": "code",
   "execution_count": 1530,
   "metadata": {},
   "outputs": [
    {
     "data": {
      "text/plain": [
       "0.6442736740999593"
      ]
     },
     "execution_count": 1530,
     "metadata": {},
     "output_type": "execute_result"
    }
   ],
   "source": [
    "br.score(Z_test, y_test)"
   ]
  },
  {
   "cell_type": "code",
   "execution_count": 1531,
   "metadata": {},
   "outputs": [],
   "source": [
    "test_preds = br.predict(Z_test)"
   ]
  },
  {
   "cell_type": "code",
   "execution_count": 1532,
   "metadata": {},
   "outputs": [
    {
     "data": {
      "text/plain": [
       "5830864.601397167"
      ]
     },
     "execution_count": 1532,
     "metadata": {},
     "output_type": "execute_result"
    }
   ],
   "source": [
    "np.sqrt(mean_squared_error(y_test, test_preds))"
   ]
  },
  {
   "cell_type": "code",
   "execution_count": 1533,
   "metadata": {},
   "outputs": [
    {
     "data": {
      "text/plain": [
       "1.0"
      ]
     },
     "execution_count": 1533,
     "metadata": {},
     "output_type": "execute_result"
    }
   ],
   "source": [
    "et.score(Z_train, y_train)"
   ]
  },
  {
   "cell_type": "code",
   "execution_count": 1534,
   "metadata": {},
   "outputs": [
    {
     "data": {
      "text/plain": [
       "0.6432698533769565"
      ]
     },
     "execution_count": 1534,
     "metadata": {},
     "output_type": "execute_result"
    }
   ],
   "source": [
    "et.score(Z_test, y_test)"
   ]
  },
  {
   "cell_type": "code",
   "execution_count": 1535,
   "metadata": {},
   "outputs": [],
   "source": [
    "test_preds = et.predict(Z_test)"
   ]
  },
  {
   "cell_type": "code",
   "execution_count": 1536,
   "metadata": {},
   "outputs": [
    {
     "data": {
      "text/plain": [
       "5839085.83620328"
      ]
     },
     "execution_count": 1536,
     "metadata": {},
     "output_type": "execute_result"
    }
   ],
   "source": [
    "np.sqrt(mean_squared_error(y_test, test_preds))"
   ]
  },
  {
   "cell_type": "markdown",
   "metadata": {},
   "source": [
    "Even with PCA, these scores are still pretty disappointing, so I will try some feature engineering and see if that helps later"
   ]
  },
  {
   "cell_type": "markdown",
   "metadata": {},
   "source": [
    "# Seventeen to Twenty"
   ]
  },
  {
   "cell_type": "code",
   "execution_count": 1733,
   "metadata": {},
   "outputs": [
    {
     "data": {
      "text/html": [
       "<div>\n",
       "<style scoped>\n",
       "    .dataframe tbody tr th:only-of-type {\n",
       "        vertical-align: middle;\n",
       "    }\n",
       "\n",
       "    .dataframe tbody tr th {\n",
       "        vertical-align: top;\n",
       "    }\n",
       "\n",
       "    .dataframe thead th {\n",
       "        text-align: right;\n",
       "    }\n",
       "</style>\n",
       "<table border=\"1\" class=\"dataframe\">\n",
       "  <thead>\n",
       "    <tr style=\"text-align: right;\">\n",
       "      <th></th>\n",
       "      <th>Player</th>\n",
       "      <th>Rk</th>\n",
       "      <th>Season</th>\n",
       "      <th>Pos</th>\n",
       "      <th>Age</th>\n",
       "      <th>Tm</th>\n",
       "      <th>G</th>\n",
       "      <th>GS</th>\n",
       "      <th>MP</th>\n",
       "      <th>FG</th>\n",
       "      <th>...</th>\n",
       "      <th>ORB</th>\n",
       "      <th>DRB</th>\n",
       "      <th>TRB</th>\n",
       "      <th>AST</th>\n",
       "      <th>STL</th>\n",
       "      <th>BLK</th>\n",
       "      <th>TOV</th>\n",
       "      <th>PF</th>\n",
       "      <th>PTS</th>\n",
       "      <th>2019-20</th>\n",
       "    </tr>\n",
       "  </thead>\n",
       "  <tbody>\n",
       "    <tr>\n",
       "      <th>0</th>\n",
       "      <td>Aaron Gordon</td>\n",
       "      <td>178.0</td>\n",
       "      <td>19-20</td>\n",
       "      <td>PF</td>\n",
       "      <td>22.5</td>\n",
       "      <td>ORL</td>\n",
       "      <td>69.50</td>\n",
       "      <td>67.25</td>\n",
       "      <td>31.975</td>\n",
       "      <td>5.700</td>\n",
       "      <td>...</td>\n",
       "      <td>1.600</td>\n",
       "      <td>5.400</td>\n",
       "      <td>7.025</td>\n",
       "      <td>2.900</td>\n",
       "      <td>0.825</td>\n",
       "      <td>0.650</td>\n",
       "      <td>1.650</td>\n",
       "      <td>2.075</td>\n",
       "      <td>15.175</td>\n",
       "      <td>19863636</td>\n",
       "    </tr>\n",
       "    <tr>\n",
       "      <th>1</th>\n",
       "      <td>Al Horford</td>\n",
       "      <td>228.0</td>\n",
       "      <td>19-20</td>\n",
       "      <td>C</td>\n",
       "      <td>31.5</td>\n",
       "      <td>PHI</td>\n",
       "      <td>68.75</td>\n",
       "      <td>67.25</td>\n",
       "      <td>30.775</td>\n",
       "      <td>5.300</td>\n",
       "      <td>...</td>\n",
       "      <td>1.525</td>\n",
       "      <td>5.400</td>\n",
       "      <td>6.925</td>\n",
       "      <td>4.475</td>\n",
       "      <td>0.775</td>\n",
       "      <td>1.150</td>\n",
       "      <td>1.550</td>\n",
       "      <td>1.975</td>\n",
       "      <td>13.100</td>\n",
       "      <td>28000000</td>\n",
       "    </tr>\n",
       "    <tr>\n",
       "      <th>2</th>\n",
       "      <td>Al-Farouq Aminu</td>\n",
       "      <td>9.0</td>\n",
       "      <td>19-20</td>\n",
       "      <td>PF</td>\n",
       "      <td>27.5</td>\n",
       "      <td>ORL</td>\n",
       "      <td>57.25</td>\n",
       "      <td>43.75</td>\n",
       "      <td>27.125</td>\n",
       "      <td>2.725</td>\n",
       "      <td>...</td>\n",
       "      <td>1.350</td>\n",
       "      <td>5.475</td>\n",
       "      <td>6.825</td>\n",
       "      <td>1.325</td>\n",
       "      <td>0.975</td>\n",
       "      <td>0.525</td>\n",
       "      <td>1.100</td>\n",
       "      <td>1.750</td>\n",
       "      <td>7.925</td>\n",
       "      <td>9258000</td>\n",
       "    </tr>\n",
       "    <tr>\n",
       "      <th>3</th>\n",
       "      <td>Alec Burks</td>\n",
       "      <td>80.0</td>\n",
       "      <td>19-20</td>\n",
       "      <td>SG</td>\n",
       "      <td>26.5</td>\n",
       "      <td>TOT</td>\n",
       "      <td>59.00</td>\n",
       "      <td>11.00</td>\n",
       "      <td>20.025</td>\n",
       "      <td>3.250</td>\n",
       "      <td>...</td>\n",
       "      <td>0.475</td>\n",
       "      <td>2.975</td>\n",
       "      <td>3.475</td>\n",
       "      <td>1.650</td>\n",
       "      <td>0.625</td>\n",
       "      <td>0.200</td>\n",
       "      <td>1.025</td>\n",
       "      <td>1.425</td>\n",
       "      <td>9.550</td>\n",
       "      <td>2320044</td>\n",
       "    </tr>\n",
       "    <tr>\n",
       "      <th>4</th>\n",
       "      <td>Alex Len</td>\n",
       "      <td>293.0</td>\n",
       "      <td>19-20</td>\n",
       "      <td>C</td>\n",
       "      <td>24.5</td>\n",
       "      <td>TOT</td>\n",
       "      <td>69.50</td>\n",
       "      <td>22.50</td>\n",
       "      <td>19.550</td>\n",
       "      <td>3.375</td>\n",
       "      <td>...</td>\n",
       "      <td>2.100</td>\n",
       "      <td>4.275</td>\n",
       "      <td>6.350</td>\n",
       "      <td>0.950</td>\n",
       "      <td>0.425</td>\n",
       "      <td>1.000</td>\n",
       "      <td>1.175</td>\n",
       "      <td>2.575</td>\n",
       "      <td>8.900</td>\n",
       "      <td>4160000</td>\n",
       "    </tr>\n",
       "    <tr>\n",
       "      <th>...</th>\n",
       "      <td>...</td>\n",
       "      <td>...</td>\n",
       "      <td>...</td>\n",
       "      <td>...</td>\n",
       "      <td>...</td>\n",
       "      <td>...</td>\n",
       "      <td>...</td>\n",
       "      <td>...</td>\n",
       "      <td>...</td>\n",
       "      <td>...</td>\n",
       "      <td>...</td>\n",
       "      <td>...</td>\n",
       "      <td>...</td>\n",
       "      <td>...</td>\n",
       "      <td>...</td>\n",
       "      <td>...</td>\n",
       "      <td>...</td>\n",
       "      <td>...</td>\n",
       "      <td>...</td>\n",
       "      <td>...</td>\n",
       "      <td>...</td>\n",
       "    </tr>\n",
       "    <tr>\n",
       "      <th>247</th>\n",
       "      <td>Willie Cauley-Stein</td>\n",
       "      <td>94.0</td>\n",
       "      <td>19-20</td>\n",
       "      <td>C</td>\n",
       "      <td>24.5</td>\n",
       "      <td>TOT</td>\n",
       "      <td>70.75</td>\n",
       "      <td>49.75</td>\n",
       "      <td>23.625</td>\n",
       "      <td>4.250</td>\n",
       "      <td>...</td>\n",
       "      <td>1.675</td>\n",
       "      <td>4.750</td>\n",
       "      <td>6.425</td>\n",
       "      <td>1.800</td>\n",
       "      <td>0.975</td>\n",
       "      <td>0.800</td>\n",
       "      <td>1.025</td>\n",
       "      <td>2.375</td>\n",
       "      <td>10.000</td>\n",
       "      <td>2177483</td>\n",
       "    </tr>\n",
       "    <tr>\n",
       "      <th>248</th>\n",
       "      <td>Willy Hernangómez</td>\n",
       "      <td>214.0</td>\n",
       "      <td>19-20</td>\n",
       "      <td>C</td>\n",
       "      <td>23.5</td>\n",
       "      <td>CHO</td>\n",
       "      <td>52.25</td>\n",
       "      <td>6.50</td>\n",
       "      <td>13.700</td>\n",
       "      <td>2.575</td>\n",
       "      <td>...</td>\n",
       "      <td>1.775</td>\n",
       "      <td>3.325</td>\n",
       "      <td>5.125</td>\n",
       "      <td>0.975</td>\n",
       "      <td>0.400</td>\n",
       "      <td>0.325</td>\n",
       "      <td>1.025</td>\n",
       "      <td>1.525</td>\n",
       "      <td>6.675</td>\n",
       "      <td>1676735</td>\n",
       "    </tr>\n",
       "    <tr>\n",
       "      <th>249</th>\n",
       "      <td>Wilson Chandler</td>\n",
       "      <td>96.0</td>\n",
       "      <td>19-20</td>\n",
       "      <td>SF</td>\n",
       "      <td>30.5</td>\n",
       "      <td>BRK</td>\n",
       "      <td>57.75</td>\n",
       "      <td>35.00</td>\n",
       "      <td>26.675</td>\n",
       "      <td>3.550</td>\n",
       "      <td>...</td>\n",
       "      <td>1.025</td>\n",
       "      <td>4.025</td>\n",
       "      <td>5.050</td>\n",
       "      <td>1.700</td>\n",
       "      <td>0.575</td>\n",
       "      <td>0.400</td>\n",
       "      <td>1.175</td>\n",
       "      <td>2.300</td>\n",
       "      <td>9.400</td>\n",
       "      <td>2564753</td>\n",
       "    </tr>\n",
       "    <tr>\n",
       "      <th>250</th>\n",
       "      <td>Yogi Ferrell</td>\n",
       "      <td>156.0</td>\n",
       "      <td>19-20</td>\n",
       "      <td>PG</td>\n",
       "      <td>24.5</td>\n",
       "      <td>SAC</td>\n",
       "      <td>62.25</td>\n",
       "      <td>13.25</td>\n",
       "      <td>19.850</td>\n",
       "      <td>2.775</td>\n",
       "      <td>...</td>\n",
       "      <td>0.250</td>\n",
       "      <td>1.750</td>\n",
       "      <td>1.975</td>\n",
       "      <td>2.375</td>\n",
       "      <td>0.650</td>\n",
       "      <td>0.125</td>\n",
       "      <td>0.925</td>\n",
       "      <td>1.400</td>\n",
       "      <td>7.625</td>\n",
       "      <td>3150000</td>\n",
       "    </tr>\n",
       "    <tr>\n",
       "      <th>251</th>\n",
       "      <td>Zach LaVine</td>\n",
       "      <td>286.0</td>\n",
       "      <td>19-20</td>\n",
       "      <td>SG</td>\n",
       "      <td>22.5</td>\n",
       "      <td>CHI</td>\n",
       "      <td>48.50</td>\n",
       "      <td>48.25</td>\n",
       "      <td>33.450</td>\n",
       "      <td>7.500</td>\n",
       "      <td>...</td>\n",
       "      <td>0.525</td>\n",
       "      <td>3.650</td>\n",
       "      <td>4.200</td>\n",
       "      <td>3.675</td>\n",
       "      <td>1.100</td>\n",
       "      <td>0.325</td>\n",
       "      <td>2.600</td>\n",
       "      <td>2.225</td>\n",
       "      <td>21.200</td>\n",
       "      <td>19500000</td>\n",
       "    </tr>\n",
       "  </tbody>\n",
       "</table>\n",
       "<p>252 rows × 32 columns</p>\n",
       "</div>"
      ],
      "text/plain": [
       "                  Player     Rk Season Pos   Age   Tm      G     GS      MP  \\\n",
       "0           Aaron Gordon  178.0  19-20  PF  22.5  ORL  69.50  67.25  31.975   \n",
       "1             Al Horford  228.0  19-20   C  31.5  PHI  68.75  67.25  30.775   \n",
       "2        Al-Farouq Aminu    9.0  19-20  PF  27.5  ORL  57.25  43.75  27.125   \n",
       "3             Alec Burks   80.0  19-20  SG  26.5  TOT  59.00  11.00  20.025   \n",
       "4               Alex Len  293.0  19-20   C  24.5  TOT  69.50  22.50  19.550   \n",
       "..                   ...    ...    ...  ..   ...  ...    ...    ...     ...   \n",
       "247  Willie Cauley-Stein   94.0  19-20   C  24.5  TOT  70.75  49.75  23.625   \n",
       "248    Willy Hernangómez  214.0  19-20   C  23.5  CHO  52.25   6.50  13.700   \n",
       "249      Wilson Chandler   96.0  19-20  SF  30.5  BRK  57.75  35.00  26.675   \n",
       "250         Yogi Ferrell  156.0  19-20  PG  24.5  SAC  62.25  13.25  19.850   \n",
       "251          Zach LaVine  286.0  19-20  SG  22.5  CHI  48.50  48.25  33.450   \n",
       "\n",
       "        FG  ...    ORB    DRB    TRB    AST    STL    BLK    TOV     PF  \\\n",
       "0    5.700  ...  1.600  5.400  7.025  2.900  0.825  0.650  1.650  2.075   \n",
       "1    5.300  ...  1.525  5.400  6.925  4.475  0.775  1.150  1.550  1.975   \n",
       "2    2.725  ...  1.350  5.475  6.825  1.325  0.975  0.525  1.100  1.750   \n",
       "3    3.250  ...  0.475  2.975  3.475  1.650  0.625  0.200  1.025  1.425   \n",
       "4    3.375  ...  2.100  4.275  6.350  0.950  0.425  1.000  1.175  2.575   \n",
       "..     ...  ...    ...    ...    ...    ...    ...    ...    ...    ...   \n",
       "247  4.250  ...  1.675  4.750  6.425  1.800  0.975  0.800  1.025  2.375   \n",
       "248  2.575  ...  1.775  3.325  5.125  0.975  0.400  0.325  1.025  1.525   \n",
       "249  3.550  ...  1.025  4.025  5.050  1.700  0.575  0.400  1.175  2.300   \n",
       "250  2.775  ...  0.250  1.750  1.975  2.375  0.650  0.125  0.925  1.400   \n",
       "251  7.500  ...  0.525  3.650  4.200  3.675  1.100  0.325  2.600  2.225   \n",
       "\n",
       "        PTS   2019-20  \n",
       "0    15.175  19863636  \n",
       "1    13.100  28000000  \n",
       "2     7.925   9258000  \n",
       "3     9.550   2320044  \n",
       "4     8.900   4160000  \n",
       "..      ...       ...  \n",
       "247  10.000   2177483  \n",
       "248   6.675   1676735  \n",
       "249   9.400   2564753  \n",
       "250   7.625   3150000  \n",
       "251  21.200  19500000  \n",
       "\n",
       "[252 rows x 32 columns]"
      ]
     },
     "execution_count": 1733,
     "metadata": {},
     "output_type": "execute_result"
    }
   ],
   "source": [
    "seventeen_to_twenty_with_sal"
   ]
  },
  {
   "cell_type": "code",
   "execution_count": 1734,
   "metadata": {},
   "outputs": [],
   "source": [
    "features = seventeen_to_twenty_with_sal.drop(['Age', 'Rk', 'Tm', 'Pos', 'Season', 'Player', '2019-20'], axis=1)"
   ]
  },
  {
   "cell_type": "code",
   "execution_count": 1735,
   "metadata": {},
   "outputs": [],
   "source": [
    "X = features\n",
    "y = seventeen_to_twenty_with_sal['2019-20']"
   ]
  },
  {
   "cell_type": "code",
   "execution_count": 1736,
   "metadata": {},
   "outputs": [],
   "source": [
    "X_train, X_test, y_train, y_test = train_test_split(X, y, test_size = 0.40, random_state = 42)"
   ]
  },
  {
   "cell_type": "code",
   "execution_count": 1737,
   "metadata": {},
   "outputs": [],
   "source": [
    "lr = LinearRegression()"
   ]
  },
  {
   "cell_type": "code",
   "execution_count": 1738,
   "metadata": {},
   "outputs": [
    {
     "data": {
      "text/plain": [
       "LinearRegression()"
      ]
     },
     "execution_count": 1738,
     "metadata": {},
     "output_type": "execute_result"
    }
   ],
   "source": [
    "lr.fit(X_train, y_train)"
   ]
  },
  {
   "cell_type": "code",
   "execution_count": 1739,
   "metadata": {},
   "outputs": [
    {
     "data": {
      "text/plain": [
       "0.7964446014386941"
      ]
     },
     "execution_count": 1739,
     "metadata": {},
     "output_type": "execute_result"
    }
   ],
   "source": [
    "lr.score(X_train, y_train)"
   ]
  },
  {
   "cell_type": "code",
   "execution_count": 1740,
   "metadata": {},
   "outputs": [
    {
     "data": {
      "text/plain": [
       "0.5256812211322544"
      ]
     },
     "execution_count": 1740,
     "metadata": {},
     "output_type": "execute_result"
    }
   ],
   "source": [
    "lr.score(X_test, y_test)"
   ]
  },
  {
   "cell_type": "code",
   "execution_count": 1741,
   "metadata": {},
   "outputs": [],
   "source": [
    "test_preds = lr.predict(X_test)"
   ]
  },
  {
   "cell_type": "code",
   "execution_count": 1742,
   "metadata": {},
   "outputs": [],
   "source": [
    "train_preds = lr.predict(X_train)"
   ]
  },
  {
   "cell_type": "code",
   "execution_count": 1743,
   "metadata": {},
   "outputs": [
    {
     "data": {
      "text/plain": [
       "6987309.604027305"
      ]
     },
     "execution_count": 1743,
     "metadata": {},
     "output_type": "execute_result"
    }
   ],
   "source": [
    "np.sqrt(mean_squared_error(y_test, test_preds))"
   ]
  },
  {
   "cell_type": "code",
   "execution_count": 1744,
   "metadata": {},
   "outputs": [
    {
     "data": {
      "text/plain": [
       "4443872.698940289"
      ]
     },
     "execution_count": 1744,
     "metadata": {},
     "output_type": "execute_result"
    }
   ],
   "source": [
    "np.sqrt(mean_squared_error(y_train, train_preds))"
   ]
  },
  {
   "cell_type": "markdown",
   "metadata": {},
   "source": [
    "Generally speaking, the model with 4 years in the dataframe performed even worse than the one with 5 years"
   ]
  },
  {
   "cell_type": "code",
   "execution_count": 1750,
   "metadata": {},
   "outputs": [
    {
     "data": {
      "text/html": [
       "<div>\n",
       "<style scoped>\n",
       "    .dataframe tbody tr th:only-of-type {\n",
       "        vertical-align: middle;\n",
       "    }\n",
       "\n",
       "    .dataframe tbody tr th {\n",
       "        vertical-align: top;\n",
       "    }\n",
       "\n",
       "    .dataframe thead th {\n",
       "        text-align: right;\n",
       "    }\n",
       "</style>\n",
       "<table border=\"1\" class=\"dataframe\">\n",
       "  <thead>\n",
       "    <tr style=\"text-align: right;\">\n",
       "      <th></th>\n",
       "      <th>Age</th>\n",
       "      <th>G</th>\n",
       "      <th>GS</th>\n",
       "      <th>MP</th>\n",
       "      <th>FG</th>\n",
       "      <th>FGA</th>\n",
       "      <th>FG%</th>\n",
       "      <th>3P</th>\n",
       "      <th>3PA</th>\n",
       "      <th>3P%</th>\n",
       "      <th>...</th>\n",
       "      <th>ORB</th>\n",
       "      <th>DRB</th>\n",
       "      <th>TRB</th>\n",
       "      <th>AST</th>\n",
       "      <th>STL</th>\n",
       "      <th>BLK</th>\n",
       "      <th>TOV</th>\n",
       "      <th>PF</th>\n",
       "      <th>PTS</th>\n",
       "      <th>2019-20</th>\n",
       "    </tr>\n",
       "  </thead>\n",
       "  <tbody>\n",
       "    <tr>\n",
       "      <th>count</th>\n",
       "      <td>463.000000</td>\n",
       "      <td>463.000000</td>\n",
       "      <td>463.000000</td>\n",
       "      <td>463.000000</td>\n",
       "      <td>463.000000</td>\n",
       "      <td>463.000000</td>\n",
       "      <td>461.000000</td>\n",
       "      <td>463.000000</td>\n",
       "      <td>463.000000</td>\n",
       "      <td>442.000000</td>\n",
       "      <td>...</td>\n",
       "      <td>463.000000</td>\n",
       "      <td>463.000000</td>\n",
       "      <td>463.000000</td>\n",
       "      <td>463.000000</td>\n",
       "      <td>463.000000</td>\n",
       "      <td>463.000000</td>\n",
       "      <td>463.000000</td>\n",
       "      <td>463.000000</td>\n",
       "      <td>463.000000</td>\n",
       "      <td>4.630000e+02</td>\n",
       "    </tr>\n",
       "    <tr>\n",
       "      <th>mean</th>\n",
       "      <td>25.941685</td>\n",
       "      <td>45.438445</td>\n",
       "      <td>21.937365</td>\n",
       "      <td>20.568035</td>\n",
       "      <td>3.399784</td>\n",
       "      <td>7.450540</td>\n",
       "      <td>0.450733</td>\n",
       "      <td>1.003672</td>\n",
       "      <td>2.848164</td>\n",
       "      <td>0.317041</td>\n",
       "      <td>...</td>\n",
       "      <td>0.878186</td>\n",
       "      <td>2.959179</td>\n",
       "      <td>3.834773</td>\n",
       "      <td>2.054860</td>\n",
       "      <td>0.651620</td>\n",
       "      <td>0.420950</td>\n",
       "      <td>1.190929</td>\n",
       "      <td>1.830886</td>\n",
       "      <td>9.287905</td>\n",
       "      <td>7.490563e+06</td>\n",
       "    </tr>\n",
       "    <tr>\n",
       "      <th>std</th>\n",
       "      <td>4.204570</td>\n",
       "      <td>21.161203</td>\n",
       "      <td>24.623889</td>\n",
       "      <td>8.863900</td>\n",
       "      <td>2.287776</td>\n",
       "      <td>4.795122</td>\n",
       "      <td>0.098538</td>\n",
       "      <td>0.868252</td>\n",
       "      <td>2.252164</td>\n",
       "      <td>0.118322</td>\n",
       "      <td>...</td>\n",
       "      <td>0.757059</td>\n",
       "      <td>1.871915</td>\n",
       "      <td>2.479505</td>\n",
       "      <td>1.817916</td>\n",
       "      <td>0.401287</td>\n",
       "      <td>0.418425</td>\n",
       "      <td>0.830378</td>\n",
       "      <td>0.778650</td>\n",
       "      <td>6.419173</td>\n",
       "      <td>8.844878e+06</td>\n",
       "    </tr>\n",
       "    <tr>\n",
       "      <th>min</th>\n",
       "      <td>19.000000</td>\n",
       "      <td>1.000000</td>\n",
       "      <td>0.000000</td>\n",
       "      <td>1.000000</td>\n",
       "      <td>0.000000</td>\n",
       "      <td>0.000000</td>\n",
       "      <td>0.000000</td>\n",
       "      <td>0.000000</td>\n",
       "      <td>0.000000</td>\n",
       "      <td>0.000000</td>\n",
       "      <td>...</td>\n",
       "      <td>0.000000</td>\n",
       "      <td>0.000000</td>\n",
       "      <td>0.000000</td>\n",
       "      <td>0.000000</td>\n",
       "      <td>0.000000</td>\n",
       "      <td>0.000000</td>\n",
       "      <td>0.000000</td>\n",
       "      <td>0.000000</td>\n",
       "      <td>0.000000</td>\n",
       "      <td>5.000000e+04</td>\n",
       "    </tr>\n",
       "    <tr>\n",
       "      <th>25%</th>\n",
       "      <td>23.000000</td>\n",
       "      <td>29.000000</td>\n",
       "      <td>1.000000</td>\n",
       "      <td>13.500000</td>\n",
       "      <td>1.700000</td>\n",
       "      <td>3.850000</td>\n",
       "      <td>0.407000</td>\n",
       "      <td>0.300000</td>\n",
       "      <td>1.100000</td>\n",
       "      <td>0.284500</td>\n",
       "      <td>...</td>\n",
       "      <td>0.400000</td>\n",
       "      <td>1.700000</td>\n",
       "      <td>2.100000</td>\n",
       "      <td>0.800000</td>\n",
       "      <td>0.400000</td>\n",
       "      <td>0.200000</td>\n",
       "      <td>0.600000</td>\n",
       "      <td>1.300000</td>\n",
       "      <td>4.600000</td>\n",
       "      <td>1.619542e+06</td>\n",
       "    </tr>\n",
       "    <tr>\n",
       "      <th>50%</th>\n",
       "      <td>25.000000</td>\n",
       "      <td>53.000000</td>\n",
       "      <td>9.000000</td>\n",
       "      <td>20.100000</td>\n",
       "      <td>2.900000</td>\n",
       "      <td>6.100000</td>\n",
       "      <td>0.443000</td>\n",
       "      <td>0.900000</td>\n",
       "      <td>2.400000</td>\n",
       "      <td>0.344000</td>\n",
       "      <td>...</td>\n",
       "      <td>0.600000</td>\n",
       "      <td>2.600000</td>\n",
       "      <td>3.400000</td>\n",
       "      <td>1.500000</td>\n",
       "      <td>0.600000</td>\n",
       "      <td>0.300000</td>\n",
       "      <td>1.000000</td>\n",
       "      <td>1.800000</td>\n",
       "      <td>7.500000</td>\n",
       "      <td>3.454080e+06</td>\n",
       "    </tr>\n",
       "    <tr>\n",
       "      <th>75%</th>\n",
       "      <td>29.000000</td>\n",
       "      <td>63.000000</td>\n",
       "      <td>44.000000</td>\n",
       "      <td>28.200000</td>\n",
       "      <td>4.550000</td>\n",
       "      <td>10.350000</td>\n",
       "      <td>0.488000</td>\n",
       "      <td>1.500000</td>\n",
       "      <td>4.000000</td>\n",
       "      <td>0.378000</td>\n",
       "      <td>...</td>\n",
       "      <td>1.100000</td>\n",
       "      <td>3.800000</td>\n",
       "      <td>4.900000</td>\n",
       "      <td>2.700000</td>\n",
       "      <td>0.900000</td>\n",
       "      <td>0.500000</td>\n",
       "      <td>1.500000</td>\n",
       "      <td>2.300000</td>\n",
       "      <td>12.300000</td>\n",
       "      <td>1.005000e+07</td>\n",
       "    </tr>\n",
       "    <tr>\n",
       "      <th>max</th>\n",
       "      <td>43.000000</td>\n",
       "      <td>74.000000</td>\n",
       "      <td>73.000000</td>\n",
       "      <td>37.500000</td>\n",
       "      <td>10.900000</td>\n",
       "      <td>22.900000</td>\n",
       "      <td>0.778000</td>\n",
       "      <td>4.400000</td>\n",
       "      <td>12.400000</td>\n",
       "      <td>1.000000</td>\n",
       "      <td>...</td>\n",
       "      <td>4.400000</td>\n",
       "      <td>11.400000</td>\n",
       "      <td>15.200000</td>\n",
       "      <td>10.200000</td>\n",
       "      <td>2.100000</td>\n",
       "      <td>2.900000</td>\n",
       "      <td>4.800000</td>\n",
       "      <td>5.000000</td>\n",
       "      <td>34.300000</td>\n",
       "      <td>4.023176e+07</td>\n",
       "    </tr>\n",
       "  </tbody>\n",
       "</table>\n",
       "<p>8 rows × 27 columns</p>\n",
       "</div>"
      ],
      "text/plain": [
       "              Age           G          GS          MP          FG         FGA  \\\n",
       "count  463.000000  463.000000  463.000000  463.000000  463.000000  463.000000   \n",
       "mean    25.941685   45.438445   21.937365   20.568035    3.399784    7.450540   \n",
       "std      4.204570   21.161203   24.623889    8.863900    2.287776    4.795122   \n",
       "min     19.000000    1.000000    0.000000    1.000000    0.000000    0.000000   \n",
       "25%     23.000000   29.000000    1.000000   13.500000    1.700000    3.850000   \n",
       "50%     25.000000   53.000000    9.000000   20.100000    2.900000    6.100000   \n",
       "75%     29.000000   63.000000   44.000000   28.200000    4.550000   10.350000   \n",
       "max     43.000000   74.000000   73.000000   37.500000   10.900000   22.900000   \n",
       "\n",
       "              FG%          3P         3PA         3P%  ...         ORB  \\\n",
       "count  461.000000  463.000000  463.000000  442.000000  ...  463.000000   \n",
       "mean     0.450733    1.003672    2.848164    0.317041  ...    0.878186   \n",
       "std      0.098538    0.868252    2.252164    0.118322  ...    0.757059   \n",
       "min      0.000000    0.000000    0.000000    0.000000  ...    0.000000   \n",
       "25%      0.407000    0.300000    1.100000    0.284500  ...    0.400000   \n",
       "50%      0.443000    0.900000    2.400000    0.344000  ...    0.600000   \n",
       "75%      0.488000    1.500000    4.000000    0.378000  ...    1.100000   \n",
       "max      0.778000    4.400000   12.400000    1.000000  ...    4.400000   \n",
       "\n",
       "              DRB         TRB         AST         STL         BLK         TOV  \\\n",
       "count  463.000000  463.000000  463.000000  463.000000  463.000000  463.000000   \n",
       "mean     2.959179    3.834773    2.054860    0.651620    0.420950    1.190929   \n",
       "std      1.871915    2.479505    1.817916    0.401287    0.418425    0.830378   \n",
       "min      0.000000    0.000000    0.000000    0.000000    0.000000    0.000000   \n",
       "25%      1.700000    2.100000    0.800000    0.400000    0.200000    0.600000   \n",
       "50%      2.600000    3.400000    1.500000    0.600000    0.300000    1.000000   \n",
       "75%      3.800000    4.900000    2.700000    0.900000    0.500000    1.500000   \n",
       "max     11.400000   15.200000   10.200000    2.100000    2.900000    4.800000   \n",
       "\n",
       "               PF         PTS       2019-20  \n",
       "count  463.000000  463.000000  4.630000e+02  \n",
       "mean     1.830886    9.287905  7.490563e+06  \n",
       "std      0.778650    6.419173  8.844878e+06  \n",
       "min      0.000000    0.000000  5.000000e+04  \n",
       "25%      1.300000    4.600000  1.619542e+06  \n",
       "50%      1.800000    7.500000  3.454080e+06  \n",
       "75%      2.300000   12.300000  1.005000e+07  \n",
       "max      5.000000   34.300000  4.023176e+07  \n",
       "\n",
       "[8 rows x 27 columns]"
      ]
     },
     "execution_count": 1750,
     "metadata": {},
     "output_type": "execute_result"
    }
   ],
   "source": [
    "twenty_stats_and_sal.describe()"
   ]
  },
  {
   "cell_type": "code",
   "execution_count": 1751,
   "metadata": {},
   "outputs": [],
   "source": [
    "features = twenty_stats_and_sal[['PTS', 'MP', 'FG', 'FT']]\n",
    "#Trying another model with fewer features"
   ]
  },
  {
   "cell_type": "code",
   "execution_count": 1752,
   "metadata": {},
   "outputs": [],
   "source": [
    "X = features\n",
    "y = twenty_stats_and_sal['2019-20']"
   ]
  },
  {
   "cell_type": "code",
   "execution_count": 1753,
   "metadata": {},
   "outputs": [],
   "source": [
    "X_train, X_test, y_train, y_test = train_test_split(X, y, test_size = 0.40, random_state = 42)"
   ]
  },
  {
   "cell_type": "code",
   "execution_count": 1756,
   "metadata": {},
   "outputs": [],
   "source": [
    "lr = LinearRegression()\n",
    "knnr = KNeighborsRegressor()\n",
    "dt = DecisionTreeRegressor()\n",
    "br = BaggingRegressor()\n",
    "rf = RandomForestRegressor()\n",
    "svr = SVR()"
   ]
  },
  {
   "cell_type": "code",
   "execution_count": 1757,
   "metadata": {},
   "outputs": [
    {
     "data": {
      "text/plain": [
       "SVR()"
      ]
     },
     "execution_count": 1757,
     "metadata": {},
     "output_type": "execute_result"
    }
   ],
   "source": [
    "lr.fit(X_train, y_train)\n",
    "knnr.fit(X_train, y_train)\n",
    "dt.fit(X_train, y_train)\n",
    "br.fit(X_train, y_train)\n",
    "rf.fit(X_train, y_train)\n",
    "svr.fit(X_train, y_train)"
   ]
  },
  {
   "cell_type": "code",
   "execution_count": 1758,
   "metadata": {},
   "outputs": [
    {
     "data": {
      "text/plain": [
       "LinearRegression()"
      ]
     },
     "execution_count": 1758,
     "metadata": {},
     "output_type": "execute_result"
    }
   ],
   "source": [
    "lr.fit(X_train, y_train)"
   ]
  },
  {
   "cell_type": "code",
   "execution_count": 1759,
   "metadata": {},
   "outputs": [
    {
     "data": {
      "text/plain": [
       "0.47306730698559274"
      ]
     },
     "execution_count": 1759,
     "metadata": {},
     "output_type": "execute_result"
    }
   ],
   "source": [
    "lr.score(X_train, y_train)"
   ]
  },
  {
   "cell_type": "code",
   "execution_count": 1760,
   "metadata": {},
   "outputs": [
    {
     "data": {
      "text/plain": [
       "0.3516789851161094"
      ]
     },
     "execution_count": 1760,
     "metadata": {},
     "output_type": "execute_result"
    }
   ],
   "source": [
    "lr.score(X_test, y_test)"
   ]
  },
  {
   "cell_type": "code",
   "execution_count": 1761,
   "metadata": {},
   "outputs": [
    {
     "data": {
      "text/plain": [
       "0.6221409031885814"
      ]
     },
     "execution_count": 1761,
     "metadata": {},
     "output_type": "execute_result"
    }
   ],
   "source": [
    "knnr.score(X_train, y_train)"
   ]
  },
  {
   "cell_type": "code",
   "execution_count": 1762,
   "metadata": {},
   "outputs": [
    {
     "data": {
      "text/plain": [
       "0.16144846595741857"
      ]
     },
     "execution_count": 1762,
     "metadata": {},
     "output_type": "execute_result"
    }
   ],
   "source": [
    "knnr.score(X_test, y_test)"
   ]
  },
  {
   "cell_type": "code",
   "execution_count": 1763,
   "metadata": {},
   "outputs": [
    {
     "data": {
      "text/plain": [
       "1.0"
      ]
     },
     "execution_count": 1763,
     "metadata": {},
     "output_type": "execute_result"
    }
   ],
   "source": [
    "dt.score(X_train, y_train)"
   ]
  },
  {
   "cell_type": "code",
   "execution_count": 1764,
   "metadata": {},
   "outputs": [
    {
     "data": {
      "text/plain": [
       "-0.27463851814641815"
      ]
     },
     "execution_count": 1764,
     "metadata": {},
     "output_type": "execute_result"
    }
   ],
   "source": [
    "dt.score(X_test, y_test)"
   ]
  },
  {
   "cell_type": "code",
   "execution_count": 1765,
   "metadata": {},
   "outputs": [
    {
     "data": {
      "text/plain": [
       "-0.23542984372932962"
      ]
     },
     "execution_count": 1765,
     "metadata": {},
     "output_type": "execute_result"
    }
   ],
   "source": [
    "svr.score(X_train, y_train)"
   ]
  },
  {
   "cell_type": "code",
   "execution_count": 1766,
   "metadata": {},
   "outputs": [
    {
     "data": {
      "text/plain": [
       "-0.3972830718749927"
      ]
     },
     "execution_count": 1766,
     "metadata": {},
     "output_type": "execute_result"
    }
   ],
   "source": [
    "svr.score(X_test, y_test)"
   ]
  },
  {
   "cell_type": "code",
   "execution_count": 1767,
   "metadata": {},
   "outputs": [],
   "source": [
    "test_preds = lr.predict(X_test)"
   ]
  },
  {
   "cell_type": "code",
   "execution_count": 1768,
   "metadata": {},
   "outputs": [],
   "source": [
    "train_preds = lr.predict(X_train)"
   ]
  },
  {
   "cell_type": "code",
   "execution_count": 1769,
   "metadata": {},
   "outputs": [
    {
     "data": {
      "text/plain": [
       "7531808.965232805"
      ]
     },
     "execution_count": 1769,
     "metadata": {},
     "output_type": "execute_result"
    }
   ],
   "source": [
    "np.sqrt(mean_squared_error(y_test, test_preds))"
   ]
  },
  {
   "cell_type": "code",
   "execution_count": 1770,
   "metadata": {},
   "outputs": [
    {
     "data": {
      "text/plain": [
       "6090124.564577594"
      ]
     },
     "execution_count": 1770,
     "metadata": {},
     "output_type": "execute_result"
    }
   ],
   "source": [
    "np.sqrt(mean_squared_error(y_train, train_preds))"
   ]
  },
  {
   "cell_type": "markdown",
   "metadata": {},
   "source": [
    "# Gridsearching"
   ]
  },
  {
   "cell_type": "code",
   "execution_count": 1570,
   "metadata": {},
   "outputs": [],
   "source": [
    "#Decision Tree\n",
    "\n",
    "dt_grid = GridSearchCV(estimator = DecisionTreeRegressor(),\n",
    "                    param_grid = {'max_depth': [2, 3, 5, 7],\n",
    "                                  'min_samples_split': [5, 10, 15, 20],\n",
    "                                  'min_samples_leaf': [2, 3, 4, 5, 6],\n",
    "                                  'ccp_alpha': [0, 0.001, 0.01, 0.1, 1, 10]},\n",
    "                    cv = 5,\n",
    "                    verbose = 1)"
   ]
  },
  {
   "cell_type": "code",
   "execution_count": 1571,
   "metadata": {},
   "outputs": [],
   "source": [
    "#Random Forest\n",
    "\n",
    "rf_params = {\n",
    "    'n_estimators': [100, 150, 200],\n",
    "    'max_depth': [None, 1, 2, 3, 4, 5],\n",
    "}"
   ]
  },
  {
   "cell_type": "code",
   "execution_count": 1572,
   "metadata": {},
   "outputs": [],
   "source": [
    "#Extra Trees\n",
    "\n",
    "et_params = {\n",
    "    'n_estimators': [100, 150, 200],\n",
    "    'max_depth': [None, 1, 2, 3, 4, 5],\n",
    "}"
   ]
  },
  {
   "cell_type": "markdown",
   "metadata": {},
   "source": [
    "# Feature Engineering for 16-20 w/ sal"
   ]
  },
  {
   "cell_type": "code",
   "execution_count": 1573,
   "metadata": {},
   "outputs": [],
   "source": [
    "# sixteen_to_twenty_with_sal['pts_and_mins'] = sixteen_to_twenty_with_sal['PTS'] * sixteen_to_twenty_with_sal['MP']\n",
    "# sixteen_to_twenty_with_sal['fg_and_mins'] = sixteen_to_twenty_with_sal['FG'] * sixteen_to_twenty_with_sal['MP']"
   ]
  },
  {
   "cell_type": "code",
   "execution_count": 1574,
   "metadata": {},
   "outputs": [
    {
     "data": {
      "image/png": "[encoded data removed]",
      "text/plain": [
       "<Figure size 432x288 with 2 Axes>"
      ]
     },
     "metadata": {
      "needs_background": "light"
     },
     "output_type": "display_data"
    }
   ],
   "source": [
    "sns.heatmap(sixteen_to_twenty_with_sal.corr(), annot=False, cmap='coolwarm');"
   ]
  },
  {
   "cell_type": "code",
   "execution_count": 1575,
   "metadata": {},
   "outputs": [],
   "source": [
    "# features = sixteen_to_twenty_with_sal[['PTS', 'MP', 'GS', 'FG', 'FGA', 'AST', 'FT', 'STL', 'TRB', '3PA', '3P', '2PA']]\n",
    "#features = sixteen_to_twenty_with_sal.drop(['Age', 'Rk', 'Tm', 'Pos', 'Season', 'Player', '2019-20'], axis=1)"
   ]
  },
  {
   "cell_type": "code",
   "execution_count": 1576,
   "metadata": {},
   "outputs": [
    {
     "data": {
      "text/plain": [
       "2019-20    1.000000\n",
       "PTS        0.777871\n",
       "FG         0.767685\n",
       "FGA        0.747993\n",
       "MP         0.738304\n",
       "FT         0.706744\n",
       "GS         0.697379\n",
       "FTA        0.696733\n",
       "2PA        0.684865\n",
       "TOV        0.677175\n",
       "2P         0.676427\n",
       "AST        0.567211\n",
       "STL        0.554729\n",
       "DRB        0.544989\n",
       "TRB        0.466665\n",
       "3PA        0.428419\n",
       "3P         0.423755\n",
       "PF         0.376320\n",
       "G          0.323772\n",
       "BLK        0.271867\n",
       "FT%        0.246529\n",
       "ORB        0.224346\n",
       "3P%        0.157425\n",
       "2P%        0.134902\n",
       "eFG%       0.133224\n",
       "FG%        0.128468\n",
       "Rk        -0.018450\n",
       "Age       -0.048687\n",
       "Name: 2019-20, dtype: float64"
      ]
     },
     "execution_count": 1576,
     "metadata": {},
     "output_type": "execute_result"
    }
   ],
   "source": [
    "sixteen_to_twenty_with_sal.corr()['2019-20'].sort_values(ascending=False)"
   ]
  },
  {
   "cell_type": "code",
   "execution_count": 1577,
   "metadata": {},
   "outputs": [
    {
     "data": {
      "text/plain": [
       "Index(['Player', 'Rk', 'Season', 'Pos', 'Age', 'Tm', 'G', 'GS', 'MP', 'FG',\n",
       "       'FGA', 'FG%', '3P', '3PA', '3P%', '2P', '2PA', '2P%', 'eFG%', 'FT',\n",
       "       'FTA', 'FT%', 'ORB', 'DRB', 'TRB', 'AST', 'STL', 'BLK', 'TOV', 'PF',\n",
       "       'PTS', '2019-20'],\n",
       "      dtype='object')"
      ]
     },
     "execution_count": 1577,
     "metadata": {},
     "output_type": "execute_result"
    }
   ],
   "source": [
    "sixteen_to_twenty_with_sal.columns"
   ]
  },
  {
   "cell_type": "code",
   "execution_count": 1578,
   "metadata": {},
   "outputs": [],
   "source": [
    "features = ['G', 'GS', 'MP', 'FG',\n",
    "       'FGA', 'FG%', '3P', '3PA', '3P%', '2P', '2PA', '2P%', 'eFG%', 'FT',\n",
    "       'FTA', 'FT%', 'ORB', 'DRB', 'TRB', 'AST', 'STL', 'BLK', 'TOV', 'PF',\n",
    "       'PTS']\n",
    "X = sixteen_to_twenty_with_sal[features]\n",
    "\n",
    "#Engineering features based on those that are important to the model"
   ]
  },
  {
   "cell_type": "code",
   "execution_count": 1579,
   "metadata": {},
   "outputs": [],
   "source": [
    "poly = PolynomialFeatures(include_bias=False)"
   ]
  },
  {
   "cell_type": "code",
   "execution_count": 1580,
   "metadata": {},
   "outputs": [],
   "source": [
    "poly_features = poly.fit_transform(X)"
   ]
  },
  {
   "cell_type": "code",
   "execution_count": 1581,
   "metadata": {},
   "outputs": [
    {
     "data": {
      "text/html": [
       "<div>\n",
       "<style scoped>\n",
       "    .dataframe tbody tr th:only-of-type {\n",
       "        vertical-align: middle;\n",
       "    }\n",
       "\n",
       "    .dataframe tbody tr th {\n",
       "        vertical-align: top;\n",
       "    }\n",
       "\n",
       "    .dataframe thead th {\n",
       "        text-align: right;\n",
       "    }\n",
       "</style>\n",
       "<table border=\"1\" class=\"dataframe\">\n",
       "  <thead>\n",
       "    <tr style=\"text-align: right;\">\n",
       "      <th></th>\n",
       "      <th>G</th>\n",
       "      <th>GS</th>\n",
       "      <th>MP</th>\n",
       "      <th>FG</th>\n",
       "      <th>FGA</th>\n",
       "      <th>FG%</th>\n",
       "      <th>3P</th>\n",
       "      <th>3PA</th>\n",
       "      <th>3P%</th>\n",
       "      <th>2P</th>\n",
       "      <th>...</th>\n",
       "      <th>BLK^2</th>\n",
       "      <th>BLK TOV</th>\n",
       "      <th>BLK PF</th>\n",
       "      <th>BLK PTS</th>\n",
       "      <th>TOV^2</th>\n",
       "      <th>TOV PF</th>\n",
       "      <th>TOV PTS</th>\n",
       "      <th>PF^2</th>\n",
       "      <th>PF PTS</th>\n",
       "      <th>PTS^2</th>\n",
       "    </tr>\n",
       "  </thead>\n",
       "  <tbody>\n",
       "    <tr>\n",
       "      <th>0</th>\n",
       "      <td>71.2</td>\n",
       "      <td>61.2</td>\n",
       "      <td>30.36</td>\n",
       "      <td>5.26</td>\n",
       "      <td>11.78</td>\n",
       "      <td>0.4494</td>\n",
       "      <td>1.26</td>\n",
       "      <td>3.84</td>\n",
       "      <td>0.3154</td>\n",
       "      <td>4.04</td>\n",
       "      <td>...</td>\n",
       "      <td>0.4356</td>\n",
       "      <td>0.9768</td>\n",
       "      <td>1.3596</td>\n",
       "      <td>9.2268</td>\n",
       "      <td>2.1904</td>\n",
       "      <td>3.0488</td>\n",
       "      <td>20.6904</td>\n",
       "      <td>4.2436</td>\n",
       "      <td>28.7988</td>\n",
       "      <td>195.4404</td>\n",
       "    </tr>\n",
       "    <tr>\n",
       "      <th>1</th>\n",
       "      <td>71.4</td>\n",
       "      <td>70.2</td>\n",
       "      <td>31.04</td>\n",
       "      <td>5.54</td>\n",
       "      <td>11.26</td>\n",
       "      <td>0.4904</td>\n",
       "      <td>1.26</td>\n",
       "      <td>3.40</td>\n",
       "      <td>0.3676</td>\n",
       "      <td>4.28</td>\n",
       "      <td>...</td>\n",
       "      <td>1.4884</td>\n",
       "      <td>1.8300</td>\n",
       "      <td>2.4156</td>\n",
       "      <td>16.4944</td>\n",
       "      <td>2.2500</td>\n",
       "      <td>2.9700</td>\n",
       "      <td>20.2800</td>\n",
       "      <td>3.9204</td>\n",
       "      <td>26.7696</td>\n",
       "      <td>182.7904</td>\n",
       "    </tr>\n",
       "    <tr>\n",
       "      <th>2</th>\n",
       "      <td>62.2</td>\n",
       "      <td>51.4</td>\n",
       "      <td>27.40</td>\n",
       "      <td>2.90</td>\n",
       "      <td>7.38</td>\n",
       "      <td>0.3856</td>\n",
       "      <td>1.22</td>\n",
       "      <td>3.64</td>\n",
       "      <td>0.3306</td>\n",
       "      <td>1.68</td>\n",
       "      <td>...</td>\n",
       "      <td>0.2916</td>\n",
       "      <td>0.6372</td>\n",
       "      <td>0.9828</td>\n",
       "      <td>4.5252</td>\n",
       "      <td>1.3924</td>\n",
       "      <td>2.1476</td>\n",
       "      <td>9.8884</td>\n",
       "      <td>3.3124</td>\n",
       "      <td>15.2516</td>\n",
       "      <td>70.2244</td>\n",
       "    </tr>\n",
       "    <tr>\n",
       "      <th>3</th>\n",
       "      <td>53.4</td>\n",
       "      <td>9.4</td>\n",
       "      <td>21.16</td>\n",
       "      <td>3.48</td>\n",
       "      <td>8.44</td>\n",
       "      <td>0.4086</td>\n",
       "      <td>1.02</td>\n",
       "      <td>2.74</td>\n",
       "      <td>0.3626</td>\n",
       "      <td>2.44</td>\n",
       "      <td>...</td>\n",
       "      <td>0.0324</td>\n",
       "      <td>0.2052</td>\n",
       "      <td>0.2880</td>\n",
       "      <td>1.8540</td>\n",
       "      <td>1.2996</td>\n",
       "      <td>1.8240</td>\n",
       "      <td>11.7420</td>\n",
       "      <td>2.5600</td>\n",
       "      <td>16.4800</td>\n",
       "      <td>106.0900</td>\n",
       "    </tr>\n",
       "    <tr>\n",
       "      <th>4</th>\n",
       "      <td>71.2</td>\n",
       "      <td>27.2</td>\n",
       "      <td>20.30</td>\n",
       "      <td>3.38</td>\n",
       "      <td>6.74</td>\n",
       "      <td>0.5070</td>\n",
       "      <td>0.26</td>\n",
       "      <td>0.80</td>\n",
       "      <td>0.2720</td>\n",
       "      <td>3.10</td>\n",
       "      <td>...</td>\n",
       "      <td>0.9216</td>\n",
       "      <td>1.2672</td>\n",
       "      <td>2.5344</td>\n",
       "      <td>8.5632</td>\n",
       "      <td>1.7424</td>\n",
       "      <td>3.4848</td>\n",
       "      <td>11.7744</td>\n",
       "      <td>6.9696</td>\n",
       "      <td>23.5488</td>\n",
       "      <td>79.5664</td>\n",
       "    </tr>\n",
       "    <tr>\n",
       "      <th>...</th>\n",
       "      <td>...</td>\n",
       "      <td>...</td>\n",
       "      <td>...</td>\n",
       "      <td>...</td>\n",
       "      <td>...</td>\n",
       "      <td>...</td>\n",
       "      <td>...</td>\n",
       "      <td>...</td>\n",
       "      <td>...</td>\n",
       "      <td>...</td>\n",
       "      <td>...</td>\n",
       "      <td>...</td>\n",
       "      <td>...</td>\n",
       "      <td>...</td>\n",
       "      <td>...</td>\n",
       "      <td>...</td>\n",
       "      <td>...</td>\n",
       "      <td>...</td>\n",
       "      <td>...</td>\n",
       "      <td>...</td>\n",
       "      <td>...</td>\n",
       "    </tr>\n",
       "    <tr>\n",
       "      <th>207</th>\n",
       "      <td>60.8</td>\n",
       "      <td>19.0</td>\n",
       "      <td>22.40</td>\n",
       "      <td>3.10</td>\n",
       "      <td>7.78</td>\n",
       "      <td>0.3932</td>\n",
       "      <td>2.12</td>\n",
       "      <td>5.68</td>\n",
       "      <td>0.3698</td>\n",
       "      <td>0.98</td>\n",
       "      <td>...</td>\n",
       "      <td>0.0100</td>\n",
       "      <td>0.0620</td>\n",
       "      <td>0.1240</td>\n",
       "      <td>0.8960</td>\n",
       "      <td>0.3844</td>\n",
       "      <td>0.7688</td>\n",
       "      <td>5.5552</td>\n",
       "      <td>1.5376</td>\n",
       "      <td>11.1104</td>\n",
       "      <td>80.2816</td>\n",
       "    </tr>\n",
       "    <tr>\n",
       "      <th>208</th>\n",
       "      <td>70.0</td>\n",
       "      <td>69.6</td>\n",
       "      <td>31.32</td>\n",
       "      <td>3.96</td>\n",
       "      <td>10.00</td>\n",
       "      <td>0.3966</td>\n",
       "      <td>2.20</td>\n",
       "      <td>5.98</td>\n",
       "      <td>0.3680</td>\n",
       "      <td>1.78</td>\n",
       "      <td>...</td>\n",
       "      <td>0.0400</td>\n",
       "      <td>0.2240</td>\n",
       "      <td>0.4200</td>\n",
       "      <td>2.3320</td>\n",
       "      <td>1.2544</td>\n",
       "      <td>2.3520</td>\n",
       "      <td>13.0592</td>\n",
       "      <td>4.4100</td>\n",
       "      <td>24.4860</td>\n",
       "      <td>135.9556</td>\n",
       "    </tr>\n",
       "    <tr>\n",
       "      <th>209</th>\n",
       "      <td>64.8</td>\n",
       "      <td>31.2</td>\n",
       "      <td>30.18</td>\n",
       "      <td>5.16</td>\n",
       "      <td>11.84</td>\n",
       "      <td>0.4358</td>\n",
       "      <td>1.66</td>\n",
       "      <td>4.54</td>\n",
       "      <td>0.3604</td>\n",
       "      <td>3.54</td>\n",
       "      <td>...</td>\n",
       "      <td>0.2704</td>\n",
       "      <td>0.8424</td>\n",
       "      <td>1.0088</td>\n",
       "      <td>7.3216</td>\n",
       "      <td>2.6244</td>\n",
       "      <td>3.1428</td>\n",
       "      <td>22.8096</td>\n",
       "      <td>3.7636</td>\n",
       "      <td>27.3152</td>\n",
       "      <td>198.2464</td>\n",
       "    </tr>\n",
       "    <tr>\n",
       "      <th>210</th>\n",
       "      <td>69.8</td>\n",
       "      <td>47.6</td>\n",
       "      <td>23.18</td>\n",
       "      <td>3.98</td>\n",
       "      <td>7.36</td>\n",
       "      <td>0.5460</td>\n",
       "      <td>0.00</td>\n",
       "      <td>0.04</td>\n",
       "      <td>0.1500</td>\n",
       "      <td>3.98</td>\n",
       "      <td>...</td>\n",
       "      <td>0.7056</td>\n",
       "      <td>0.8064</td>\n",
       "      <td>1.9656</td>\n",
       "      <td>7.8960</td>\n",
       "      <td>0.9216</td>\n",
       "      <td>2.2464</td>\n",
       "      <td>9.0240</td>\n",
       "      <td>5.4756</td>\n",
       "      <td>21.9960</td>\n",
       "      <td>88.3600</td>\n",
       "    </tr>\n",
       "    <tr>\n",
       "      <th>211</th>\n",
       "      <td>55.2</td>\n",
       "      <td>45.2</td>\n",
       "      <td>32.36</td>\n",
       "      <td>7.06</td>\n",
       "      <td>15.92</td>\n",
       "      <td>0.4422</td>\n",
       "      <td>2.18</td>\n",
       "      <td>5.76</td>\n",
       "      <td>0.3742</td>\n",
       "      <td>4.90</td>\n",
       "      <td>...</td>\n",
       "      <td>0.0900</td>\n",
       "      <td>0.7380</td>\n",
       "      <td>0.6780</td>\n",
       "      <td>5.9280</td>\n",
       "      <td>6.0516</td>\n",
       "      <td>5.5596</td>\n",
       "      <td>48.6096</td>\n",
       "      <td>5.1076</td>\n",
       "      <td>44.6576</td>\n",
       "      <td>390.4576</td>\n",
       "    </tr>\n",
       "  </tbody>\n",
       "</table>\n",
       "<p>212 rows × 350 columns</p>\n",
       "</div>"
      ],
      "text/plain": [
       "        G    GS     MP    FG    FGA     FG%    3P   3PA     3P%    2P  ...  \\\n",
       "0    71.2  61.2  30.36  5.26  11.78  0.4494  1.26  3.84  0.3154  4.04  ...   \n",
       "1    71.4  70.2  31.04  5.54  11.26  0.4904  1.26  3.40  0.3676  4.28  ...   \n",
       "2    62.2  51.4  27.40  2.90   7.38  0.3856  1.22  3.64  0.3306  1.68  ...   \n",
       "3    53.4   9.4  21.16  3.48   8.44  0.4086  1.02  2.74  0.3626  2.44  ...   \n",
       "4    71.2  27.2  20.30  3.38   6.74  0.5070  0.26  0.80  0.2720  3.10  ...   \n",
       "..    ...   ...    ...   ...    ...     ...   ...   ...     ...   ...  ...   \n",
       "207  60.8  19.0  22.40  3.10   7.78  0.3932  2.12  5.68  0.3698  0.98  ...   \n",
       "208  70.0  69.6  31.32  3.96  10.00  0.3966  2.20  5.98  0.3680  1.78  ...   \n",
       "209  64.8  31.2  30.18  5.16  11.84  0.4358  1.66  4.54  0.3604  3.54  ...   \n",
       "210  69.8  47.6  23.18  3.98   7.36  0.5460  0.00  0.04  0.1500  3.98  ...   \n",
       "211  55.2  45.2  32.36  7.06  15.92  0.4422  2.18  5.76  0.3742  4.90  ...   \n",
       "\n",
       "      BLK^2  BLK TOV  BLK PF  BLK PTS   TOV^2  TOV PF  TOV PTS    PF^2  \\\n",
       "0    0.4356   0.9768  1.3596   9.2268  2.1904  3.0488  20.6904  4.2436   \n",
       "1    1.4884   1.8300  2.4156  16.4944  2.2500  2.9700  20.2800  3.9204   \n",
       "2    0.2916   0.6372  0.9828   4.5252  1.3924  2.1476   9.8884  3.3124   \n",
       "3    0.0324   0.2052  0.2880   1.8540  1.2996  1.8240  11.7420  2.5600   \n",
       "4    0.9216   1.2672  2.5344   8.5632  1.7424  3.4848  11.7744  6.9696   \n",
       "..      ...      ...     ...      ...     ...     ...      ...     ...   \n",
       "207  0.0100   0.0620  0.1240   0.8960  0.3844  0.7688   5.5552  1.5376   \n",
       "208  0.0400   0.2240  0.4200   2.3320  1.2544  2.3520  13.0592  4.4100   \n",
       "209  0.2704   0.8424  1.0088   7.3216  2.6244  3.1428  22.8096  3.7636   \n",
       "210  0.7056   0.8064  1.9656   7.8960  0.9216  2.2464   9.0240  5.4756   \n",
       "211  0.0900   0.7380  0.6780   5.9280  6.0516  5.5596  48.6096  5.1076   \n",
       "\n",
       "      PF PTS     PTS^2  \n",
       "0    28.7988  195.4404  \n",
       "1    26.7696  182.7904  \n",
       "2    15.2516   70.2244  \n",
       "3    16.4800  106.0900  \n",
       "4    23.5488   79.5664  \n",
       "..       ...       ...  \n",
       "207  11.1104   80.2816  \n",
       "208  24.4860  135.9556  \n",
       "209  27.3152  198.2464  \n",
       "210  21.9960   88.3600  \n",
       "211  44.6576  390.4576  \n",
       "\n",
       "[212 rows x 350 columns]"
      ]
     },
     "execution_count": 1581,
     "metadata": {},
     "output_type": "execute_result"
    }
   ],
   "source": [
    "df_poly = pd.DataFrame(poly_features, columns=poly.get_feature_names(features))\n",
    "df_poly"
   ]
  },
  {
   "cell_type": "code",
   "execution_count": 1595,
   "metadata": {},
   "outputs": [],
   "source": [
    "twenty_sal = sixteen_to_twenty_with_sal['2019-20']"
   ]
  },
  {
   "cell_type": "code",
   "execution_count": 1596,
   "metadata": {},
   "outputs": [],
   "source": [
    "df_poly['salary'] = twenty_sal"
   ]
  },
  {
   "cell_type": "code",
   "execution_count": 1597,
   "metadata": {},
   "outputs": [
    {
     "data": {
      "text/html": [
       "<div>\n",
       "<style scoped>\n",
       "    .dataframe tbody tr th:only-of-type {\n",
       "        vertical-align: middle;\n",
       "    }\n",
       "\n",
       "    .dataframe tbody tr th {\n",
       "        vertical-align: top;\n",
       "    }\n",
       "\n",
       "    .dataframe thead th {\n",
       "        text-align: right;\n",
       "    }\n",
       "</style>\n",
       "<table border=\"1\" class=\"dataframe\">\n",
       "  <thead>\n",
       "    <tr style=\"text-align: right;\">\n",
       "      <th></th>\n",
       "      <th>G</th>\n",
       "      <th>GS</th>\n",
       "      <th>MP</th>\n",
       "      <th>FG</th>\n",
       "      <th>FGA</th>\n",
       "      <th>FG%</th>\n",
       "      <th>3P</th>\n",
       "      <th>3PA</th>\n",
       "      <th>3P%</th>\n",
       "      <th>2P</th>\n",
       "      <th>...</th>\n",
       "      <th>BLK TOV</th>\n",
       "      <th>BLK PF</th>\n",
       "      <th>BLK PTS</th>\n",
       "      <th>TOV^2</th>\n",
       "      <th>TOV PF</th>\n",
       "      <th>TOV PTS</th>\n",
       "      <th>PF^2</th>\n",
       "      <th>PF PTS</th>\n",
       "      <th>PTS^2</th>\n",
       "      <th>salary</th>\n",
       "    </tr>\n",
       "  </thead>\n",
       "  <tbody>\n",
       "    <tr>\n",
       "      <th>0</th>\n",
       "      <td>71.2</td>\n",
       "      <td>61.2</td>\n",
       "      <td>30.36</td>\n",
       "      <td>5.26</td>\n",
       "      <td>11.78</td>\n",
       "      <td>0.4494</td>\n",
       "      <td>1.26</td>\n",
       "      <td>3.84</td>\n",
       "      <td>0.3154</td>\n",
       "      <td>4.04</td>\n",
       "      <td>...</td>\n",
       "      <td>0.9768</td>\n",
       "      <td>1.3596</td>\n",
       "      <td>9.2268</td>\n",
       "      <td>2.1904</td>\n",
       "      <td>3.0488</td>\n",
       "      <td>20.6904</td>\n",
       "      <td>4.2436</td>\n",
       "      <td>28.7988</td>\n",
       "      <td>195.4404</td>\n",
       "      <td>19863636</td>\n",
       "    </tr>\n",
       "    <tr>\n",
       "      <th>1</th>\n",
       "      <td>71.4</td>\n",
       "      <td>70.2</td>\n",
       "      <td>31.04</td>\n",
       "      <td>5.54</td>\n",
       "      <td>11.26</td>\n",
       "      <td>0.4904</td>\n",
       "      <td>1.26</td>\n",
       "      <td>3.40</td>\n",
       "      <td>0.3676</td>\n",
       "      <td>4.28</td>\n",
       "      <td>...</td>\n",
       "      <td>1.8300</td>\n",
       "      <td>2.4156</td>\n",
       "      <td>16.4944</td>\n",
       "      <td>2.2500</td>\n",
       "      <td>2.9700</td>\n",
       "      <td>20.2800</td>\n",
       "      <td>3.9204</td>\n",
       "      <td>26.7696</td>\n",
       "      <td>182.7904</td>\n",
       "      <td>28000000</td>\n",
       "    </tr>\n",
       "    <tr>\n",
       "      <th>2</th>\n",
       "      <td>62.2</td>\n",
       "      <td>51.4</td>\n",
       "      <td>27.40</td>\n",
       "      <td>2.90</td>\n",
       "      <td>7.38</td>\n",
       "      <td>0.3856</td>\n",
       "      <td>1.22</td>\n",
       "      <td>3.64</td>\n",
       "      <td>0.3306</td>\n",
       "      <td>1.68</td>\n",
       "      <td>...</td>\n",
       "      <td>0.6372</td>\n",
       "      <td>0.9828</td>\n",
       "      <td>4.5252</td>\n",
       "      <td>1.3924</td>\n",
       "      <td>2.1476</td>\n",
       "      <td>9.8884</td>\n",
       "      <td>3.3124</td>\n",
       "      <td>15.2516</td>\n",
       "      <td>70.2244</td>\n",
       "      <td>9258000</td>\n",
       "    </tr>\n",
       "    <tr>\n",
       "      <th>3</th>\n",
       "      <td>53.4</td>\n",
       "      <td>9.4</td>\n",
       "      <td>21.16</td>\n",
       "      <td>3.48</td>\n",
       "      <td>8.44</td>\n",
       "      <td>0.4086</td>\n",
       "      <td>1.02</td>\n",
       "      <td>2.74</td>\n",
       "      <td>0.3626</td>\n",
       "      <td>2.44</td>\n",
       "      <td>...</td>\n",
       "      <td>0.2052</td>\n",
       "      <td>0.2880</td>\n",
       "      <td>1.8540</td>\n",
       "      <td>1.2996</td>\n",
       "      <td>1.8240</td>\n",
       "      <td>11.7420</td>\n",
       "      <td>2.5600</td>\n",
       "      <td>16.4800</td>\n",
       "      <td>106.0900</td>\n",
       "      <td>2320044</td>\n",
       "    </tr>\n",
       "    <tr>\n",
       "      <th>4</th>\n",
       "      <td>71.2</td>\n",
       "      <td>27.2</td>\n",
       "      <td>20.30</td>\n",
       "      <td>3.38</td>\n",
       "      <td>6.74</td>\n",
       "      <td>0.5070</td>\n",
       "      <td>0.26</td>\n",
       "      <td>0.80</td>\n",
       "      <td>0.2720</td>\n",
       "      <td>3.10</td>\n",
       "      <td>...</td>\n",
       "      <td>1.2672</td>\n",
       "      <td>2.5344</td>\n",
       "      <td>8.5632</td>\n",
       "      <td>1.7424</td>\n",
       "      <td>3.4848</td>\n",
       "      <td>11.7744</td>\n",
       "      <td>6.9696</td>\n",
       "      <td>23.5488</td>\n",
       "      <td>79.5664</td>\n",
       "      <td>4160000</td>\n",
       "    </tr>\n",
       "    <tr>\n",
       "      <th>...</th>\n",
       "      <td>...</td>\n",
       "      <td>...</td>\n",
       "      <td>...</td>\n",
       "      <td>...</td>\n",
       "      <td>...</td>\n",
       "      <td>...</td>\n",
       "      <td>...</td>\n",
       "      <td>...</td>\n",
       "      <td>...</td>\n",
       "      <td>...</td>\n",
       "      <td>...</td>\n",
       "      <td>...</td>\n",
       "      <td>...</td>\n",
       "      <td>...</td>\n",
       "      <td>...</td>\n",
       "      <td>...</td>\n",
       "      <td>...</td>\n",
       "      <td>...</td>\n",
       "      <td>...</td>\n",
       "      <td>...</td>\n",
       "      <td>...</td>\n",
       "    </tr>\n",
       "    <tr>\n",
       "      <th>207</th>\n",
       "      <td>60.8</td>\n",
       "      <td>19.0</td>\n",
       "      <td>22.40</td>\n",
       "      <td>3.10</td>\n",
       "      <td>7.78</td>\n",
       "      <td>0.3932</td>\n",
       "      <td>2.12</td>\n",
       "      <td>5.68</td>\n",
       "      <td>0.3698</td>\n",
       "      <td>0.98</td>\n",
       "      <td>...</td>\n",
       "      <td>0.0620</td>\n",
       "      <td>0.1240</td>\n",
       "      <td>0.8960</td>\n",
       "      <td>0.3844</td>\n",
       "      <td>0.7688</td>\n",
       "      <td>5.5552</td>\n",
       "      <td>1.5376</td>\n",
       "      <td>11.1104</td>\n",
       "      <td>80.2816</td>\n",
       "      <td>7804878</td>\n",
       "    </tr>\n",
       "    <tr>\n",
       "      <th>208</th>\n",
       "      <td>70.0</td>\n",
       "      <td>69.6</td>\n",
       "      <td>31.32</td>\n",
       "      <td>3.96</td>\n",
       "      <td>10.00</td>\n",
       "      <td>0.3966</td>\n",
       "      <td>2.20</td>\n",
       "      <td>5.98</td>\n",
       "      <td>0.3680</td>\n",
       "      <td>1.78</td>\n",
       "      <td>...</td>\n",
       "      <td>0.2240</td>\n",
       "      <td>0.4200</td>\n",
       "      <td>2.3320</td>\n",
       "      <td>1.2544</td>\n",
       "      <td>2.3520</td>\n",
       "      <td>13.0592</td>\n",
       "      <td>4.4100</td>\n",
       "      <td>24.4860</td>\n",
       "      <td>135.9556</td>\n",
       "      <td>2564753</td>\n",
       "    </tr>\n",
       "    <tr>\n",
       "      <th>209</th>\n",
       "      <td>64.8</td>\n",
       "      <td>31.2</td>\n",
       "      <td>30.18</td>\n",
       "      <td>5.16</td>\n",
       "      <td>11.84</td>\n",
       "      <td>0.4358</td>\n",
       "      <td>1.66</td>\n",
       "      <td>4.54</td>\n",
       "      <td>0.3604</td>\n",
       "      <td>3.54</td>\n",
       "      <td>...</td>\n",
       "      <td>0.8424</td>\n",
       "      <td>1.0088</td>\n",
       "      <td>7.3216</td>\n",
       "      <td>2.6244</td>\n",
       "      <td>3.1428</td>\n",
       "      <td>22.8096</td>\n",
       "      <td>3.7636</td>\n",
       "      <td>27.3152</td>\n",
       "      <td>198.2464</td>\n",
       "      <td>12960000</td>\n",
       "    </tr>\n",
       "    <tr>\n",
       "      <th>210</th>\n",
       "      <td>69.8</td>\n",
       "      <td>47.6</td>\n",
       "      <td>23.18</td>\n",
       "      <td>3.98</td>\n",
       "      <td>7.36</td>\n",
       "      <td>0.5460</td>\n",
       "      <td>0.00</td>\n",
       "      <td>0.04</td>\n",
       "      <td>0.1500</td>\n",
       "      <td>3.98</td>\n",
       "      <td>...</td>\n",
       "      <td>0.8064</td>\n",
       "      <td>1.9656</td>\n",
       "      <td>7.8960</td>\n",
       "      <td>0.9216</td>\n",
       "      <td>2.2464</td>\n",
       "      <td>9.0240</td>\n",
       "      <td>5.4756</td>\n",
       "      <td>21.9960</td>\n",
       "      <td>88.3600</td>\n",
       "      <td>2177483</td>\n",
       "    </tr>\n",
       "    <tr>\n",
       "      <th>211</th>\n",
       "      <td>55.2</td>\n",
       "      <td>45.2</td>\n",
       "      <td>32.36</td>\n",
       "      <td>7.06</td>\n",
       "      <td>15.92</td>\n",
       "      <td>0.4422</td>\n",
       "      <td>2.18</td>\n",
       "      <td>5.76</td>\n",
       "      <td>0.3742</td>\n",
       "      <td>4.90</td>\n",
       "      <td>...</td>\n",
       "      <td>0.7380</td>\n",
       "      <td>0.6780</td>\n",
       "      <td>5.9280</td>\n",
       "      <td>6.0516</td>\n",
       "      <td>5.5596</td>\n",
       "      <td>48.6096</td>\n",
       "      <td>5.1076</td>\n",
       "      <td>44.6576</td>\n",
       "      <td>390.4576</td>\n",
       "      <td>19500000</td>\n",
       "    </tr>\n",
       "  </tbody>\n",
       "</table>\n",
       "<p>212 rows × 351 columns</p>\n",
       "</div>"
      ],
      "text/plain": [
       "        G    GS     MP    FG    FGA     FG%    3P   3PA     3P%    2P  ...  \\\n",
       "0    71.2  61.2  30.36  5.26  11.78  0.4494  1.26  3.84  0.3154  4.04  ...   \n",
       "1    71.4  70.2  31.04  5.54  11.26  0.4904  1.26  3.40  0.3676  4.28  ...   \n",
       "2    62.2  51.4  27.40  2.90   7.38  0.3856  1.22  3.64  0.3306  1.68  ...   \n",
       "3    53.4   9.4  21.16  3.48   8.44  0.4086  1.02  2.74  0.3626  2.44  ...   \n",
       "4    71.2  27.2  20.30  3.38   6.74  0.5070  0.26  0.80  0.2720  3.10  ...   \n",
       "..    ...   ...    ...   ...    ...     ...   ...   ...     ...   ...  ...   \n",
       "207  60.8  19.0  22.40  3.10   7.78  0.3932  2.12  5.68  0.3698  0.98  ...   \n",
       "208  70.0  69.6  31.32  3.96  10.00  0.3966  2.20  5.98  0.3680  1.78  ...   \n",
       "209  64.8  31.2  30.18  5.16  11.84  0.4358  1.66  4.54  0.3604  3.54  ...   \n",
       "210  69.8  47.6  23.18  3.98   7.36  0.5460  0.00  0.04  0.1500  3.98  ...   \n",
       "211  55.2  45.2  32.36  7.06  15.92  0.4422  2.18  5.76  0.3742  4.90  ...   \n",
       "\n",
       "     BLK TOV  BLK PF  BLK PTS   TOV^2  TOV PF  TOV PTS    PF^2   PF PTS  \\\n",
       "0     0.9768  1.3596   9.2268  2.1904  3.0488  20.6904  4.2436  28.7988   \n",
       "1     1.8300  2.4156  16.4944  2.2500  2.9700  20.2800  3.9204  26.7696   \n",
       "2     0.6372  0.9828   4.5252  1.3924  2.1476   9.8884  3.3124  15.2516   \n",
       "3     0.2052  0.2880   1.8540  1.2996  1.8240  11.7420  2.5600  16.4800   \n",
       "4     1.2672  2.5344   8.5632  1.7424  3.4848  11.7744  6.9696  23.5488   \n",
       "..       ...     ...      ...     ...     ...      ...     ...      ...   \n",
       "207   0.0620  0.1240   0.8960  0.3844  0.7688   5.5552  1.5376  11.1104   \n",
       "208   0.2240  0.4200   2.3320  1.2544  2.3520  13.0592  4.4100  24.4860   \n",
       "209   0.8424  1.0088   7.3216  2.6244  3.1428  22.8096  3.7636  27.3152   \n",
       "210   0.8064  1.9656   7.8960  0.9216  2.2464   9.0240  5.4756  21.9960   \n",
       "211   0.7380  0.6780   5.9280  6.0516  5.5596  48.6096  5.1076  44.6576   \n",
       "\n",
       "        PTS^2    salary  \n",
       "0    195.4404  19863636  \n",
       "1    182.7904  28000000  \n",
       "2     70.2244   9258000  \n",
       "3    106.0900   2320044  \n",
       "4     79.5664   4160000  \n",
       "..        ...       ...  \n",
       "207   80.2816   7804878  \n",
       "208  135.9556   2564753  \n",
       "209  198.2464  12960000  \n",
       "210   88.3600   2177483  \n",
       "211  390.4576  19500000  \n",
       "\n",
       "[212 rows x 351 columns]"
      ]
     },
     "execution_count": 1597,
     "metadata": {},
     "output_type": "execute_result"
    }
   ],
   "source": [
    "df_poly"
   ]
  },
  {
   "cell_type": "code",
   "execution_count": 1772,
   "metadata": {},
   "outputs": [
    {
     "data": {
      "text/plain": [
       "salary      1.000000\n",
       "GS PTS      0.804791\n",
       "MP PTS      0.799904\n",
       "GS FG       0.798205\n",
       "MP FG       0.797308\n",
       "              ...   \n",
       "2P%^2       0.122320\n",
       "FG% eFG%    0.118835\n",
       "eFG%^2      0.118816\n",
       "FG% 2P%     0.115947\n",
       "FG%^2       0.104090\n",
       "Name: salary, Length: 351, dtype: float64"
      ]
     },
     "execution_count": 1772,
     "metadata": {},
     "output_type": "execute_result"
    }
   ],
   "source": [
    "df_poly.corr()['salary'].sort_values(ascending=False)"
   ]
  },
  {
   "cell_type": "code",
   "execution_count": 1616,
   "metadata": {},
   "outputs": [],
   "source": [
    "X = df_poly[['GS PTS', 'MP PTS', 'GS FG', 'MP FG']]\n",
    "y = sixteen_to_twenty_with_sal['2019-20']\n",
    "\n",
    "#Beginning modeling with polynomial features"
   ]
  },
  {
   "cell_type": "code",
   "execution_count": 1617,
   "metadata": {},
   "outputs": [],
   "source": [
    "X_train, X_test, y_train, y_test = train_test_split(X, y, test_size = 0.30, random_state = 42)"
   ]
  },
  {
   "cell_type": "code",
   "execution_count": 1618,
   "metadata": {},
   "outputs": [
    {
     "data": {
      "text/plain": [
       "ExtraTreesRegressor()"
      ]
     },
     "execution_count": 1618,
     "metadata": {},
     "output_type": "execute_result"
    }
   ],
   "source": [
    "lr.fit(X_train, y_train)\n",
    "knnr.fit(X_train, y_train)\n",
    "dt.fit(X_train, y_train)\n",
    "br.fit(X_train, y_train)\n",
    "rf.fit(X_train, y_train)\n",
    "svr.fit(X_train, y_train)\n",
    "et.fit(X_train, y_train)"
   ]
  },
  {
   "cell_type": "code",
   "execution_count": 1619,
   "metadata": {},
   "outputs": [
    {
     "data": {
      "text/plain": [
       "0.6525746004464315"
      ]
     },
     "execution_count": 1619,
     "metadata": {},
     "output_type": "execute_result"
    }
   ],
   "source": [
    "lr.score(X_train, y_train)"
   ]
  },
  {
   "cell_type": "code",
   "execution_count": 1620,
   "metadata": {},
   "outputs": [
    {
     "data": {
      "text/plain": [
       "0.6755916456709952"
      ]
     },
     "execution_count": 1620,
     "metadata": {},
     "output_type": "execute_result"
    }
   ],
   "source": [
    "lr.score(X_test, y_test)\n",
    "#Decent r-squared and not as big of a problem with under/overfitting, but let's check our RMSE"
   ]
  },
  {
   "cell_type": "code",
   "execution_count": 1621,
   "metadata": {},
   "outputs": [],
   "source": [
    "test_preds = lr.predict(X_test)"
   ]
  },
  {
   "cell_type": "code",
   "execution_count": 1622,
   "metadata": {},
   "outputs": [],
   "source": [
    "train_preds = lr.predict(X_train)"
   ]
  },
  {
   "cell_type": "code",
   "execution_count": 1623,
   "metadata": {},
   "outputs": [
    {
     "data": {
      "text/plain": [
       "6084114.315611926"
      ]
     },
     "execution_count": 1623,
     "metadata": {},
     "output_type": "execute_result"
    }
   ],
   "source": [
    "np.sqrt(mean_squared_error(y_train, train_preds))"
   ]
  },
  {
   "cell_type": "code",
   "execution_count": 1624,
   "metadata": {},
   "outputs": [
    {
     "data": {
      "text/plain": [
       "5568278.7529211845"
      ]
     },
     "execution_count": 1624,
     "metadata": {},
     "output_type": "execute_result"
    }
   ],
   "source": [
    "np.sqrt(mean_squared_error(y_test, test_preds))\n",
    "#RMSE on test data is still very high"
   ]
  },
  {
   "cell_type": "code",
   "execution_count": 1625,
   "metadata": {},
   "outputs": [
    {
     "data": {
      "text/plain": [
       "0.7571412101528118"
      ]
     },
     "execution_count": 1625,
     "metadata": {},
     "output_type": "execute_result"
    }
   ],
   "source": [
    "knnr.score(X_train, y_train)"
   ]
  },
  {
   "cell_type": "code",
   "execution_count": 1627,
   "metadata": {},
   "outputs": [
    {
     "data": {
      "text/plain": [
       "0.5814849870856944"
      ]
     },
     "execution_count": 1627,
     "metadata": {},
     "output_type": "execute_result"
    }
   ],
   "source": [
    "knnr.score(X_test, y_test)"
   ]
  },
  {
   "cell_type": "code",
   "execution_count": 1628,
   "metadata": {},
   "outputs": [
    {
     "name": "stdout",
     "output_type": "stream",
     "text": [
      "Fitting 5 folds for each of 80 candidates, totalling 400 fits\n"
     ]
    },
    {
     "name": "stderr",
     "output_type": "stream",
     "text": [
      "[Parallel(n_jobs=1)]: Using backend SequentialBackend with 1 concurrent workers.\n",
      "[Parallel(n_jobs=1)]: Done 400 out of 400 | elapsed:    3.3s finished\n"
     ]
    },
    {
     "data": {
      "text/plain": [
       "GridSearchCV(cv=5, estimator=KNeighborsRegressor(),\n",
       "             param_grid={'leaf_size': [20, 30, 40, 50],\n",
       "                         'n_neighbors': range(1, 100, 10),\n",
       "                         'weights': ['uniform', 'distance']},\n",
       "             verbose=1)"
      ]
     },
     "execution_count": 1628,
     "metadata": {},
     "output_type": "execute_result"
    }
   ],
   "source": [
    "knn_gridsearch.fit(X_train, y_train)"
   ]
  },
  {
   "cell_type": "code",
   "execution_count": 1629,
   "metadata": {},
   "outputs": [
    {
     "data": {
      "text/plain": [
       "1.0"
      ]
     },
     "execution_count": 1629,
     "metadata": {},
     "output_type": "execute_result"
    }
   ],
   "source": [
    "knn_gridsearch.score(X_train, y_train)"
   ]
  },
  {
   "cell_type": "code",
   "execution_count": 1630,
   "metadata": {},
   "outputs": [
    {
     "data": {
      "text/plain": [
       "0.6858608939014197"
      ]
     },
     "execution_count": 1630,
     "metadata": {},
     "output_type": "execute_result"
    }
   ],
   "source": [
    "knn_gridsearch.score(X_test, y_test)"
   ]
  },
  {
   "cell_type": "code",
   "execution_count": 1631,
   "metadata": {},
   "outputs": [
    {
     "data": {
      "text/plain": [
       "6084114.315611926"
      ]
     },
     "execution_count": 1631,
     "metadata": {},
     "output_type": "execute_result"
    }
   ],
   "source": [
    "np.sqrt(mean_squared_error(y_train, train_preds))"
   ]
  },
  {
   "cell_type": "code",
   "execution_count": 1632,
   "metadata": {},
   "outputs": [
    {
     "data": {
      "text/plain": [
       "5568278.7529211845"
      ]
     },
     "execution_count": 1632,
     "metadata": {},
     "output_type": "execute_result"
    }
   ],
   "source": [
    "np.sqrt(mean_squared_error(y_test, test_preds))\n",
    "#RMSE high in KNN model after gridsearching as well"
   ]
  },
  {
   "cell_type": "markdown",
   "metadata": {},
   "source": [
    "After bringing in polynomial features, my scores are still similar to how they performed originally. Even when gridsearching. I'll continue to try to improve the scores, but I think I will start moving towards classification."
   ]
  },
  {
   "cell_type": "markdown",
   "metadata": {},
   "source": [
    "With the classification models, I'll be using a function to use several years of data. I was working primarily with one year of salary in this notebook to get a feel for how the regression would work"
   ]
  }
 ],
 "metadata": {
  "kernelspec": {
   "display_name": "Python 3",
   "language": "python",
   "name": "python3"
  },
  "language_info": {
   "codemirror_mode": {
    "name": "ipython",
    "version": 3
   },
   "file_extension": ".py",
   "mimetype": "text/x-python",
   "name": "python",
   "nbconvert_exporter": "python",
   "pygments_lexer": "ipython3",
   "version": "3.8.3"
  }
 },
 "nbformat": 4,
 "nbformat_minor": 4
}
