{
 "cells": [
  {
   "cell_type": "code",
   "execution_count": 1214,
   "metadata": {},
   "outputs": [],
   "source": [
    "import pandas as pd\n",
    "import numpy as np\n",
    "import seaborn as sns\n",
    "import matplotlib.pyplot as plt\n",
    "from sklearn.linear_model import LinearRegression, LogisticRegression, Ridge, RidgeCV, Lasso, \\\n",
    "LassoCV, ElasticNet, ElasticNetCV\n",
    "from sklearn.model_selection import train_test_split, cross_val_score, GridSearchCV\n",
    "from sklearn.pipeline import Pipeline\n",
    "from sklearn.metrics import mean_squared_error, r2_score, accuracy_score, silhouette_score, plot_confusion_matrix\n",
    "from sklearn.preprocessing import StandardScaler, PolynomialFeatures\n",
    "from sklearn.tree import DecisionTreeRegressor, DecisionTreeClassifier\n",
    "from sklearn.ensemble import BaggingRegressor, RandomForestRegressor, ExtraTreesRegressor, ExtraTreesClassifier, RandomForestClassifier, BaggingClassifier\n",
    "from sklearn.neighbors import KNeighborsRegressor, KNeighborsClassifier\n",
    "from sklearn.svm import SVR, SVC\n",
    "from sklearn.decomposition import PCA\n",
    "from sklearn.naive_bayes import MultinomialNB, BernoulliNB\n",
    "\n",
    "from sklearn.cluster import KMeans\n",
    "from sklearn.preprocessing import StandardScaler\n",
    "from sklearn.datasets import make_blobs\n",
    "from sklearn.metrics import silhouette_score\n",
    "from sklearn.feature_selection import f_classif"
   ]
  },
  {
   "cell_type": "code",
   "execution_count": 1215,
   "metadata": {},
   "outputs": [],
   "source": [
    "twenty_stats = pd.read_csv('./datasets/twenty_STATS.csv')\n",
    "nineteen_stats = pd.read_csv('./datasets/nineteen_STATS.csv')\n",
    "eighteen_stats =  pd.read_csv('./datasets/eighteen_STATS.csv')\n",
    "seventeen_stats = pd.read_csv('./datasets/seventeen_STATS.csv')\n",
    "sixteen_stats = pd.read_csv('./datasets/sixteen_STATS.csv')\n",
    "fifteen_stats = pd.read_csv('./datasets/fifteen_STATS.csv')\n",
    "fourteen_stats = pd.read_csv('./datasets/fourteen_STATS.csv')\n",
    "thirteen_stats = pd.read_csv('./datasets/thirteen_STATS.csv')\n",
    "twelve_stats = pd.read_csv('./datasets/twelve_STATS.csv')\n",
    "eleven_stats = pd.read_csv('./datasets/eleven_STATS.csv')\n",
    "\n",
    "\n",
    "eleven_salary = pd.read_csv('./datasets/eleven_salary.csv')\n",
    "twelve_salary = pd.read_csv('./datasets/twelve_salary.csv')\n",
    "thirtheen_salary = pd.read_csv('./datasets/thirtheen_salary.csv')\n",
    "fourteen_salary = pd.read_csv('./datasets/fourteen_salary.csv')\n",
    "fifteen_salary = pd.read_csv('./datasets/fifteen_salary.csv')\n",
    "sixteen_salary = pd.read_csv('./datasets/sixteen_salary.csv')\n",
    "seventeen_salary = pd.read_csv('./datasets/seventeen_salary.csv')\n",
    "eighteen_salary = pd.read_csv('./datasets/eighteen_salary.csv')\n",
    "twenty_salary = pd.read_csv('./datasets/twenty_salary_cond.csv')\n",
    "\n",
    "\n",
    "twenty_stats_and_sal = pd.read_csv('./datasets/twenty_stats_and_sal.csv')\n",
    "sixteen_to_twenty_with_sal = pd.read_csv('./datasets/sixteen_to_twenty_with_sal.csv')\n",
    "seventeen_to_twenty_with_sal = pd.read_csv('./datasets/seventeen_to_twenty_with_sal.csv')\n",
    "eleven_to_fifteen_with_sal = pd.read_csv('./datasets/eleven_to_fifteen_with_sal.csv')\n",
    "twelve_to_sixteen_with_sal = pd.read_csv('./datasets/twelve_to_sixteen_with_sal.csv')\n",
    "thirteen_to_seventeen_with_sal = pd.read_csv('./datasets/thirteen_to_seventeen_with_sal.csv')\n",
    "fourteen_to_eighteen_with_sal = pd.read_csv('./datasets/fourteen_to_eighteen_with_sal.csv')\n"
   ]
  },
  {
   "cell_type": "code",
   "execution_count": 1216,
   "metadata": {},
   "outputs": [],
   "source": [
    "logreg = LogisticRegression(max_iter=100000)\n",
    "knnc = KNeighborsClassifier()\n",
    "dt = DecisionTreeClassifier()\n",
    "bc = BaggingClassifier()\n",
    "rf = RandomForestClassifier()\n",
    "svc = SVC()\n",
    "et = ExtraTreesClassifier()\n",
    "nb = MultinomialNB()"
   ]
  },
  {
   "cell_type": "markdown",
   "metadata": {},
   "source": [
    "# First Classification Model(s)"
   ]
  },
  {
   "cell_type": "markdown",
   "metadata": {},
   "source": [
    "# Sixteen to Twenty with Sal"
   ]
  },
  {
   "cell_type": "code",
   "execution_count": 1217,
   "metadata": {},
   "outputs": [
    {
     "data": {
      "text/plain": [
       "2019-20    1.000000\n",
       "PTS        0.777871\n",
       "FG         0.767685\n",
       "FGA        0.747993\n",
       "MP         0.738304\n",
       "FT         0.706744\n",
       "GS         0.697379\n",
       "FTA        0.696733\n",
       "2PA        0.684865\n",
       "TOV        0.677175\n",
       "2P         0.676427\n",
       "AST        0.567211\n",
       "STL        0.554729\n",
       "DRB        0.544989\n",
       "TRB        0.466665\n",
       "3PA        0.428419\n",
       "3P         0.423755\n",
       "PF         0.376320\n",
       "G          0.323772\n",
       "BLK        0.271867\n",
       "FT%        0.246529\n",
       "ORB        0.224346\n",
       "3P%        0.157425\n",
       "2P%        0.134902\n",
       "eFG%       0.133224\n",
       "FG%        0.128468\n",
       "Rk        -0.018450\n",
       "Age       -0.048687\n",
       "Name: 2019-20, dtype: float64"
      ]
     },
     "execution_count": 1217,
     "metadata": {},
     "output_type": "execute_result"
    }
   ],
   "source": [
    "sixteen_to_twenty_with_sal.corr()['2019-20'].sort_values(ascending=False)"
   ]
  },
  {
   "cell_type": "code",
   "execution_count": 1218,
   "metadata": {},
   "outputs": [
    {
     "data": {
      "text/plain": [
       "salary    1.000000\n",
       "FG        0.617357\n",
       "PTS       0.615628\n",
       "MP        0.615202\n",
       "2P        0.587224\n",
       "FTA       0.585406\n",
       "GS        0.585200\n",
       "FT        0.568590\n",
       "2PA       0.550413\n",
       "DRB       0.549983\n",
       "FGA       0.547012\n",
       "TRB       0.518104\n",
       "TOV       0.465958\n",
       "PF        0.447768\n",
       "STL       0.419682\n",
       "BLK       0.406129\n",
       "ORB       0.380921\n",
       "G         0.369519\n",
       "FG%       0.344509\n",
       "AST       0.328249\n",
       "2P%       0.284784\n",
       "eFG%      0.272467\n",
       "3P        0.150277\n",
       "3PA       0.129058\n",
       "FT%      -0.032867\n",
       "3P%      -0.040347\n",
       "Rk       -0.137340\n",
       "Age      -0.144360\n",
       "Name: salary, dtype: float64"
      ]
     },
     "execution_count": 1218,
     "metadata": {},
     "output_type": "execute_result"
    }
   ],
   "source": [
    "fourteen_to_eighteen_with_sal.corr()['salary'].sort_values(ascending=False)"
   ]
  },
  {
   "cell_type": "code",
   "execution_count": 1219,
   "metadata": {},
   "outputs": [
    {
     "data": {
      "text/plain": [
       "salary    1.000000\n",
       "FG        0.708810\n",
       "PTS       0.699907\n",
       "2P        0.681661\n",
       "MP        0.680771\n",
       "FTA       0.671796\n",
       "2PA       0.652838\n",
       "FT        0.649479\n",
       "FGA       0.648293\n",
       "GS        0.645105\n",
       "DRB       0.601488\n",
       "TRB       0.553681\n",
       "TOV       0.516202\n",
       "STL       0.429546\n",
       "ORB       0.376394\n",
       "BLK       0.370468\n",
       "PF        0.349152\n",
       "AST       0.322106\n",
       "G         0.316028\n",
       "FG%       0.301223\n",
       "2P%       0.246688\n",
       "eFG%      0.242879\n",
       "3P        0.159262\n",
       "3PA       0.154435\n",
       "FT%       0.034787\n",
       "3P%      -0.052526\n",
       "Rk       -0.090905\n",
       "Age      -0.112251\n",
       "Name: salary, dtype: float64"
      ]
     },
     "execution_count": 1219,
     "metadata": {},
     "output_type": "execute_result"
    }
   ],
   "source": [
    "thirteen_to_seventeen_with_sal.corr()['salary'].sort_values(ascending=False)"
   ]
  },
  {
   "cell_type": "code",
   "execution_count": 1220,
   "metadata": {},
   "outputs": [
    {
     "data": {
      "text/html": [
       "<div>\n",
       "<style scoped>\n",
       "    .dataframe tbody tr th:only-of-type {\n",
       "        vertical-align: middle;\n",
       "    }\n",
       "\n",
       "    .dataframe tbody tr th {\n",
       "        vertical-align: top;\n",
       "    }\n",
       "\n",
       "    .dataframe thead th {\n",
       "        text-align: right;\n",
       "    }\n",
       "</style>\n",
       "<table border=\"1\" class=\"dataframe\">\n",
       "  <thead>\n",
       "    <tr style=\"text-align: right;\">\n",
       "      <th></th>\n",
       "      <th>Rk</th>\n",
       "      <th>Age</th>\n",
       "      <th>G</th>\n",
       "      <th>GS</th>\n",
       "      <th>MP</th>\n",
       "      <th>FG</th>\n",
       "      <th>FGA</th>\n",
       "      <th>FG%</th>\n",
       "      <th>3P</th>\n",
       "      <th>3PA</th>\n",
       "      <th>...</th>\n",
       "      <th>ORB</th>\n",
       "      <th>DRB</th>\n",
       "      <th>TRB</th>\n",
       "      <th>AST</th>\n",
       "      <th>STL</th>\n",
       "      <th>BLK</th>\n",
       "      <th>TOV</th>\n",
       "      <th>PF</th>\n",
       "      <th>PTS</th>\n",
       "      <th>2019-20</th>\n",
       "    </tr>\n",
       "  </thead>\n",
       "  <tbody>\n",
       "    <tr>\n",
       "      <th>count</th>\n",
       "      <td>212.000000</td>\n",
       "      <td>212.000000</td>\n",
       "      <td>212.000000</td>\n",
       "      <td>212.00000</td>\n",
       "      <td>212.000000</td>\n",
       "      <td>212.000000</td>\n",
       "      <td>212.000000</td>\n",
       "      <td>212.000000</td>\n",
       "      <td>212.000000</td>\n",
       "      <td>212.000000</td>\n",
       "      <td>...</td>\n",
       "      <td>212.000000</td>\n",
       "      <td>212.000000</td>\n",
       "      <td>212.000000</td>\n",
       "      <td>212.000000</td>\n",
       "      <td>212.000000</td>\n",
       "      <td>212.000000</td>\n",
       "      <td>212.000000</td>\n",
       "      <td>212.000000</td>\n",
       "      <td>212.000000</td>\n",
       "      <td>2.120000e+02</td>\n",
       "    </tr>\n",
       "    <tr>\n",
       "      <th>mean</th>\n",
       "      <td>261.674528</td>\n",
       "      <td>27.090566</td>\n",
       "      <td>62.142453</td>\n",
       "      <td>37.05566</td>\n",
       "      <td>24.973302</td>\n",
       "      <td>4.265000</td>\n",
       "      <td>9.264245</td>\n",
       "      <td>0.460356</td>\n",
       "      <td>1.114151</td>\n",
       "      <td>3.096038</td>\n",
       "      <td>...</td>\n",
       "      <td>1.074434</td>\n",
       "      <td>3.594528</td>\n",
       "      <td>4.664811</td>\n",
       "      <td>2.535472</td>\n",
       "      <td>0.819717</td>\n",
       "      <td>0.510849</td>\n",
       "      <td>1.445943</td>\n",
       "      <td>2.027830</td>\n",
       "      <td>11.599717</td>\n",
       "      <td>1.286460e+07</td>\n",
       "    </tr>\n",
       "    <tr>\n",
       "      <th>std</th>\n",
       "      <td>151.696450</td>\n",
       "      <td>3.559448</td>\n",
       "      <td>11.309950</td>\n",
       "      <td>23.08560</td>\n",
       "      <td>6.366613</td>\n",
       "      <td>1.974486</td>\n",
       "      <td>4.185321</td>\n",
       "      <td>0.060940</td>\n",
       "      <td>0.792928</td>\n",
       "      <td>2.073500</td>\n",
       "      <td>...</td>\n",
       "      <td>0.823630</td>\n",
       "      <td>1.753289</td>\n",
       "      <td>2.445914</td>\n",
       "      <td>1.857344</td>\n",
       "      <td>0.376633</td>\n",
       "      <td>0.431623</td>\n",
       "      <td>0.747863</td>\n",
       "      <td>0.543607</td>\n",
       "      <td>5.621677</td>\n",
       "      <td>1.018687e+07</td>\n",
       "    </tr>\n",
       "    <tr>\n",
       "      <th>min</th>\n",
       "      <td>1.000000</td>\n",
       "      <td>21.000000</td>\n",
       "      <td>16.200000</td>\n",
       "      <td>0.40000</td>\n",
       "      <td>7.720000</td>\n",
       "      <td>0.720000</td>\n",
       "      <td>2.040000</td>\n",
       "      <td>0.320400</td>\n",
       "      <td>0.000000</td>\n",
       "      <td>0.000000</td>\n",
       "      <td>...</td>\n",
       "      <td>0.160000</td>\n",
       "      <td>1.040000</td>\n",
       "      <td>1.180000</td>\n",
       "      <td>0.340000</td>\n",
       "      <td>0.100000</td>\n",
       "      <td>0.020000</td>\n",
       "      <td>0.260000</td>\n",
       "      <td>0.800000</td>\n",
       "      <td>1.920000</td>\n",
       "      <td>1.962880e+05</td>\n",
       "    </tr>\n",
       "    <tr>\n",
       "      <th>20%</th>\n",
       "      <td>115.400000</td>\n",
       "      <td>24.000000</td>\n",
       "      <td>54.240000</td>\n",
       "      <td>12.80000</td>\n",
       "      <td>19.208000</td>\n",
       "      <td>2.540000</td>\n",
       "      <td>5.648000</td>\n",
       "      <td>0.411560</td>\n",
       "      <td>0.340000</td>\n",
       "      <td>1.004000</td>\n",
       "      <td>...</td>\n",
       "      <td>0.440000</td>\n",
       "      <td>2.164000</td>\n",
       "      <td>2.724000</td>\n",
       "      <td>1.064000</td>\n",
       "      <td>0.500000</td>\n",
       "      <td>0.200000</td>\n",
       "      <td>0.860000</td>\n",
       "      <td>1.560000</td>\n",
       "      <td>6.860000</td>\n",
       "      <td>2.564753e+06</td>\n",
       "    </tr>\n",
       "    <tr>\n",
       "      <th>40%</th>\n",
       "      <td>205.600000</td>\n",
       "      <td>26.000000</td>\n",
       "      <td>60.880000</td>\n",
       "      <td>27.64000</td>\n",
       "      <td>22.936000</td>\n",
       "      <td>3.388000</td>\n",
       "      <td>7.388000</td>\n",
       "      <td>0.437200</td>\n",
       "      <td>0.880000</td>\n",
       "      <td>2.476000</td>\n",
       "      <td>...</td>\n",
       "      <td>0.660000</td>\n",
       "      <td>2.740000</td>\n",
       "      <td>3.556000</td>\n",
       "      <td>1.540000</td>\n",
       "      <td>0.680000</td>\n",
       "      <td>0.320000</td>\n",
       "      <td>1.100000</td>\n",
       "      <td>1.868000</td>\n",
       "      <td>9.084000</td>\n",
       "      <td>8.000000e+06</td>\n",
       "    </tr>\n",
       "    <tr>\n",
       "      <th>50%</th>\n",
       "      <td>258.000000</td>\n",
       "      <td>27.000000</td>\n",
       "      <td>63.400000</td>\n",
       "      <td>33.20000</td>\n",
       "      <td>25.190000</td>\n",
       "      <td>3.820000</td>\n",
       "      <td>8.230000</td>\n",
       "      <td>0.448200</td>\n",
       "      <td>1.060000</td>\n",
       "      <td>3.000000</td>\n",
       "      <td>...</td>\n",
       "      <td>0.780000</td>\n",
       "      <td>3.200000</td>\n",
       "      <td>4.070000</td>\n",
       "      <td>1.880000</td>\n",
       "      <td>0.760000</td>\n",
       "      <td>0.380000</td>\n",
       "      <td>1.250000</td>\n",
       "      <td>2.010000</td>\n",
       "      <td>10.040000</td>\n",
       "      <td>1.070500e+07</td>\n",
       "    </tr>\n",
       "    <tr>\n",
       "      <th>60%</th>\n",
       "      <td>302.600000</td>\n",
       "      <td>28.000000</td>\n",
       "      <td>66.800000</td>\n",
       "      <td>45.88000</td>\n",
       "      <td>27.340000</td>\n",
       "      <td>4.400000</td>\n",
       "      <td>9.640000</td>\n",
       "      <td>0.460600</td>\n",
       "      <td>1.300000</td>\n",
       "      <td>3.532000</td>\n",
       "      <td>...</td>\n",
       "      <td>0.980000</td>\n",
       "      <td>3.560000</td>\n",
       "      <td>4.752000</td>\n",
       "      <td>2.400000</td>\n",
       "      <td>0.840000</td>\n",
       "      <td>0.440000</td>\n",
       "      <td>1.480000</td>\n",
       "      <td>2.152000</td>\n",
       "      <td>11.792000</td>\n",
       "      <td>1.315527e+07</td>\n",
       "    </tr>\n",
       "    <tr>\n",
       "      <th>80%</th>\n",
       "      <td>419.600000</td>\n",
       "      <td>30.000000</td>\n",
       "      <td>71.960000</td>\n",
       "      <td>62.00000</td>\n",
       "      <td>30.972000</td>\n",
       "      <td>5.872000</td>\n",
       "      <td>13.072000</td>\n",
       "      <td>0.496400</td>\n",
       "      <td>1.720000</td>\n",
       "      <td>4.720000</td>\n",
       "      <td>...</td>\n",
       "      <td>1.640000</td>\n",
       "      <td>4.532000</td>\n",
       "      <td>6.284000</td>\n",
       "      <td>3.908000</td>\n",
       "      <td>1.080000</td>\n",
       "      <td>0.736000</td>\n",
       "      <td>2.000000</td>\n",
       "      <td>2.516000</td>\n",
       "      <td>16.268000</td>\n",
       "      <td>2.314040e+07</td>\n",
       "    </tr>\n",
       "    <tr>\n",
       "      <th>max</th>\n",
       "      <td>527.000000</td>\n",
       "      <td>41.000000</td>\n",
       "      <td>79.800000</td>\n",
       "      <td>76.20000</td>\n",
       "      <td>36.640000</td>\n",
       "      <td>9.960000</td>\n",
       "      <td>21.180000</td>\n",
       "      <td>0.673800</td>\n",
       "      <td>4.180000</td>\n",
       "      <td>10.580000</td>\n",
       "      <td>...</td>\n",
       "      <td>4.820000</td>\n",
       "      <td>10.260000</td>\n",
       "      <td>15.080000</td>\n",
       "      <td>9.760000</td>\n",
       "      <td>1.880000</td>\n",
       "      <td>2.460000</td>\n",
       "      <td>4.840000</td>\n",
       "      <td>3.360000</td>\n",
       "      <td>31.780000</td>\n",
       "      <td>4.023176e+07</td>\n",
       "    </tr>\n",
       "  </tbody>\n",
       "</table>\n",
       "<p>10 rows × 28 columns</p>\n",
       "</div>"
      ],
      "text/plain": [
       "               Rk         Age           G         GS          MP          FG  \\\n",
       "count  212.000000  212.000000  212.000000  212.00000  212.000000  212.000000   \n",
       "mean   261.674528   27.090566   62.142453   37.05566   24.973302    4.265000   \n",
       "std    151.696450    3.559448   11.309950   23.08560    6.366613    1.974486   \n",
       "min      1.000000   21.000000   16.200000    0.40000    7.720000    0.720000   \n",
       "20%    115.400000   24.000000   54.240000   12.80000   19.208000    2.540000   \n",
       "40%    205.600000   26.000000   60.880000   27.64000   22.936000    3.388000   \n",
       "50%    258.000000   27.000000   63.400000   33.20000   25.190000    3.820000   \n",
       "60%    302.600000   28.000000   66.800000   45.88000   27.340000    4.400000   \n",
       "80%    419.600000   30.000000   71.960000   62.00000   30.972000    5.872000   \n",
       "max    527.000000   41.000000   79.800000   76.20000   36.640000    9.960000   \n",
       "\n",
       "              FGA         FG%          3P         3PA  ...         ORB  \\\n",
       "count  212.000000  212.000000  212.000000  212.000000  ...  212.000000   \n",
       "mean     9.264245    0.460356    1.114151    3.096038  ...    1.074434   \n",
       "std      4.185321    0.060940    0.792928    2.073500  ...    0.823630   \n",
       "min      2.040000    0.320400    0.000000    0.000000  ...    0.160000   \n",
       "20%      5.648000    0.411560    0.340000    1.004000  ...    0.440000   \n",
       "40%      7.388000    0.437200    0.880000    2.476000  ...    0.660000   \n",
       "50%      8.230000    0.448200    1.060000    3.000000  ...    0.780000   \n",
       "60%      9.640000    0.460600    1.300000    3.532000  ...    0.980000   \n",
       "80%     13.072000    0.496400    1.720000    4.720000  ...    1.640000   \n",
       "max     21.180000    0.673800    4.180000   10.580000  ...    4.820000   \n",
       "\n",
       "              DRB         TRB         AST         STL         BLK         TOV  \\\n",
       "count  212.000000  212.000000  212.000000  212.000000  212.000000  212.000000   \n",
       "mean     3.594528    4.664811    2.535472    0.819717    0.510849    1.445943   \n",
       "std      1.753289    2.445914    1.857344    0.376633    0.431623    0.747863   \n",
       "min      1.040000    1.180000    0.340000    0.100000    0.020000    0.260000   \n",
       "20%      2.164000    2.724000    1.064000    0.500000    0.200000    0.860000   \n",
       "40%      2.740000    3.556000    1.540000    0.680000    0.320000    1.100000   \n",
       "50%      3.200000    4.070000    1.880000    0.760000    0.380000    1.250000   \n",
       "60%      3.560000    4.752000    2.400000    0.840000    0.440000    1.480000   \n",
       "80%      4.532000    6.284000    3.908000    1.080000    0.736000    2.000000   \n",
       "max     10.260000   15.080000    9.760000    1.880000    2.460000    4.840000   \n",
       "\n",
       "               PF         PTS       2019-20  \n",
       "count  212.000000  212.000000  2.120000e+02  \n",
       "mean     2.027830   11.599717  1.286460e+07  \n",
       "std      0.543607    5.621677  1.018687e+07  \n",
       "min      0.800000    1.920000  1.962880e+05  \n",
       "20%      1.560000    6.860000  2.564753e+06  \n",
       "40%      1.868000    9.084000  8.000000e+06  \n",
       "50%      2.010000   10.040000  1.070500e+07  \n",
       "60%      2.152000   11.792000  1.315527e+07  \n",
       "80%      2.516000   16.268000  2.314040e+07  \n",
       "max      3.360000   31.780000  4.023176e+07  \n",
       "\n",
       "[10 rows x 28 columns]"
      ]
     },
     "execution_count": 1220,
     "metadata": {},
     "output_type": "execute_result"
    }
   ],
   "source": [
    "u = sixteen_to_twenty_with_sal.describe(percentiles=[0.2,0.4,0.6,0.8])\n",
    "u\n",
    "#assigning classes based on quartiles: 20%, 40%, 60%, 80%"
   ]
  },
  {
   "cell_type": "code",
   "execution_count": 1221,
   "metadata": {},
   "outputs": [
    {
     "data": {
      "text/html": [
       "<div>\n",
       "<style scoped>\n",
       "    .dataframe tbody tr th:only-of-type {\n",
       "        vertical-align: middle;\n",
       "    }\n",
       "\n",
       "    .dataframe tbody tr th {\n",
       "        vertical-align: top;\n",
       "    }\n",
       "\n",
       "    .dataframe thead th {\n",
       "        text-align: right;\n",
       "    }\n",
       "</style>\n",
       "<table border=\"1\" class=\"dataframe\">\n",
       "  <thead>\n",
       "    <tr style=\"text-align: right;\">\n",
       "      <th></th>\n",
       "      <th>Rk</th>\n",
       "      <th>Age</th>\n",
       "      <th>G</th>\n",
       "      <th>GS</th>\n",
       "      <th>MP</th>\n",
       "      <th>FG</th>\n",
       "      <th>FGA</th>\n",
       "      <th>FG%</th>\n",
       "      <th>3P</th>\n",
       "      <th>3PA</th>\n",
       "      <th>...</th>\n",
       "      <th>ORB</th>\n",
       "      <th>DRB</th>\n",
       "      <th>TRB</th>\n",
       "      <th>AST</th>\n",
       "      <th>STL</th>\n",
       "      <th>BLK</th>\n",
       "      <th>TOV</th>\n",
       "      <th>PF</th>\n",
       "      <th>PTS</th>\n",
       "      <th>salary</th>\n",
       "    </tr>\n",
       "  </thead>\n",
       "  <tbody>\n",
       "    <tr>\n",
       "      <th>count</th>\n",
       "      <td>194.000000</td>\n",
       "      <td>194.000000</td>\n",
       "      <td>194.000000</td>\n",
       "      <td>194.000000</td>\n",
       "      <td>194.000000</td>\n",
       "      <td>194.000000</td>\n",
       "      <td>194.000000</td>\n",
       "      <td>194.000000</td>\n",
       "      <td>194.000000</td>\n",
       "      <td>194.000000</td>\n",
       "      <td>...</td>\n",
       "      <td>194.000000</td>\n",
       "      <td>194.000000</td>\n",
       "      <td>194.000000</td>\n",
       "      <td>194.000000</td>\n",
       "      <td>194.000000</td>\n",
       "      <td>194.000000</td>\n",
       "      <td>194.000000</td>\n",
       "      <td>194.000000</td>\n",
       "      <td>194.000000</td>\n",
       "      <td>1.940000e+02</td>\n",
       "    </tr>\n",
       "    <tr>\n",
       "      <th>mean</th>\n",
       "      <td>233.180412</td>\n",
       "      <td>26.619845</td>\n",
       "      <td>66.086340</td>\n",
       "      <td>38.056701</td>\n",
       "      <td>25.218814</td>\n",
       "      <td>4.114175</td>\n",
       "      <td>9.027577</td>\n",
       "      <td>0.455613</td>\n",
       "      <td>0.819459</td>\n",
       "      <td>2.293041</td>\n",
       "      <td>...</td>\n",
       "      <td>1.101289</td>\n",
       "      <td>3.359149</td>\n",
       "      <td>4.456572</td>\n",
       "      <td>2.435052</td>\n",
       "      <td>0.816108</td>\n",
       "      <td>0.504253</td>\n",
       "      <td>1.462629</td>\n",
       "      <td>2.014820</td>\n",
       "      <td>10.963402</td>\n",
       "      <td>9.642214e+06</td>\n",
       "    </tr>\n",
       "    <tr>\n",
       "      <th>std</th>\n",
       "      <td>139.588119</td>\n",
       "      <td>3.516358</td>\n",
       "      <td>11.030749</td>\n",
       "      <td>25.251699</td>\n",
       "      <td>6.904900</td>\n",
       "      <td>1.814532</td>\n",
       "      <td>3.853526</td>\n",
       "      <td>0.051734</td>\n",
       "      <td>0.703791</td>\n",
       "      <td>1.814076</td>\n",
       "      <td>...</td>\n",
       "      <td>0.838901</td>\n",
       "      <td>1.665789</td>\n",
       "      <td>2.374173</td>\n",
       "      <td>1.898676</td>\n",
       "      <td>0.412548</td>\n",
       "      <td>0.470907</td>\n",
       "      <td>0.709042</td>\n",
       "      <td>0.518963</td>\n",
       "      <td>4.962065</td>\n",
       "      <td>6.820829e+06</td>\n",
       "    </tr>\n",
       "    <tr>\n",
       "      <th>min</th>\n",
       "      <td>1.000000</td>\n",
       "      <td>19.250000</td>\n",
       "      <td>29.750000</td>\n",
       "      <td>0.000000</td>\n",
       "      <td>9.750000</td>\n",
       "      <td>1.000000</td>\n",
       "      <td>2.325000</td>\n",
       "      <td>0.339500</td>\n",
       "      <td>0.000000</td>\n",
       "      <td>0.000000</td>\n",
       "      <td>...</td>\n",
       "      <td>0.125000</td>\n",
       "      <td>1.025000</td>\n",
       "      <td>1.275000</td>\n",
       "      <td>0.225000</td>\n",
       "      <td>0.150000</td>\n",
       "      <td>0.000000</td>\n",
       "      <td>0.200000</td>\n",
       "      <td>0.625000</td>\n",
       "      <td>2.800000</td>\n",
       "      <td>5.767200e+04</td>\n",
       "    </tr>\n",
       "    <tr>\n",
       "      <th>20%</th>\n",
       "      <td>90.600000</td>\n",
       "      <td>23.500000</td>\n",
       "      <td>58.550000</td>\n",
       "      <td>10.500000</td>\n",
       "      <td>18.290000</td>\n",
       "      <td>2.580000</td>\n",
       "      <td>5.565000</td>\n",
       "      <td>0.416650</td>\n",
       "      <td>0.090000</td>\n",
       "      <td>0.315000</td>\n",
       "      <td>...</td>\n",
       "      <td>0.375000</td>\n",
       "      <td>2.050000</td>\n",
       "      <td>2.470000</td>\n",
       "      <td>0.950000</td>\n",
       "      <td>0.475000</td>\n",
       "      <td>0.175000</td>\n",
       "      <td>0.850000</td>\n",
       "      <td>1.575000</td>\n",
       "      <td>6.540000</td>\n",
       "      <td>3.566169e+06</td>\n",
       "    </tr>\n",
       "    <tr>\n",
       "      <th>40%</th>\n",
       "      <td>187.400000</td>\n",
       "      <td>25.500000</td>\n",
       "      <td>65.250000</td>\n",
       "      <td>27.800000</td>\n",
       "      <td>23.505000</td>\n",
       "      <td>3.280000</td>\n",
       "      <td>7.415000</td>\n",
       "      <td>0.434750</td>\n",
       "      <td>0.575000</td>\n",
       "      <td>1.750000</td>\n",
       "      <td>...</td>\n",
       "      <td>0.650000</td>\n",
       "      <td>2.630000</td>\n",
       "      <td>3.455000</td>\n",
       "      <td>1.450000</td>\n",
       "      <td>0.650000</td>\n",
       "      <td>0.275000</td>\n",
       "      <td>1.135000</td>\n",
       "      <td>1.925000</td>\n",
       "      <td>8.750000</td>\n",
       "      <td>6.336418e+06</td>\n",
       "    </tr>\n",
       "    <tr>\n",
       "      <th>50%</th>\n",
       "      <td>228.500000</td>\n",
       "      <td>26.500000</td>\n",
       "      <td>68.375000</td>\n",
       "      <td>38.875000</td>\n",
       "      <td>25.750000</td>\n",
       "      <td>3.625000</td>\n",
       "      <td>8.187500</td>\n",
       "      <td>0.445125</td>\n",
       "      <td>0.725000</td>\n",
       "      <td>2.087500</td>\n",
       "      <td>...</td>\n",
       "      <td>0.800000</td>\n",
       "      <td>3.000000</td>\n",
       "      <td>3.825000</td>\n",
       "      <td>1.850000</td>\n",
       "      <td>0.750000</td>\n",
       "      <td>0.350000</td>\n",
       "      <td>1.325000</td>\n",
       "      <td>2.012500</td>\n",
       "      <td>9.850000</td>\n",
       "      <td>8.023250e+06</td>\n",
       "    </tr>\n",
       "    <tr>\n",
       "      <th>60%</th>\n",
       "      <td>267.800000</td>\n",
       "      <td>27.500000</td>\n",
       "      <td>71.200000</td>\n",
       "      <td>48.600000</td>\n",
       "      <td>27.900000</td>\n",
       "      <td>4.230000</td>\n",
       "      <td>9.615000</td>\n",
       "      <td>0.454350</td>\n",
       "      <td>0.945000</td>\n",
       "      <td>2.735000</td>\n",
       "      <td>...</td>\n",
       "      <td>1.070000</td>\n",
       "      <td>3.275000</td>\n",
       "      <td>4.315000</td>\n",
       "      <td>2.345000</td>\n",
       "      <td>0.850000</td>\n",
       "      <td>0.425000</td>\n",
       "      <td>1.500000</td>\n",
       "      <td>2.125000</td>\n",
       "      <td>11.490000</td>\n",
       "      <td>1.044829e+07</td>\n",
       "    </tr>\n",
       "    <tr>\n",
       "      <th>80%</th>\n",
       "      <td>386.000000</td>\n",
       "      <td>29.500000</td>\n",
       "      <td>75.750000</td>\n",
       "      <td>64.600000</td>\n",
       "      <td>32.495000</td>\n",
       "      <td>5.785000</td>\n",
       "      <td>12.610000</td>\n",
       "      <td>0.498700</td>\n",
       "      <td>1.425000</td>\n",
       "      <td>3.860000</td>\n",
       "      <td>...</td>\n",
       "      <td>1.720000</td>\n",
       "      <td>4.520000</td>\n",
       "      <td>6.285000</td>\n",
       "      <td>3.480000</td>\n",
       "      <td>1.100000</td>\n",
       "      <td>0.675000</td>\n",
       "      <td>2.070000</td>\n",
       "      <td>2.385000</td>\n",
       "      <td>15.620000</td>\n",
       "      <td>1.596649e+07</td>\n",
       "    </tr>\n",
       "    <tr>\n",
       "      <th>max</th>\n",
       "      <td>476.000000</td>\n",
       "      <td>37.500000</td>\n",
       "      <td>82.000000</td>\n",
       "      <td>81.250000</td>\n",
       "      <td>36.825000</td>\n",
       "      <td>9.700000</td>\n",
       "      <td>20.475000</td>\n",
       "      <td>0.683000</td>\n",
       "      <td>3.875000</td>\n",
       "      <td>8.725000</td>\n",
       "      <td>...</td>\n",
       "      <td>3.725000</td>\n",
       "      <td>8.975000</td>\n",
       "      <td>12.400000</td>\n",
       "      <td>10.150000</td>\n",
       "      <td>2.225000</td>\n",
       "      <td>2.500000</td>\n",
       "      <td>3.675000</td>\n",
       "      <td>3.775000</td>\n",
       "      <td>26.125000</td>\n",
       "      <td>3.096345e+07</td>\n",
       "    </tr>\n",
       "  </tbody>\n",
       "</table>\n",
       "<p>10 rows × 28 columns</p>\n",
       "</div>"
      ],
      "text/plain": [
       "               Rk         Age           G          GS          MP          FG  \\\n",
       "count  194.000000  194.000000  194.000000  194.000000  194.000000  194.000000   \n",
       "mean   233.180412   26.619845   66.086340   38.056701   25.218814    4.114175   \n",
       "std    139.588119    3.516358   11.030749   25.251699    6.904900    1.814532   \n",
       "min      1.000000   19.250000   29.750000    0.000000    9.750000    1.000000   \n",
       "20%     90.600000   23.500000   58.550000   10.500000   18.290000    2.580000   \n",
       "40%    187.400000   25.500000   65.250000   27.800000   23.505000    3.280000   \n",
       "50%    228.500000   26.500000   68.375000   38.875000   25.750000    3.625000   \n",
       "60%    267.800000   27.500000   71.200000   48.600000   27.900000    4.230000   \n",
       "80%    386.000000   29.500000   75.750000   64.600000   32.495000    5.785000   \n",
       "max    476.000000   37.500000   82.000000   81.250000   36.825000    9.700000   \n",
       "\n",
       "              FGA         FG%          3P         3PA  ...         ORB  \\\n",
       "count  194.000000  194.000000  194.000000  194.000000  ...  194.000000   \n",
       "mean     9.027577    0.455613    0.819459    2.293041  ...    1.101289   \n",
       "std      3.853526    0.051734    0.703791    1.814076  ...    0.838901   \n",
       "min      2.325000    0.339500    0.000000    0.000000  ...    0.125000   \n",
       "20%      5.565000    0.416650    0.090000    0.315000  ...    0.375000   \n",
       "40%      7.415000    0.434750    0.575000    1.750000  ...    0.650000   \n",
       "50%      8.187500    0.445125    0.725000    2.087500  ...    0.800000   \n",
       "60%      9.615000    0.454350    0.945000    2.735000  ...    1.070000   \n",
       "80%     12.610000    0.498700    1.425000    3.860000  ...    1.720000   \n",
       "max     20.475000    0.683000    3.875000    8.725000  ...    3.725000   \n",
       "\n",
       "              DRB         TRB         AST         STL         BLK         TOV  \\\n",
       "count  194.000000  194.000000  194.000000  194.000000  194.000000  194.000000   \n",
       "mean     3.359149    4.456572    2.435052    0.816108    0.504253    1.462629   \n",
       "std      1.665789    2.374173    1.898676    0.412548    0.470907    0.709042   \n",
       "min      1.025000    1.275000    0.225000    0.150000    0.000000    0.200000   \n",
       "20%      2.050000    2.470000    0.950000    0.475000    0.175000    0.850000   \n",
       "40%      2.630000    3.455000    1.450000    0.650000    0.275000    1.135000   \n",
       "50%      3.000000    3.825000    1.850000    0.750000    0.350000    1.325000   \n",
       "60%      3.275000    4.315000    2.345000    0.850000    0.425000    1.500000   \n",
       "80%      4.520000    6.285000    3.480000    1.100000    0.675000    2.070000   \n",
       "max      8.975000   12.400000   10.150000    2.225000    2.500000    3.675000   \n",
       "\n",
       "               PF         PTS        salary  \n",
       "count  194.000000  194.000000  1.940000e+02  \n",
       "mean     2.014820   10.963402  9.642214e+06  \n",
       "std      0.518963    4.962065  6.820829e+06  \n",
       "min      0.625000    2.800000  5.767200e+04  \n",
       "20%      1.575000    6.540000  3.566169e+06  \n",
       "40%      1.925000    8.750000  6.336418e+06  \n",
       "50%      2.012500    9.850000  8.023250e+06  \n",
       "60%      2.125000   11.490000  1.044829e+07  \n",
       "80%      2.385000   15.620000  1.596649e+07  \n",
       "max      3.775000   26.125000  3.096345e+07  \n",
       "\n",
       "[10 rows x 28 columns]"
      ]
     },
     "execution_count": 1221,
     "metadata": {},
     "output_type": "execute_result"
    }
   ],
   "source": [
    "u1 = thirteen_to_seventeen_with_sal.describe(percentiles=[0.2,0.4,0.6,0.8])\n",
    "u1\n",
    "#assigning classes based on quartiles: 20%, 40%, 60%, 80%"
   ]
  },
  {
   "cell_type": "code",
   "execution_count": 1222,
   "metadata": {},
   "outputs": [
    {
     "data": {
      "text/html": [
       "<div>\n",
       "<style scoped>\n",
       "    .dataframe tbody tr th:only-of-type {\n",
       "        vertical-align: middle;\n",
       "    }\n",
       "\n",
       "    .dataframe tbody tr th {\n",
       "        vertical-align: top;\n",
       "    }\n",
       "\n",
       "    .dataframe thead th {\n",
       "        text-align: right;\n",
       "    }\n",
       "</style>\n",
       "<table border=\"1\" class=\"dataframe\">\n",
       "  <thead>\n",
       "    <tr style=\"text-align: right;\">\n",
       "      <th></th>\n",
       "      <th>Rk</th>\n",
       "      <th>Age</th>\n",
       "      <th>G</th>\n",
       "      <th>GS</th>\n",
       "      <th>MP</th>\n",
       "      <th>FG</th>\n",
       "      <th>FGA</th>\n",
       "      <th>FG%</th>\n",
       "      <th>3P</th>\n",
       "      <th>3PA</th>\n",
       "      <th>...</th>\n",
       "      <th>ORB</th>\n",
       "      <th>DRB</th>\n",
       "      <th>TRB</th>\n",
       "      <th>AST</th>\n",
       "      <th>STL</th>\n",
       "      <th>BLK</th>\n",
       "      <th>TOV</th>\n",
       "      <th>PF</th>\n",
       "      <th>PTS</th>\n",
       "      <th>salary</th>\n",
       "    </tr>\n",
       "  </thead>\n",
       "  <tbody>\n",
       "    <tr>\n",
       "      <th>count</th>\n",
       "      <td>175.000000</td>\n",
       "      <td>175.000000</td>\n",
       "      <td>175.000000</td>\n",
       "      <td>175.000000</td>\n",
       "      <td>175.000000</td>\n",
       "      <td>175.000000</td>\n",
       "      <td>175.000000</td>\n",
       "      <td>175.000000</td>\n",
       "      <td>175.000000</td>\n",
       "      <td>175.000000</td>\n",
       "      <td>...</td>\n",
       "      <td>175.000000</td>\n",
       "      <td>175.000000</td>\n",
       "      <td>175.000000</td>\n",
       "      <td>175.000000</td>\n",
       "      <td>175.000000</td>\n",
       "      <td>175.000000</td>\n",
       "      <td>175.000000</td>\n",
       "      <td>175.000000</td>\n",
       "      <td>175.000000</td>\n",
       "      <td>1.750000e+02</td>\n",
       "    </tr>\n",
       "    <tr>\n",
       "      <th>mean</th>\n",
       "      <td>229.217143</td>\n",
       "      <td>26.074286</td>\n",
       "      <td>64.927619</td>\n",
       "      <td>38.200000</td>\n",
       "      <td>25.281333</td>\n",
       "      <td>4.094667</td>\n",
       "      <td>9.058857</td>\n",
       "      <td>0.450552</td>\n",
       "      <td>0.903238</td>\n",
       "      <td>2.504190</td>\n",
       "      <td>...</td>\n",
       "      <td>1.065905</td>\n",
       "      <td>3.391238</td>\n",
       "      <td>4.454476</td>\n",
       "      <td>2.436952</td>\n",
       "      <td>0.833905</td>\n",
       "      <td>0.500000</td>\n",
       "      <td>1.461143</td>\n",
       "      <td>2.020762</td>\n",
       "      <td>11.019238</td>\n",
       "      <td>1.142361e+07</td>\n",
       "    </tr>\n",
       "    <tr>\n",
       "      <th>std</th>\n",
       "      <td>133.559831</td>\n",
       "      <td>3.607172</td>\n",
       "      <td>13.050001</td>\n",
       "      <td>26.115179</td>\n",
       "      <td>6.988884</td>\n",
       "      <td>1.879355</td>\n",
       "      <td>4.037398</td>\n",
       "      <td>0.056156</td>\n",
       "      <td>0.721683</td>\n",
       "      <td>1.851711</td>\n",
       "      <td>...</td>\n",
       "      <td>0.851900</td>\n",
       "      <td>1.752061</td>\n",
       "      <td>2.486565</td>\n",
       "      <td>1.902443</td>\n",
       "      <td>0.413215</td>\n",
       "      <td>0.487336</td>\n",
       "      <td>0.735985</td>\n",
       "      <td>0.542963</td>\n",
       "      <td>5.117107</td>\n",
       "      <td>7.995105e+06</td>\n",
       "    </tr>\n",
       "    <tr>\n",
       "      <th>min</th>\n",
       "      <td>3.000000</td>\n",
       "      <td>20.000000</td>\n",
       "      <td>16.000000</td>\n",
       "      <td>0.333333</td>\n",
       "      <td>8.733333</td>\n",
       "      <td>0.933333</td>\n",
       "      <td>2.433333</td>\n",
       "      <td>0.262667</td>\n",
       "      <td>0.000000</td>\n",
       "      <td>0.000000</td>\n",
       "      <td>...</td>\n",
       "      <td>0.066667</td>\n",
       "      <td>0.833333</td>\n",
       "      <td>0.933333</td>\n",
       "      <td>0.200000</td>\n",
       "      <td>0.133333</td>\n",
       "      <td>0.000000</td>\n",
       "      <td>0.233333</td>\n",
       "      <td>0.633333</td>\n",
       "      <td>2.633333</td>\n",
       "      <td>5.767200e+04</td>\n",
       "    </tr>\n",
       "    <tr>\n",
       "      <th>20%</th>\n",
       "      <td>100.800000</td>\n",
       "      <td>23.000000</td>\n",
       "      <td>55.333333</td>\n",
       "      <td>10.600000</td>\n",
       "      <td>18.626667</td>\n",
       "      <td>2.366667</td>\n",
       "      <td>5.373333</td>\n",
       "      <td>0.411400</td>\n",
       "      <td>0.166667</td>\n",
       "      <td>0.500000</td>\n",
       "      <td>...</td>\n",
       "      <td>0.400000</td>\n",
       "      <td>1.860000</td>\n",
       "      <td>2.420000</td>\n",
       "      <td>0.986667</td>\n",
       "      <td>0.500000</td>\n",
       "      <td>0.166667</td>\n",
       "      <td>0.833333</td>\n",
       "      <td>1.533333</td>\n",
       "      <td>6.386667</td>\n",
       "      <td>3.980780e+06</td>\n",
       "    </tr>\n",
       "    <tr>\n",
       "      <th>40%</th>\n",
       "      <td>177.200000</td>\n",
       "      <td>24.600000</td>\n",
       "      <td>64.200000</td>\n",
       "      <td>25.733333</td>\n",
       "      <td>22.680000</td>\n",
       "      <td>3.206667</td>\n",
       "      <td>7.186667</td>\n",
       "      <td>0.430733</td>\n",
       "      <td>0.633333</td>\n",
       "      <td>1.966667</td>\n",
       "      <td>...</td>\n",
       "      <td>0.633333</td>\n",
       "      <td>2.540000</td>\n",
       "      <td>3.286667</td>\n",
       "      <td>1.433333</td>\n",
       "      <td>0.686667</td>\n",
       "      <td>0.253333</td>\n",
       "      <td>1.186667</td>\n",
       "      <td>1.900000</td>\n",
       "      <td>8.400000</td>\n",
       "      <td>7.536000e+06</td>\n",
       "    </tr>\n",
       "    <tr>\n",
       "      <th>50%</th>\n",
       "      <td>225.000000</td>\n",
       "      <td>26.000000</td>\n",
       "      <td>68.333333</td>\n",
       "      <td>36.666667</td>\n",
       "      <td>26.066667</td>\n",
       "      <td>3.566667</td>\n",
       "      <td>7.966667</td>\n",
       "      <td>0.438000</td>\n",
       "      <td>0.833333</td>\n",
       "      <td>2.466667</td>\n",
       "      <td>...</td>\n",
       "      <td>0.733333</td>\n",
       "      <td>3.033333</td>\n",
       "      <td>3.800000</td>\n",
       "      <td>1.766667</td>\n",
       "      <td>0.766667</td>\n",
       "      <td>0.333333</td>\n",
       "      <td>1.333333</td>\n",
       "      <td>2.033333</td>\n",
       "      <td>9.966667</td>\n",
       "      <td>1.000000e+07</td>\n",
       "    </tr>\n",
       "    <tr>\n",
       "      <th>60%</th>\n",
       "      <td>264.400000</td>\n",
       "      <td>26.000000</td>\n",
       "      <td>71.000000</td>\n",
       "      <td>50.133333</td>\n",
       "      <td>28.380000</td>\n",
       "      <td>4.233333</td>\n",
       "      <td>9.700000</td>\n",
       "      <td>0.449333</td>\n",
       "      <td>1.033333</td>\n",
       "      <td>2.946667</td>\n",
       "      <td>...</td>\n",
       "      <td>0.946667</td>\n",
       "      <td>3.446667</td>\n",
       "      <td>4.273333</td>\n",
       "      <td>2.293333</td>\n",
       "      <td>0.846667</td>\n",
       "      <td>0.400000</td>\n",
       "      <td>1.466667</td>\n",
       "      <td>2.146667</td>\n",
       "      <td>11.453333</td>\n",
       "      <td>1.258252e+07</td>\n",
       "    </tr>\n",
       "    <tr>\n",
       "      <th>80%</th>\n",
       "      <td>372.200000</td>\n",
       "      <td>29.000000</td>\n",
       "      <td>76.333333</td>\n",
       "      <td>66.333333</td>\n",
       "      <td>32.293333</td>\n",
       "      <td>5.866667</td>\n",
       "      <td>13.233333</td>\n",
       "      <td>0.482267</td>\n",
       "      <td>1.506667</td>\n",
       "      <td>4.033333</td>\n",
       "      <td>...</td>\n",
       "      <td>1.673333</td>\n",
       "      <td>4.520000</td>\n",
       "      <td>6.293333</td>\n",
       "      <td>3.566667</td>\n",
       "      <td>1.106667</td>\n",
       "      <td>0.766667</td>\n",
       "      <td>2.000000</td>\n",
       "      <td>2.440000</td>\n",
       "      <td>15.906667</td>\n",
       "      <td>1.854850e+07</td>\n",
       "    </tr>\n",
       "    <tr>\n",
       "      <th>max</th>\n",
       "      <td>476.000000</td>\n",
       "      <td>38.000000</td>\n",
       "      <td>82.000000</td>\n",
       "      <td>81.000000</td>\n",
       "      <td>38.100000</td>\n",
       "      <td>8.933333</td>\n",
       "      <td>19.900000</td>\n",
       "      <td>0.696333</td>\n",
       "      <td>4.000000</td>\n",
       "      <td>9.066667</td>\n",
       "      <td>...</td>\n",
       "      <td>4.100000</td>\n",
       "      <td>9.966667</td>\n",
       "      <td>14.133333</td>\n",
       "      <td>10.300000</td>\n",
       "      <td>2.166667</td>\n",
       "      <td>2.566667</td>\n",
       "      <td>3.866667</td>\n",
       "      <td>3.833333</td>\n",
       "      <td>25.966667</td>\n",
       "      <td>3.745715e+07</td>\n",
       "    </tr>\n",
       "  </tbody>\n",
       "</table>\n",
       "<p>10 rows × 28 columns</p>\n",
       "</div>"
      ],
      "text/plain": [
       "               Rk         Age           G          GS          MP          FG  \\\n",
       "count  175.000000  175.000000  175.000000  175.000000  175.000000  175.000000   \n",
       "mean   229.217143   26.074286   64.927619   38.200000   25.281333    4.094667   \n",
       "std    133.559831    3.607172   13.050001   26.115179    6.988884    1.879355   \n",
       "min      3.000000   20.000000   16.000000    0.333333    8.733333    0.933333   \n",
       "20%    100.800000   23.000000   55.333333   10.600000   18.626667    2.366667   \n",
       "40%    177.200000   24.600000   64.200000   25.733333   22.680000    3.206667   \n",
       "50%    225.000000   26.000000   68.333333   36.666667   26.066667    3.566667   \n",
       "60%    264.400000   26.000000   71.000000   50.133333   28.380000    4.233333   \n",
       "80%    372.200000   29.000000   76.333333   66.333333   32.293333    5.866667   \n",
       "max    476.000000   38.000000   82.000000   81.000000   38.100000    8.933333   \n",
       "\n",
       "              FGA         FG%          3P         3PA  ...         ORB  \\\n",
       "count  175.000000  175.000000  175.000000  175.000000  ...  175.000000   \n",
       "mean     9.058857    0.450552    0.903238    2.504190  ...    1.065905   \n",
       "std      4.037398    0.056156    0.721683    1.851711  ...    0.851900   \n",
       "min      2.433333    0.262667    0.000000    0.000000  ...    0.066667   \n",
       "20%      5.373333    0.411400    0.166667    0.500000  ...    0.400000   \n",
       "40%      7.186667    0.430733    0.633333    1.966667  ...    0.633333   \n",
       "50%      7.966667    0.438000    0.833333    2.466667  ...    0.733333   \n",
       "60%      9.700000    0.449333    1.033333    2.946667  ...    0.946667   \n",
       "80%     13.233333    0.482267    1.506667    4.033333  ...    1.673333   \n",
       "max     19.900000    0.696333    4.000000    9.066667  ...    4.100000   \n",
       "\n",
       "              DRB         TRB         AST         STL         BLK         TOV  \\\n",
       "count  175.000000  175.000000  175.000000  175.000000  175.000000  175.000000   \n",
       "mean     3.391238    4.454476    2.436952    0.833905    0.500000    1.461143   \n",
       "std      1.752061    2.486565    1.902443    0.413215    0.487336    0.735985   \n",
       "min      0.833333    0.933333    0.200000    0.133333    0.000000    0.233333   \n",
       "20%      1.860000    2.420000    0.986667    0.500000    0.166667    0.833333   \n",
       "40%      2.540000    3.286667    1.433333    0.686667    0.253333    1.186667   \n",
       "50%      3.033333    3.800000    1.766667    0.766667    0.333333    1.333333   \n",
       "60%      3.446667    4.273333    2.293333    0.846667    0.400000    1.466667   \n",
       "80%      4.520000    6.293333    3.566667    1.106667    0.766667    2.000000   \n",
       "max      9.966667   14.133333   10.300000    2.166667    2.566667    3.866667   \n",
       "\n",
       "               PF         PTS        salary  \n",
       "count  175.000000  175.000000  1.750000e+02  \n",
       "mean     2.020762   11.019238  1.142361e+07  \n",
       "std      0.542963    5.117107  7.995105e+06  \n",
       "min      0.633333    2.633333  5.767200e+04  \n",
       "20%      1.533333    6.386667  3.980780e+06  \n",
       "40%      1.900000    8.400000  7.536000e+06  \n",
       "50%      2.033333    9.966667  1.000000e+07  \n",
       "60%      2.146667   11.453333  1.258252e+07  \n",
       "80%      2.440000   15.906667  1.854850e+07  \n",
       "max      3.833333   25.966667  3.745715e+07  \n",
       "\n",
       "[10 rows x 28 columns]"
      ]
     },
     "execution_count": 1222,
     "metadata": {},
     "output_type": "execute_result"
    }
   ],
   "source": [
    "u2 = fourteen_to_eighteen_with_sal.describe(percentiles=[0.2,0.4,0.6,0.8])\n",
    "u2\n",
    "#assigning classes based on quartiles: 20%, 40%, 60%, 80%"
   ]
  },
  {
   "cell_type": "code",
   "execution_count": 1223,
   "metadata": {},
   "outputs": [],
   "source": [
    "sixteen_to_twenty_with_sal['sal_classified'] = \"\""
   ]
  },
  {
   "cell_type": "code",
   "execution_count": 1224,
   "metadata": {
    "scrolled": true
   },
   "outputs": [],
   "source": [
    "for index, i in enumerate(sixteen_to_twenty_with_sal['2019-20']):\n",
    "    if i < 2564753:\n",
    "        sixteen_to_twenty_with_sal.loc[index, 'sal_classified'] = 1\n",
    "    elif i < 8000000 and i >= 2564753:\n",
    "           sixteen_to_twenty_with_sal.loc[index, 'sal_classified'] = 2\n",
    "    elif i < 13155269 and i >= 8000000:\n",
    "           sixteen_to_twenty_with_sal.loc[index, 'sal_classified'] = 3\n",
    "    elif i < 23140395 and i >= 13155269:\n",
    "           sixteen_to_twenty_with_sal.loc[index, 'sal_classified'] = 4\n",
    "    else:\n",
    "        sixteen_to_twenty_with_sal.loc[index, 'sal_classified'] = 5\n",
    "\n",
    "#Function for the rest of the dataframes will in this format"
   ]
  },
  {
   "cell_type": "code",
   "execution_count": 1225,
   "metadata": {},
   "outputs": [],
   "source": [
    "# for index, i in enumerate(twelve_to_sixteen_with_sal['salary']):\n",
    "#     if i < 2564753:\n",
    "#         twelve_to_sixteen_with_sal.loc[index, 'sal_classified'] = 1\n",
    "#     elif i < 8000000 and i >= 2564753:\n",
    "#            twelve_to_sixteen_with_sal.loc[index, 'sal_classified'] = 2\n",
    "#     elif i < 13155269 and i >= 8000000:\n",
    "#            twelve_to_sixteen_with_sal.loc[index, 'sal_classified'] = 3\n",
    "#     elif i < 23140395 and i >= 13155269:\n",
    "#            twelve_to_sixteen_with_sal.loc[index, 'sal_classified'] = 4\n",
    "#     else:\n",
    "#         twelve_to_sixteen_with_sal.loc[index, 'sal_classified'] = 5"
   ]
  },
  {
   "cell_type": "code",
   "execution_count": 1226,
   "metadata": {},
   "outputs": [],
   "source": [
    "# for index, i in enumerate(eleven_to_fifteen_with_sal['salary']):\n",
    "#     if i < 2564753:\n",
    "#         eleven_to_fifteen_with_sal.loc[index, 'sal_classified'] = 1\n",
    "#     elif i < 8000000 and i >= 2564753:\n",
    "#            eleven_to_fifteen_with_sal.loc[index, 'sal_classified'] = 2\n",
    "#     elif i < 13155269 and i >= 8000000:\n",
    "#            eleven_to_fifteen_with_sal.loc[index, 'sal_classified'] = 3\n",
    "#     elif i < 23140395 and i >= 13155269:\n",
    "#            eleven_to_fifteen_with_sal.loc[index, 'sal_classified'] = 4\n",
    "#     else:\n",
    "#         eleven_to_fifteen_with_sal.loc[index, 'sal_classified'] = 5"
   ]
  },
  {
   "cell_type": "code",
   "execution_count": 1227,
   "metadata": {},
   "outputs": [],
   "source": [
    "for index, i in enumerate(thirteen_to_seventeen_with_sal['salary']):\n",
    "    if i < 3559779:\n",
    "        thirteen_to_seventeen_with_sal.loc[index, 'sal_classified'] = 1\n",
    "    elif i < 6345674 and i >= 3559779:\n",
    "           thirteen_to_seventeen_with_sal.loc[index, 'sal_classified'] = 2\n",
    "    elif i < 10383156 and i >= 6345674:\n",
    "           thirteen_to_seventeen_with_sal.loc[index, 'sal_classified'] = 3\n",
    "    elif i < 15858628 and i >= 10383156:\n",
    "           thirteen_to_seventeen_with_sal.loc[index, 'sal_classified'] = 4\n",
    "    else:\n",
    "        thirteen_to_seventeen_with_sal.loc[index, 'sal_classified'] = 5"
   ]
  },
  {
   "cell_type": "code",
   "execution_count": 1228,
   "metadata": {},
   "outputs": [],
   "source": [
    "for index, i in enumerate(fourteen_to_eighteen_with_sal['salary']):\n",
    "    if i < 4112559:\n",
    "        fourteen_to_eighteen_with_sal.loc[index, 'sal_classified'] = 1\n",
    "    elif i < 7512000 and i >= 4112559:\n",
    "           fourteen_to_eighteen_with_sal.loc[index, 'sal_classified'] = 2\n",
    "    elif i < 12513397 and i >= 7512000:\n",
    "           fourteen_to_eighteen_with_sal.loc[index, 'sal_classified'] = 3\n",
    "    elif i < 18512000 and i >= 12513397:\n",
    "           fourteen_to_eighteen_with_sal.loc[index, 'sal_classified'] = 4\n",
    "    else:\n",
    "        fourteen_to_eighteen_with_sal.loc[index, 'sal_classified'] = 5"
   ]
  },
  {
   "cell_type": "markdown",
   "metadata": {},
   "source": [
    "Working primarily with these three years for now, may incorporate others later"
   ]
  },
  {
   "cell_type": "code",
   "execution_count": 1229,
   "metadata": {},
   "outputs": [],
   "source": [
    "sixteen_to_twenty_with_sal['sal_classified'] = sixteen_to_twenty_with_sal['sal_classified'].astype(int)"
   ]
  },
  {
   "cell_type": "code",
   "execution_count": 1230,
   "metadata": {},
   "outputs": [
    {
     "data": {
      "text/plain": [
       "2    47\n",
       "5    43\n",
       "3    43\n",
       "4    42\n",
       "1    37\n",
       "Name: sal_classified, dtype: int64"
      ]
     },
     "execution_count": 1230,
     "metadata": {},
     "output_type": "execute_result"
    }
   ],
   "source": [
    "sixteen_to_twenty_with_sal['sal_classified'].value_counts()"
   ]
  },
  {
   "cell_type": "code",
   "execution_count": 1231,
   "metadata": {},
   "outputs": [
    {
     "data": {
      "text/plain": [
       "5.0    40\n",
       "2.0    39\n",
       "1.0    39\n",
       "4.0    38\n",
       "3.0    38\n",
       "Name: sal_classified, dtype: int64"
      ]
     },
     "execution_count": 1231,
     "metadata": {},
     "output_type": "execute_result"
    }
   ],
   "source": [
    "thirteen_to_seventeen_with_sal['sal_classified'].value_counts()"
   ]
  },
  {
   "cell_type": "code",
   "execution_count": 1232,
   "metadata": {},
   "outputs": [
    {
     "data": {
      "text/plain": [
       "1.0    36\n",
       "4.0    36\n",
       "5.0    36\n",
       "2.0    34\n",
       "3.0    33\n",
       "Name: sal_classified, dtype: int64"
      ]
     },
     "execution_count": 1232,
     "metadata": {},
     "output_type": "execute_result"
    }
   ],
   "source": [
    "fourteen_to_eighteen_with_sal['sal_classified'].value_counts()"
   ]
  },
  {
   "cell_type": "code",
   "execution_count": 1233,
   "metadata": {},
   "outputs": [
    {
     "data": {
      "text/html": [
       "<div>\n",
       "<style scoped>\n",
       "    .dataframe tbody tr th:only-of-type {\n",
       "        vertical-align: middle;\n",
       "    }\n",
       "\n",
       "    .dataframe tbody tr th {\n",
       "        vertical-align: top;\n",
       "    }\n",
       "\n",
       "    .dataframe thead th {\n",
       "        text-align: right;\n",
       "    }\n",
       "</style>\n",
       "<table border=\"1\" class=\"dataframe\">\n",
       "  <thead>\n",
       "    <tr style=\"text-align: right;\">\n",
       "      <th></th>\n",
       "      <th>Player</th>\n",
       "      <th>Rk</th>\n",
       "      <th>Season</th>\n",
       "      <th>Pos</th>\n",
       "      <th>Age</th>\n",
       "      <th>Tm</th>\n",
       "      <th>G</th>\n",
       "      <th>GS</th>\n",
       "      <th>MP</th>\n",
       "      <th>FG</th>\n",
       "      <th>...</th>\n",
       "      <th>DRB</th>\n",
       "      <th>TRB</th>\n",
       "      <th>AST</th>\n",
       "      <th>STL</th>\n",
       "      <th>BLK</th>\n",
       "      <th>TOV</th>\n",
       "      <th>PF</th>\n",
       "      <th>PTS</th>\n",
       "      <th>2019-20</th>\n",
       "      <th>sal_classified</th>\n",
       "    </tr>\n",
       "  </thead>\n",
       "  <tbody>\n",
       "    <tr>\n",
       "      <th>0</th>\n",
       "      <td>Aaron Gordon</td>\n",
       "      <td>178.0</td>\n",
       "      <td>19-20</td>\n",
       "      <td>PF</td>\n",
       "      <td>22.0</td>\n",
       "      <td>ORL</td>\n",
       "      <td>71.2</td>\n",
       "      <td>61.2</td>\n",
       "      <td>30.36</td>\n",
       "      <td>5.26</td>\n",
       "      <td>...</td>\n",
       "      <td>5.22</td>\n",
       "      <td>6.92</td>\n",
       "      <td>2.64</td>\n",
       "      <td>0.82</td>\n",
       "      <td>0.66</td>\n",
       "      <td>1.48</td>\n",
       "      <td>2.06</td>\n",
       "      <td>13.98</td>\n",
       "      <td>19863636</td>\n",
       "      <td>4</td>\n",
       "    </tr>\n",
       "    <tr>\n",
       "      <th>1</th>\n",
       "      <td>Al Horford</td>\n",
       "      <td>228.0</td>\n",
       "      <td>19-20</td>\n",
       "      <td>C</td>\n",
       "      <td>31.0</td>\n",
       "      <td>PHI</td>\n",
       "      <td>71.4</td>\n",
       "      <td>70.2</td>\n",
       "      <td>31.04</td>\n",
       "      <td>5.54</td>\n",
       "      <td>...</td>\n",
       "      <td>5.42</td>\n",
       "      <td>7.00</td>\n",
       "      <td>4.22</td>\n",
       "      <td>0.78</td>\n",
       "      <td>1.22</td>\n",
       "      <td>1.50</td>\n",
       "      <td>1.98</td>\n",
       "      <td>13.52</td>\n",
       "      <td>28000000</td>\n",
       "      <td>5</td>\n",
       "    </tr>\n",
       "    <tr>\n",
       "      <th>2</th>\n",
       "      <td>Al-Farouq Aminu</td>\n",
       "      <td>9.0</td>\n",
       "      <td>19-20</td>\n",
       "      <td>PF</td>\n",
       "      <td>27.0</td>\n",
       "      <td>ORL</td>\n",
       "      <td>62.2</td>\n",
       "      <td>51.4</td>\n",
       "      <td>27.40</td>\n",
       "      <td>2.90</td>\n",
       "      <td>...</td>\n",
       "      <td>5.36</td>\n",
       "      <td>6.68</td>\n",
       "      <td>1.40</td>\n",
       "      <td>0.96</td>\n",
       "      <td>0.54</td>\n",
       "      <td>1.18</td>\n",
       "      <td>1.82</td>\n",
       "      <td>8.38</td>\n",
       "      <td>9258000</td>\n",
       "      <td>3</td>\n",
       "    </tr>\n",
       "    <tr>\n",
       "      <th>3</th>\n",
       "      <td>Alec Burks</td>\n",
       "      <td>80.0</td>\n",
       "      <td>19-20</td>\n",
       "      <td>SG</td>\n",
       "      <td>26.0</td>\n",
       "      <td>TOT</td>\n",
       "      <td>53.4</td>\n",
       "      <td>9.4</td>\n",
       "      <td>21.16</td>\n",
       "      <td>3.48</td>\n",
       "      <td>...</td>\n",
       "      <td>2.98</td>\n",
       "      <td>3.48</td>\n",
       "      <td>1.72</td>\n",
       "      <td>0.62</td>\n",
       "      <td>0.18</td>\n",
       "      <td>1.14</td>\n",
       "      <td>1.60</td>\n",
       "      <td>10.30</td>\n",
       "      <td>2320044</td>\n",
       "      <td>1</td>\n",
       "    </tr>\n",
       "    <tr>\n",
       "      <th>4</th>\n",
       "      <td>Alex Len</td>\n",
       "      <td>293.0</td>\n",
       "      <td>19-20</td>\n",
       "      <td>C</td>\n",
       "      <td>24.0</td>\n",
       "      <td>TOT</td>\n",
       "      <td>71.2</td>\n",
       "      <td>27.2</td>\n",
       "      <td>20.30</td>\n",
       "      <td>3.38</td>\n",
       "      <td>...</td>\n",
       "      <td>4.48</td>\n",
       "      <td>6.60</td>\n",
       "      <td>1.00</td>\n",
       "      <td>0.44</td>\n",
       "      <td>0.96</td>\n",
       "      <td>1.32</td>\n",
       "      <td>2.64</td>\n",
       "      <td>8.92</td>\n",
       "      <td>4160000</td>\n",
       "      <td>2</td>\n",
       "    </tr>\n",
       "  </tbody>\n",
       "</table>\n",
       "<p>5 rows × 33 columns</p>\n",
       "</div>"
      ],
      "text/plain": [
       "            Player     Rk Season Pos   Age   Tm     G    GS     MP    FG  ...  \\\n",
       "0     Aaron Gordon  178.0  19-20  PF  22.0  ORL  71.2  61.2  30.36  5.26  ...   \n",
       "1       Al Horford  228.0  19-20   C  31.0  PHI  71.4  70.2  31.04  5.54  ...   \n",
       "2  Al-Farouq Aminu    9.0  19-20  PF  27.0  ORL  62.2  51.4  27.40  2.90  ...   \n",
       "3       Alec Burks   80.0  19-20  SG  26.0  TOT  53.4   9.4  21.16  3.48  ...   \n",
       "4         Alex Len  293.0  19-20   C  24.0  TOT  71.2  27.2  20.30  3.38  ...   \n",
       "\n",
       "    DRB   TRB   AST   STL   BLK   TOV    PF    PTS   2019-20  sal_classified  \n",
       "0  5.22  6.92  2.64  0.82  0.66  1.48  2.06  13.98  19863636               4  \n",
       "1  5.42  7.00  4.22  0.78  1.22  1.50  1.98  13.52  28000000               5  \n",
       "2  5.36  6.68  1.40  0.96  0.54  1.18  1.82   8.38   9258000               3  \n",
       "3  2.98  3.48  1.72  0.62  0.18  1.14  1.60  10.30   2320044               1  \n",
       "4  4.48  6.60  1.00  0.44  0.96  1.32  2.64   8.92   4160000               2  \n",
       "\n",
       "[5 rows x 33 columns]"
      ]
     },
     "execution_count": 1233,
     "metadata": {},
     "output_type": "execute_result"
    }
   ],
   "source": [
    "sixteen_to_twenty_with_sal.head()"
   ]
  },
  {
   "cell_type": "code",
   "execution_count": 1234,
   "metadata": {},
   "outputs": [],
   "source": [
    "features = sixteen_to_twenty_with_sal.drop(['Age', 'Rk', 'Tm', 'Pos', 'Season', 'Player', '2019-20', 'sal_classified'], axis=1)"
   ]
  },
  {
   "cell_type": "code",
   "execution_count": 1235,
   "metadata": {},
   "outputs": [],
   "source": [
    "X = features\n",
    "y = sixteen_to_twenty_with_sal['sal_classified']"
   ]
  },
  {
   "cell_type": "code",
   "execution_count": 1236,
   "metadata": {},
   "outputs": [],
   "source": [
    "X_train, X_test, y_train, y_test = train_test_split(X, y, test_size = 0.30, random_state = 42)"
   ]
  },
  {
   "cell_type": "code",
   "execution_count": 1237,
   "metadata": {},
   "outputs": [],
   "source": [
    "# def fit_models_and_score(model):\n",
    "#     fitting = model.fit(X_train, y_train),\n",
    "#     scores = print(model.score(X_train, y_train)), print(model.score(X_test, y_test))\n",
    "    \n",
    "#     return scores"
   ]
  },
  {
   "cell_type": "code",
   "execution_count": 1238,
   "metadata": {},
   "outputs": [],
   "source": [
    "def fit_models_and_score(model, feature_list, target, ts):\n",
    "    X = feature_list\n",
    "    y = target\n",
    "    X_train, X_test, y_train, y_test = train_test_split(X, y, test_size = ts, random_state = 42)\n",
    "    fitting = model.fit(X_train, y_train),\n",
    "    scores = print(f'train score is {(model.score(X_train, y_train))}'), print(f'test score is {model.score(X_test, y_test)}')\n",
    "    \n",
    "    return scores"
   ]
  },
  {
   "cell_type": "markdown",
   "metadata": {},
   "source": [
    "# Scoring models on 16-20 dataset"
   ]
  },
  {
   "cell_type": "code",
   "execution_count": 1239,
   "metadata": {},
   "outputs": [
    {
     "name": "stdout",
     "output_type": "stream",
     "text": [
      "train score is 0.6081081081081081\n",
      "test score is 0.453125\n"
     ]
    },
    {
     "data": {
      "text/plain": [
       "(None, None)"
      ]
     },
     "execution_count": 1239,
     "metadata": {},
     "output_type": "execute_result"
    }
   ],
   "source": [
    "fit_models_and_score(knnc, sixteen_to_twenty_with_sal[['Age', 'PTS', 'FGA', 'TRB', 'GS', 'FT', 'TOV', '3P', 'MP', '2P']], sixteen_to_twenty_with_sal['sal_classified'], 0.30)"
   ]
  },
  {
   "cell_type": "code",
   "execution_count": 1240,
   "metadata": {},
   "outputs": [
    {
     "name": "stdout",
     "output_type": "stream",
     "text": [
      "train score is 0.6081081081081081\n",
      "test score is 0.609375\n"
     ]
    },
    {
     "data": {
      "text/plain": [
       "(None, None)"
      ]
     },
     "execution_count": 1240,
     "metadata": {},
     "output_type": "execute_result"
    }
   ],
   "source": [
    "fit_models_and_score(logreg, sixteen_to_twenty_with_sal[['Age', 'PTS', 'FGA', 'STL', 'TOV', '2P', '3P', 'GS', 'TRB', 'MP']], sixteen_to_twenty_with_sal['sal_classified'], 0.30)"
   ]
  },
  {
   "cell_type": "code",
   "execution_count": 1241,
   "metadata": {},
   "outputs": [
    {
     "name": "stdout",
     "output_type": "stream",
     "text": [
      "train score is 1.0\n",
      "test score is 0.40625\n"
     ]
    },
    {
     "data": {
      "text/plain": [
       "(None, None)"
      ]
     },
     "execution_count": 1241,
     "metadata": {},
     "output_type": "execute_result"
    }
   ],
   "source": [
    "fit_models_and_score(dt, sixteen_to_twenty_with_sal.drop(['Age', 'Rk', 'Tm', 'Pos', 'Season', 'Player', '2019-20', 'sal_classified'], axis=1), sixteen_to_twenty_with_sal['sal_classified'], 0.30)"
   ]
  },
  {
   "cell_type": "code",
   "execution_count": 1242,
   "metadata": {},
   "outputs": [
    {
     "name": "stdout",
     "output_type": "stream",
     "text": [
      "train score is 1.0\n",
      "test score is 0.828125\n"
     ]
    },
    {
     "data": {
      "text/plain": [
       "(None, None)"
      ]
     },
     "execution_count": 1242,
     "metadata": {},
     "output_type": "execute_result"
    }
   ],
   "source": [
    "fit_models_and_score(rf, sixteen_to_twenty_with_sal.drop(['Age', 'Rk', 'Tm', 'Pos', 'Season', 'Player', '2019-20'], axis=1), sixteen_to_twenty_with_sal['sal_classified'], 0.30)"
   ]
  },
  {
   "cell_type": "code",
   "execution_count": 1243,
   "metadata": {},
   "outputs": [],
   "source": [
    "features = sixteen_to_twenty_with_sal[['Age', 'PTS', 'FGA', 'STL', 'TOV', '2P', '3P', 'GS', 'TRB', 'MP']]"
   ]
  },
  {
   "cell_type": "code",
   "execution_count": 1244,
   "metadata": {},
   "outputs": [],
   "source": [
    "X = features \n",
    "y = sixteen_to_twenty_with_sal['sal_classified']"
   ]
  },
  {
   "cell_type": "code",
   "execution_count": 1245,
   "metadata": {},
   "outputs": [],
   "source": [
    "X_train, X_test, y_train, y_test = train_test_split(X, y, test_size = 0.30, random_state = 42)"
   ]
  },
  {
   "cell_type": "code",
   "execution_count": 1246,
   "metadata": {},
   "outputs": [
    {
     "data": {
      "image/png": "[encoded data removed]",
      "text/plain": [
       "<Figure size 432x288 with 2 Axes>"
      ]
     },
     "metadata": {
      "needs_background": "light"
     },
     "output_type": "display_data"
    }
   ],
   "source": [
    "plot_confusion_matrix(logreg, X_test, y_test, cmap='Blues', values_format='d');"
   ]
  },
  {
   "cell_type": "code",
   "execution_count": 1247,
   "metadata": {},
   "outputs": [],
   "source": [
    "lr_grid = [\n",
    "    {'penalty' : ['l2'],\n",
    "      'C' : [1.0, 0.1, .05, .01],\n",
    "     'solver' : ['newton-cg', 'lbfgs', 'saga']\n",
    "     \n",
    "        \n",
    "    }\n",
    "]"
   ]
  },
  {
   "cell_type": "code",
   "execution_count": 1248,
   "metadata": {},
   "outputs": [],
   "source": [
    "knnc_grid = [\n",
    "    {'n_neighbors': range(5, 30, 5),\n",
    "    'weights': ['uniform', 'distance'],\n",
    "    'p' : [1,2]}\n",
    "        \n",
    "    \n",
    "]"
   ]
  },
  {
   "cell_type": "code",
   "execution_count": 1249,
   "metadata": {},
   "outputs": [],
   "source": [
    "logreg_cv = GridSearchCV(logreg,lr_grid,cv=5)"
   ]
  },
  {
   "cell_type": "code",
   "execution_count": 1250,
   "metadata": {},
   "outputs": [],
   "source": [
    "knnc_cv = GridSearchCV(knnc,knnc_grid,cv=5)"
   ]
  },
  {
   "cell_type": "code",
   "execution_count": 1251,
   "metadata": {},
   "outputs": [
    {
     "name": "stdout",
     "output_type": "stream",
     "text": [
      "train score is 0.5337837837837838\n",
      "test score is 0.609375\n"
     ]
    },
    {
     "data": {
      "text/plain": [
       "(None, None)"
      ]
     },
     "execution_count": 1251,
     "metadata": {},
     "output_type": "execute_result"
    }
   ],
   "source": [
    "fit_models_and_score(logreg_cv, sixteen_to_twenty_with_sal[['Age', 'PTS', 'FGA', 'STL', 'TOV', '2P', '3P', 'GS', 'TRB', 'MP']], sixteen_to_twenty_with_sal['sal_classified'], 0.30)\n",
    "#Train lower, but test the same as before GS"
   ]
  },
  {
   "cell_type": "code",
   "execution_count": 1252,
   "metadata": {},
   "outputs": [
    {
     "name": "stdout",
     "output_type": "stream",
     "text": [
      "train score is 0.5\n",
      "test score is 0.46875\n"
     ]
    },
    {
     "data": {
      "text/plain": [
       "(None, None)"
      ]
     },
     "execution_count": 1252,
     "metadata": {},
     "output_type": "execute_result"
    }
   ],
   "source": [
    "fit_models_and_score(knnc_cv, sixteen_to_twenty_with_sal[['Age', 'PTS', 'FGA', 'STL', 'TOV', '2P', '3P', 'GS', 'TRB', 'MP']], sixteen_to_twenty_with_sal['sal_classified'], 0.30)\n",
    "#kNN model really struggling even when trying to gridsearch for hyperparamter optimization"
   ]
  },
  {
   "cell_type": "markdown",
   "metadata": {},
   "source": [
    "Experimenting with fewer features"
   ]
  },
  {
   "cell_type": "code",
   "execution_count": 1253,
   "metadata": {},
   "outputs": [
    {
     "name": "stdout",
     "output_type": "stream",
     "text": [
      "train score is 0.5474452554744526\n",
      "test score is 0.5733333333333334\n"
     ]
    },
    {
     "data": {
      "text/plain": [
       "(None, None)"
      ]
     },
     "execution_count": 1253,
     "metadata": {},
     "output_type": "execute_result"
    }
   ],
   "source": [
    "fit_models_and_score(logreg, sixteen_to_twenty_with_sal[['Age', 'PTS', 'MP', 'GS', 'TRB', 'TOV']], sixteen_to_twenty_with_sal['sal_classified'], 0.35)\n",
    "#Experimenting with new features"
   ]
  },
  {
   "cell_type": "code",
   "execution_count": null,
   "metadata": {},
   "outputs": [],
   "source": []
  },
  {
   "cell_type": "markdown",
   "metadata": {},
   "source": [
    "# Scoring Models on 14-18 dataset"
   ]
  },
  {
   "cell_type": "code",
   "execution_count": 1254,
   "metadata": {},
   "outputs": [
    {
     "name": "stdout",
     "output_type": "stream",
     "text": [
      "train score is 0.4918032786885246\n",
      "test score is 0.4339622641509434\n"
     ]
    },
    {
     "data": {
      "text/plain": [
       "(None, None)"
      ]
     },
     "execution_count": 1254,
     "metadata": {},
     "output_type": "execute_result"
    }
   ],
   "source": [
    "fit_models_and_score(logreg, fourteen_to_eighteen_with_sal[['Age', 'FG', 'PTS', 'MP']], fourteen_to_eighteen_with_sal['sal_classified'], 0.30)"
   ]
  },
  {
   "cell_type": "code",
   "execution_count": 1255,
   "metadata": {},
   "outputs": [
    {
     "name": "stdout",
     "output_type": "stream",
     "text": [
      "train score is 0.5737704918032787\n",
      "test score is 0.4528301886792453\n"
     ]
    },
    {
     "data": {
      "text/plain": [
       "(None, None)"
      ]
     },
     "execution_count": 1255,
     "metadata": {},
     "output_type": "execute_result"
    }
   ],
   "source": [
    "fit_models_and_score(logreg, fourteen_to_eighteen_with_sal[['Age', 'FG', 'PTS', 'MP', 'GS', 'TRB', 'BLK']], fourteen_to_eighteen_with_sal['sal_classified'], 0.30)"
   ]
  },
  {
   "cell_type": "code",
   "execution_count": 1256,
   "metadata": {},
   "outputs": [
    {
     "name": "stdout",
     "output_type": "stream",
     "text": [
      "train score is 0.5655737704918032\n",
      "test score is 0.49056603773584906\n"
     ]
    },
    {
     "data": {
      "text/plain": [
       "(None, None)"
      ]
     },
     "execution_count": 1256,
     "metadata": {},
     "output_type": "execute_result"
    }
   ],
   "source": [
    "fit_models_and_score(logreg, fourteen_to_eighteen_with_sal[['Age', '3P%', 'FG', 'PTS', 'MP', 'GS', 'TRB', 'BLK', 'FT']], fourteen_to_eighteen_with_sal['sal_classified'], 0.30)"
   ]
  },
  {
   "cell_type": "code",
   "execution_count": 1257,
   "metadata": {},
   "outputs": [
    {
     "name": "stdout",
     "output_type": "stream",
     "text": [
      "train score is 0.45081967213114754\n",
      "test score is 0.41509433962264153\n"
     ]
    },
    {
     "data": {
      "text/plain": [
       "(None, None)"
      ]
     },
     "execution_count": 1257,
     "metadata": {},
     "output_type": "execute_result"
    }
   ],
   "source": [
    "fit_models_and_score(knnc, fourteen_to_eighteen_with_sal[['Age', 'FG', 'PTS', 'MP']], fourteen_to_eighteen_with_sal['sal_classified'], 0.30)"
   ]
  },
  {
   "cell_type": "code",
   "execution_count": 1258,
   "metadata": {},
   "outputs": [
    {
     "name": "stdout",
     "output_type": "stream",
     "text": [
      "train score is 0.48360655737704916\n",
      "test score is 0.39622641509433965\n"
     ]
    },
    {
     "data": {
      "text/plain": [
       "(None, None)"
      ]
     },
     "execution_count": 1258,
     "metadata": {},
     "output_type": "execute_result"
    }
   ],
   "source": [
    "fit_models_and_score(logreg_cv, fourteen_to_eighteen_with_sal[['Age', 'FG', 'PTS', 'MP']], fourteen_to_eighteen_with_sal['sal_classified'], 0.30)"
   ]
  },
  {
   "cell_type": "code",
   "execution_count": 1259,
   "metadata": {},
   "outputs": [
    {
     "name": "stdout",
     "output_type": "stream",
     "text": [
      "train score is 0.4918032786885246\n",
      "test score is 0.3584905660377358\n"
     ]
    },
    {
     "data": {
      "text/plain": [
       "(None, None)"
      ]
     },
     "execution_count": 1259,
     "metadata": {},
     "output_type": "execute_result"
    }
   ],
   "source": [
    "fit_models_and_score(knnc_cv, fourteen_to_eighteen_with_sal[['Age', 'FG', 'PTS', 'MP']], fourteen_to_eighteen_with_sal['sal_classified'], 0.30)"
   ]
  },
  {
   "cell_type": "code",
   "execution_count": 1260,
   "metadata": {},
   "outputs": [],
   "source": [
    "features1 = fourteen_to_eighteen_with_sal[['Age', '3P%', 'FG', 'PTS', 'MP', 'GS', 'TRB', 'BLK', 'FT']]"
   ]
  },
  {
   "cell_type": "code",
   "execution_count": 1261,
   "metadata": {},
   "outputs": [],
   "source": [
    "X = features1\n",
    "y = fourteen_to_eighteen_with_sal['sal_classified']"
   ]
  },
  {
   "cell_type": "code",
   "execution_count": 1262,
   "metadata": {},
   "outputs": [],
   "source": [
    "X_train, X_test, y_train, y_test = train_test_split(X, y, test_size = 0.30, random_state = 42)"
   ]
  },
  {
   "cell_type": "code",
   "execution_count": 1263,
   "metadata": {},
   "outputs": [
    {
     "data": {
      "image/png": "[encoded data removed]",
      "text/plain": [
       "<Figure size 432x288 with 2 Axes>"
      ]
     },
     "metadata": {
      "needs_background": "light"
     },
     "output_type": "display_data"
    }
   ],
   "source": [
    "plot_confusion_matrix(logreg, X_test, y_test, cmap='Blues', values_format='d');"
   ]
  },
  {
   "cell_type": "markdown",
   "metadata": {},
   "source": [
    "# Scoring Models on 13-17 dataset"
   ]
  },
  {
   "cell_type": "code",
   "execution_count": 1264,
   "metadata": {},
   "outputs": [
    {
     "name": "stdout",
     "output_type": "stream",
     "text": [
      "train score is 0.45185185185185184\n",
      "test score is 0.4915254237288136\n"
     ]
    },
    {
     "data": {
      "text/plain": [
       "(None, None)"
      ]
     },
     "execution_count": 1264,
     "metadata": {},
     "output_type": "execute_result"
    }
   ],
   "source": [
    "fit_models_and_score(logreg, thirteen_to_seventeen_with_sal[['MP', 'PTS', 'FG', 'FTA', '2P', 'GS']], thirteen_to_seventeen_with_sal['sal_classified'], 0.30)"
   ]
  },
  {
   "cell_type": "code",
   "execution_count": 1265,
   "metadata": {},
   "outputs": [
    {
     "name": "stdout",
     "output_type": "stream",
     "text": [
      "train score is 0.5185185185185185\n",
      "test score is 0.3898305084745763\n"
     ]
    },
    {
     "data": {
      "text/plain": [
       "(None, None)"
      ]
     },
     "execution_count": 1265,
     "metadata": {},
     "output_type": "execute_result"
    }
   ],
   "source": [
    "fit_models_and_score(knnc, thirteen_to_seventeen_with_sal[['MP', 'PTS', 'FG', 'FTA', '2P', 'GS']], thirteen_to_seventeen_with_sal['sal_classified'], 0.30)"
   ]
  },
  {
   "cell_type": "code",
   "execution_count": 1266,
   "metadata": {},
   "outputs": [
    {
     "name": "stdout",
     "output_type": "stream",
     "text": [
      "train score is 1.0\n",
      "test score is 0.288135593220339\n"
     ]
    },
    {
     "data": {
      "text/plain": [
       "(None, None)"
      ]
     },
     "execution_count": 1266,
     "metadata": {},
     "output_type": "execute_result"
    }
   ],
   "source": [
    "fit_models_and_score(dt, thirteen_to_seventeen_with_sal[['MP', 'PTS', 'FG', 'FTA', '2P', 'GS']], thirteen_to_seventeen_with_sal['sal_classified'], 0.30)"
   ]
  },
  {
   "cell_type": "code",
   "execution_count": 1267,
   "metadata": {},
   "outputs": [
    {
     "data": {
      "text/plain": [
       "sal_classified    1.000000\n",
       "salary            0.942260\n",
       "MP                0.673604\n",
       "FG                0.654023\n",
       "PTS               0.647758\n",
       "GS                0.637462\n",
       "2P                0.628026\n",
       "FTA               0.624318\n",
       "2PA               0.609047\n",
       "FT                0.607357\n",
       "FGA               0.603702\n",
       "DRB               0.567915\n",
       "TRB               0.534853\n",
       "TOV               0.500642\n",
       "STL               0.430248\n",
       "ORB               0.388784\n",
       "PF                0.384363\n",
       "G                 0.376298\n",
       "BLK               0.362562\n",
       "FG%               0.300108\n",
       "AST               0.296975\n",
       "2P%               0.233157\n",
       "eFG%              0.228781\n",
       "3P                0.148872\n",
       "3PA               0.141375\n",
       "FT%               0.034947\n",
       "3P%              -0.085402\n",
       "Rk               -0.088447\n",
       "Age              -0.165599\n",
       "Name: sal_classified, dtype: float64"
      ]
     },
     "execution_count": 1267,
     "metadata": {},
     "output_type": "execute_result"
    }
   ],
   "source": [
    "thirteen_to_seventeen_with_sal.corr()['sal_classified'].sort_values(ascending=False)"
   ]
  },
  {
   "cell_type": "code",
   "execution_count": 1268,
   "metadata": {},
   "outputs": [],
   "source": [
    "features2 = thirteen_to_seventeen_with_sal[['MP', 'PTS', 'FG', 'FTA', '2P', 'GS']]"
   ]
  },
  {
   "cell_type": "code",
   "execution_count": 1269,
   "metadata": {},
   "outputs": [],
   "source": [
    "X = features2\n",
    "y = thirteen_to_seventeen_with_sal['sal_classified']"
   ]
  },
  {
   "cell_type": "code",
   "execution_count": 1270,
   "metadata": {},
   "outputs": [],
   "source": [
    "X_train, X_test, y_train, y_test = train_test_split(X, y, test_size = 0.30, random_state = 42)"
   ]
  },
  {
   "cell_type": "code",
   "execution_count": 1271,
   "metadata": {},
   "outputs": [
    {
     "data": {
      "image/png": "[encoded data removed]",
      "text/plain": [
       "<Figure size 432x288 with 2 Axes>"
      ]
     },
     "metadata": {
      "needs_background": "light"
     },
     "output_type": "display_data"
    }
   ],
   "source": [
    "plot_confusion_matrix(logreg, X_test, y_test, cmap='Blues', values_format='d');"
   ]
  },
  {
   "cell_type": "markdown",
   "metadata": {},
   "source": [
    "# Experimenting w/features 16-20 "
   ]
  },
  {
   "cell_type": "code",
   "execution_count": 1272,
   "metadata": {},
   "outputs": [
    {
     "data": {
      "text/plain": [
       "2019-20           1.000000\n",
       "sal_classified    0.941744\n",
       "PTS               0.777871\n",
       "FG                0.767685\n",
       "FGA               0.747993\n",
       "MP                0.738304\n",
       "FT                0.706744\n",
       "GS                0.697379\n",
       "FTA               0.696733\n",
       "2PA               0.684865\n",
       "TOV               0.677175\n",
       "2P                0.676427\n",
       "AST               0.567211\n",
       "STL               0.554729\n",
       "DRB               0.544989\n",
       "TRB               0.466665\n",
       "3PA               0.428419\n",
       "3P                0.423755\n",
       "PF                0.376320\n",
       "G                 0.323772\n",
       "BLK               0.271867\n",
       "FT%               0.246529\n",
       "ORB               0.224346\n",
       "3P%               0.157425\n",
       "2P%               0.134902\n",
       "eFG%              0.133224\n",
       "FG%               0.128468\n",
       "Rk               -0.018450\n",
       "Age              -0.048687\n",
       "Name: 2019-20, dtype: float64"
      ]
     },
     "execution_count": 1272,
     "metadata": {},
     "output_type": "execute_result"
    }
   ],
   "source": [
    "sixteen_to_twenty_with_sal.corr()['2019-20'].sort_values(ascending=False)"
   ]
  },
  {
   "cell_type": "code",
   "execution_count": 1273,
   "metadata": {},
   "outputs": [
    {
     "name": "stdout",
     "output_type": "stream",
     "text": [
      "train score is 0.6081081081081081\n",
      "test score is 0.59375\n"
     ]
    },
    {
     "data": {
      "text/plain": [
       "(None, None)"
      ]
     },
     "execution_count": 1273,
     "metadata": {},
     "output_type": "execute_result"
    }
   ],
   "source": [
    "fit_models_and_score(logreg, sixteen_to_twenty_with_sal[['Age', 'PTS', 'FGA', 'STL', 'TRB', 'GS', 'TOV', 'FT', '3P', 'MP', '2P']], sixteen_to_twenty_with_sal['sal_classified'], 0.30)"
   ]
  },
  {
   "cell_type": "code",
   "execution_count": null,
   "metadata": {},
   "outputs": [],
   "source": []
  },
  {
   "cell_type": "markdown",
   "metadata": {},
   "source": [
    "# Feature Engineering"
   ]
  },
  {
   "cell_type": "code",
   "execution_count": 1274,
   "metadata": {},
   "outputs": [],
   "source": [
    "features = ['G', 'GS', 'MP', 'FG',\n",
    "       'FGA', 'FG%', '3P', '3PA', '3P%', '2P', '2PA', '2P%', 'eFG%', 'FT',\n",
    "       'FTA', 'FT%', 'ORB', 'DRB', 'TRB', 'AST', 'STL', 'BLK', 'TOV', 'PF',\n",
    "       'PTS']\n",
    "X = sixteen_to_twenty_with_sal[features]"
   ]
  },
  {
   "cell_type": "code",
   "execution_count": 1275,
   "metadata": {},
   "outputs": [],
   "source": [
    "poly = PolynomialFeatures(include_bias=False)"
   ]
  },
  {
   "cell_type": "code",
   "execution_count": 1276,
   "metadata": {},
   "outputs": [],
   "source": [
    "poly_features = poly.fit_transform(X)"
   ]
  },
  {
   "cell_type": "code",
   "execution_count": 1277,
   "metadata": {},
   "outputs": [
    {
     "data": {
      "text/html": [
       "<div>\n",
       "<style scoped>\n",
       "    .dataframe tbody tr th:only-of-type {\n",
       "        vertical-align: middle;\n",
       "    }\n",
       "\n",
       "    .dataframe tbody tr th {\n",
       "        vertical-align: top;\n",
       "    }\n",
       "\n",
       "    .dataframe thead th {\n",
       "        text-align: right;\n",
       "    }\n",
       "</style>\n",
       "<table border=\"1\" class=\"dataframe\">\n",
       "  <thead>\n",
       "    <tr style=\"text-align: right;\">\n",
       "      <th></th>\n",
       "      <th>G</th>\n",
       "      <th>GS</th>\n",
       "      <th>MP</th>\n",
       "      <th>FG</th>\n",
       "      <th>FGA</th>\n",
       "      <th>FG%</th>\n",
       "      <th>3P</th>\n",
       "      <th>3PA</th>\n",
       "      <th>3P%</th>\n",
       "      <th>2P</th>\n",
       "      <th>...</th>\n",
       "      <th>BLK^2</th>\n",
       "      <th>BLK TOV</th>\n",
       "      <th>BLK PF</th>\n",
       "      <th>BLK PTS</th>\n",
       "      <th>TOV^2</th>\n",
       "      <th>TOV PF</th>\n",
       "      <th>TOV PTS</th>\n",
       "      <th>PF^2</th>\n",
       "      <th>PF PTS</th>\n",
       "      <th>PTS^2</th>\n",
       "    </tr>\n",
       "  </thead>\n",
       "  <tbody>\n",
       "    <tr>\n",
       "      <th>0</th>\n",
       "      <td>71.2</td>\n",
       "      <td>61.2</td>\n",
       "      <td>30.36</td>\n",
       "      <td>5.26</td>\n",
       "      <td>11.78</td>\n",
       "      <td>0.4494</td>\n",
       "      <td>1.26</td>\n",
       "      <td>3.84</td>\n",
       "      <td>0.3154</td>\n",
       "      <td>4.04</td>\n",
       "      <td>...</td>\n",
       "      <td>0.4356</td>\n",
       "      <td>0.9768</td>\n",
       "      <td>1.3596</td>\n",
       "      <td>9.2268</td>\n",
       "      <td>2.1904</td>\n",
       "      <td>3.0488</td>\n",
       "      <td>20.6904</td>\n",
       "      <td>4.2436</td>\n",
       "      <td>28.7988</td>\n",
       "      <td>195.4404</td>\n",
       "    </tr>\n",
       "    <tr>\n",
       "      <th>1</th>\n",
       "      <td>71.4</td>\n",
       "      <td>70.2</td>\n",
       "      <td>31.04</td>\n",
       "      <td>5.54</td>\n",
       "      <td>11.26</td>\n",
       "      <td>0.4904</td>\n",
       "      <td>1.26</td>\n",
       "      <td>3.40</td>\n",
       "      <td>0.3676</td>\n",
       "      <td>4.28</td>\n",
       "      <td>...</td>\n",
       "      <td>1.4884</td>\n",
       "      <td>1.8300</td>\n",
       "      <td>2.4156</td>\n",
       "      <td>16.4944</td>\n",
       "      <td>2.2500</td>\n",
       "      <td>2.9700</td>\n",
       "      <td>20.2800</td>\n",
       "      <td>3.9204</td>\n",
       "      <td>26.7696</td>\n",
       "      <td>182.7904</td>\n",
       "    </tr>\n",
       "    <tr>\n",
       "      <th>2</th>\n",
       "      <td>62.2</td>\n",
       "      <td>51.4</td>\n",
       "      <td>27.40</td>\n",
       "      <td>2.90</td>\n",
       "      <td>7.38</td>\n",
       "      <td>0.3856</td>\n",
       "      <td>1.22</td>\n",
       "      <td>3.64</td>\n",
       "      <td>0.3306</td>\n",
       "      <td>1.68</td>\n",
       "      <td>...</td>\n",
       "      <td>0.2916</td>\n",
       "      <td>0.6372</td>\n",
       "      <td>0.9828</td>\n",
       "      <td>4.5252</td>\n",
       "      <td>1.3924</td>\n",
       "      <td>2.1476</td>\n",
       "      <td>9.8884</td>\n",
       "      <td>3.3124</td>\n",
       "      <td>15.2516</td>\n",
       "      <td>70.2244</td>\n",
       "    </tr>\n",
       "    <tr>\n",
       "      <th>3</th>\n",
       "      <td>53.4</td>\n",
       "      <td>9.4</td>\n",
       "      <td>21.16</td>\n",
       "      <td>3.48</td>\n",
       "      <td>8.44</td>\n",
       "      <td>0.4086</td>\n",
       "      <td>1.02</td>\n",
       "      <td>2.74</td>\n",
       "      <td>0.3626</td>\n",
       "      <td>2.44</td>\n",
       "      <td>...</td>\n",
       "      <td>0.0324</td>\n",
       "      <td>0.2052</td>\n",
       "      <td>0.2880</td>\n",
       "      <td>1.8540</td>\n",
       "      <td>1.2996</td>\n",
       "      <td>1.8240</td>\n",
       "      <td>11.7420</td>\n",
       "      <td>2.5600</td>\n",
       "      <td>16.4800</td>\n",
       "      <td>106.0900</td>\n",
       "    </tr>\n",
       "    <tr>\n",
       "      <th>4</th>\n",
       "      <td>71.2</td>\n",
       "      <td>27.2</td>\n",
       "      <td>20.30</td>\n",
       "      <td>3.38</td>\n",
       "      <td>6.74</td>\n",
       "      <td>0.5070</td>\n",
       "      <td>0.26</td>\n",
       "      <td>0.80</td>\n",
       "      <td>0.2720</td>\n",
       "      <td>3.10</td>\n",
       "      <td>...</td>\n",
       "      <td>0.9216</td>\n",
       "      <td>1.2672</td>\n",
       "      <td>2.5344</td>\n",
       "      <td>8.5632</td>\n",
       "      <td>1.7424</td>\n",
       "      <td>3.4848</td>\n",
       "      <td>11.7744</td>\n",
       "      <td>6.9696</td>\n",
       "      <td>23.5488</td>\n",
       "      <td>79.5664</td>\n",
       "    </tr>\n",
       "    <tr>\n",
       "      <th>...</th>\n",
       "      <td>...</td>\n",
       "      <td>...</td>\n",
       "      <td>...</td>\n",
       "      <td>...</td>\n",
       "      <td>...</td>\n",
       "      <td>...</td>\n",
       "      <td>...</td>\n",
       "      <td>...</td>\n",
       "      <td>...</td>\n",
       "      <td>...</td>\n",
       "      <td>...</td>\n",
       "      <td>...</td>\n",
       "      <td>...</td>\n",
       "      <td>...</td>\n",
       "      <td>...</td>\n",
       "      <td>...</td>\n",
       "      <td>...</td>\n",
       "      <td>...</td>\n",
       "      <td>...</td>\n",
       "      <td>...</td>\n",
       "      <td>...</td>\n",
       "    </tr>\n",
       "    <tr>\n",
       "      <th>207</th>\n",
       "      <td>60.8</td>\n",
       "      <td>19.0</td>\n",
       "      <td>22.40</td>\n",
       "      <td>3.10</td>\n",
       "      <td>7.78</td>\n",
       "      <td>0.3932</td>\n",
       "      <td>2.12</td>\n",
       "      <td>5.68</td>\n",
       "      <td>0.3698</td>\n",
       "      <td>0.98</td>\n",
       "      <td>...</td>\n",
       "      <td>0.0100</td>\n",
       "      <td>0.0620</td>\n",
       "      <td>0.1240</td>\n",
       "      <td>0.8960</td>\n",
       "      <td>0.3844</td>\n",
       "      <td>0.7688</td>\n",
       "      <td>5.5552</td>\n",
       "      <td>1.5376</td>\n",
       "      <td>11.1104</td>\n",
       "      <td>80.2816</td>\n",
       "    </tr>\n",
       "    <tr>\n",
       "      <th>208</th>\n",
       "      <td>70.0</td>\n",
       "      <td>69.6</td>\n",
       "      <td>31.32</td>\n",
       "      <td>3.96</td>\n",
       "      <td>10.00</td>\n",
       "      <td>0.3966</td>\n",
       "      <td>2.20</td>\n",
       "      <td>5.98</td>\n",
       "      <td>0.3680</td>\n",
       "      <td>1.78</td>\n",
       "      <td>...</td>\n",
       "      <td>0.0400</td>\n",
       "      <td>0.2240</td>\n",
       "      <td>0.4200</td>\n",
       "      <td>2.3320</td>\n",
       "      <td>1.2544</td>\n",
       "      <td>2.3520</td>\n",
       "      <td>13.0592</td>\n",
       "      <td>4.4100</td>\n",
       "      <td>24.4860</td>\n",
       "      <td>135.9556</td>\n",
       "    </tr>\n",
       "    <tr>\n",
       "      <th>209</th>\n",
       "      <td>64.8</td>\n",
       "      <td>31.2</td>\n",
       "      <td>30.18</td>\n",
       "      <td>5.16</td>\n",
       "      <td>11.84</td>\n",
       "      <td>0.4358</td>\n",
       "      <td>1.66</td>\n",
       "      <td>4.54</td>\n",
       "      <td>0.3604</td>\n",
       "      <td>3.54</td>\n",
       "      <td>...</td>\n",
       "      <td>0.2704</td>\n",
       "      <td>0.8424</td>\n",
       "      <td>1.0088</td>\n",
       "      <td>7.3216</td>\n",
       "      <td>2.6244</td>\n",
       "      <td>3.1428</td>\n",
       "      <td>22.8096</td>\n",
       "      <td>3.7636</td>\n",
       "      <td>27.3152</td>\n",
       "      <td>198.2464</td>\n",
       "    </tr>\n",
       "    <tr>\n",
       "      <th>210</th>\n",
       "      <td>69.8</td>\n",
       "      <td>47.6</td>\n",
       "      <td>23.18</td>\n",
       "      <td>3.98</td>\n",
       "      <td>7.36</td>\n",
       "      <td>0.5460</td>\n",
       "      <td>0.00</td>\n",
       "      <td>0.04</td>\n",
       "      <td>0.1500</td>\n",
       "      <td>3.98</td>\n",
       "      <td>...</td>\n",
       "      <td>0.7056</td>\n",
       "      <td>0.8064</td>\n",
       "      <td>1.9656</td>\n",
       "      <td>7.8960</td>\n",
       "      <td>0.9216</td>\n",
       "      <td>2.2464</td>\n",
       "      <td>9.0240</td>\n",
       "      <td>5.4756</td>\n",
       "      <td>21.9960</td>\n",
       "      <td>88.3600</td>\n",
       "    </tr>\n",
       "    <tr>\n",
       "      <th>211</th>\n",
       "      <td>55.2</td>\n",
       "      <td>45.2</td>\n",
       "      <td>32.36</td>\n",
       "      <td>7.06</td>\n",
       "      <td>15.92</td>\n",
       "      <td>0.4422</td>\n",
       "      <td>2.18</td>\n",
       "      <td>5.76</td>\n",
       "      <td>0.3742</td>\n",
       "      <td>4.90</td>\n",
       "      <td>...</td>\n",
       "      <td>0.0900</td>\n",
       "      <td>0.7380</td>\n",
       "      <td>0.6780</td>\n",
       "      <td>5.9280</td>\n",
       "      <td>6.0516</td>\n",
       "      <td>5.5596</td>\n",
       "      <td>48.6096</td>\n",
       "      <td>5.1076</td>\n",
       "      <td>44.6576</td>\n",
       "      <td>390.4576</td>\n",
       "    </tr>\n",
       "  </tbody>\n",
       "</table>\n",
       "<p>212 rows × 350 columns</p>\n",
       "</div>"
      ],
      "text/plain": [
       "        G    GS     MP    FG    FGA     FG%    3P   3PA     3P%    2P  ...  \\\n",
       "0    71.2  61.2  30.36  5.26  11.78  0.4494  1.26  3.84  0.3154  4.04  ...   \n",
       "1    71.4  70.2  31.04  5.54  11.26  0.4904  1.26  3.40  0.3676  4.28  ...   \n",
       "2    62.2  51.4  27.40  2.90   7.38  0.3856  1.22  3.64  0.3306  1.68  ...   \n",
       "3    53.4   9.4  21.16  3.48   8.44  0.4086  1.02  2.74  0.3626  2.44  ...   \n",
       "4    71.2  27.2  20.30  3.38   6.74  0.5070  0.26  0.80  0.2720  3.10  ...   \n",
       "..    ...   ...    ...   ...    ...     ...   ...   ...     ...   ...  ...   \n",
       "207  60.8  19.0  22.40  3.10   7.78  0.3932  2.12  5.68  0.3698  0.98  ...   \n",
       "208  70.0  69.6  31.32  3.96  10.00  0.3966  2.20  5.98  0.3680  1.78  ...   \n",
       "209  64.8  31.2  30.18  5.16  11.84  0.4358  1.66  4.54  0.3604  3.54  ...   \n",
       "210  69.8  47.6  23.18  3.98   7.36  0.5460  0.00  0.04  0.1500  3.98  ...   \n",
       "211  55.2  45.2  32.36  7.06  15.92  0.4422  2.18  5.76  0.3742  4.90  ...   \n",
       "\n",
       "      BLK^2  BLK TOV  BLK PF  BLK PTS   TOV^2  TOV PF  TOV PTS    PF^2  \\\n",
       "0    0.4356   0.9768  1.3596   9.2268  2.1904  3.0488  20.6904  4.2436   \n",
       "1    1.4884   1.8300  2.4156  16.4944  2.2500  2.9700  20.2800  3.9204   \n",
       "2    0.2916   0.6372  0.9828   4.5252  1.3924  2.1476   9.8884  3.3124   \n",
       "3    0.0324   0.2052  0.2880   1.8540  1.2996  1.8240  11.7420  2.5600   \n",
       "4    0.9216   1.2672  2.5344   8.5632  1.7424  3.4848  11.7744  6.9696   \n",
       "..      ...      ...     ...      ...     ...     ...      ...     ...   \n",
       "207  0.0100   0.0620  0.1240   0.8960  0.3844  0.7688   5.5552  1.5376   \n",
       "208  0.0400   0.2240  0.4200   2.3320  1.2544  2.3520  13.0592  4.4100   \n",
       "209  0.2704   0.8424  1.0088   7.3216  2.6244  3.1428  22.8096  3.7636   \n",
       "210  0.7056   0.8064  1.9656   7.8960  0.9216  2.2464   9.0240  5.4756   \n",
       "211  0.0900   0.7380  0.6780   5.9280  6.0516  5.5596  48.6096  5.1076   \n",
       "\n",
       "      PF PTS     PTS^2  \n",
       "0    28.7988  195.4404  \n",
       "1    26.7696  182.7904  \n",
       "2    15.2516   70.2244  \n",
       "3    16.4800  106.0900  \n",
       "4    23.5488   79.5664  \n",
       "..       ...       ...  \n",
       "207  11.1104   80.2816  \n",
       "208  24.4860  135.9556  \n",
       "209  27.3152  198.2464  \n",
       "210  21.9960   88.3600  \n",
       "211  44.6576  390.4576  \n",
       "\n",
       "[212 rows x 350 columns]"
      ]
     },
     "execution_count": 1277,
     "metadata": {},
     "output_type": "execute_result"
    }
   ],
   "source": [
    "df_poly = pd.DataFrame(poly_features, columns=poly.get_feature_names(features))\n",
    "df_poly"
   ]
  },
  {
   "cell_type": "code",
   "execution_count": 1278,
   "metadata": {},
   "outputs": [],
   "source": [
    "twenty_sal = sixteen_to_twenty_with_sal['2019-20']"
   ]
  },
  {
   "cell_type": "code",
   "execution_count": 1279,
   "metadata": {},
   "outputs": [],
   "source": [
    "df_poly['salary'] = twenty_sal"
   ]
  },
  {
   "cell_type": "code",
   "execution_count": 1280,
   "metadata": {},
   "outputs": [],
   "source": [
    "u = df_poly.corr()['salary'].sort_values(ascending=False)"
   ]
  },
  {
   "cell_type": "code",
   "execution_count": 1281,
   "metadata": {},
   "outputs": [
    {
     "data": {
      "text/plain": [
       "salary      1.000000\n",
       "GS PTS      0.804791\n",
       "MP PTS      0.799904\n",
       "GS FG       0.798205\n",
       "MP FG       0.797308\n",
       "              ...   \n",
       "2P%^2       0.122320\n",
       "FG% eFG%    0.118835\n",
       "eFG%^2      0.118816\n",
       "FG% 2P%     0.115947\n",
       "FG%^2       0.104090\n",
       "Name: salary, Length: 351, dtype: float64"
      ]
     },
     "execution_count": 1281,
     "metadata": {},
     "output_type": "execute_result"
    }
   ],
   "source": [
    "u.sort_values(ascending=False)\n",
    "#Idea of some of the features most highly correlated/will work in the model"
   ]
  },
  {
   "cell_type": "code",
   "execution_count": 1282,
   "metadata": {},
   "outputs": [
    {
     "name": "stdout",
     "output_type": "stream",
     "text": [
      "train score is 0.581081081081081\n",
      "test score is 0.578125\n"
     ]
    },
    {
     "data": {
      "text/plain": [
       "(None, None)"
      ]
     },
     "execution_count": 1282,
     "metadata": {},
     "output_type": "execute_result"
    }
   ],
   "source": [
    "fit_models_and_score(logreg, sixteen_to_twenty_with_sal[['Age', 'PTS', 'FGA', 'TRB', 'STL', '3P', 'GS', 'FT']], sixteen_to_twenty_with_sal['sal_classified'], 0.30)"
   ]
  },
  {
   "cell_type": "markdown",
   "metadata": {},
   "source": [
    "# Scoring models with Polynomial Features "
   ]
  },
  {
   "cell_type": "code",
   "execution_count": 1283,
   "metadata": {},
   "outputs": [],
   "source": [
    "my_features = ['GS PTS',  \n",
    "'MP PTS',      \n",
    "'GS FG',       \n",
    "'MP FG',     \n",
    "'GS FGA',      \n",
    "'MP FGA',    \n",
    "'2P% PTS',]"
   ]
  },
  {
   "cell_type": "code",
   "execution_count": 1284,
   "metadata": {},
   "outputs": [
    {
     "name": "stdout",
     "output_type": "stream",
     "text": [
      "train score is 0.47297297297297297\n",
      "test score is 0.546875\n"
     ]
    },
    {
     "data": {
      "text/plain": [
       "(None, None)"
      ]
     },
     "execution_count": 1284,
     "metadata": {},
     "output_type": "execute_result"
    }
   ],
   "source": [
    "fit_models_and_score(logreg, df_poly[['GS PTS', 'MP PTS', 'GS FG', 'FG%^2', '3P']]\n",
    "# 'FG PTS'      ,\n",
    "# 'FGA FG%'     ,\n",
    "# 'GS FT'       ,\n",
    "# 'G PTS'       ,\n",
    "# 'FG eFG%'     \n",
    "                                     , sixteen_to_twenty_with_sal['sal_classified'], 0.30)"
   ]
  },
  {
   "cell_type": "markdown",
   "metadata": {},
   "source": [
    "I'll incorporate the new dataframe (and others from past years) to try to raise my accuracy score"
   ]
  },
  {
   "cell_type": "markdown",
   "metadata": {},
   "source": [
    "# Clustering"
   ]
  },
  {
   "cell_type": "markdown",
   "metadata": {},
   "source": [
    "# 16-20"
   ]
  },
  {
   "cell_type": "code",
   "execution_count": 1285,
   "metadata": {},
   "outputs": [],
   "source": [
    "ss = StandardScaler()"
   ]
  },
  {
   "cell_type": "code",
   "execution_count": 1286,
   "metadata": {},
   "outputs": [],
   "source": [
    "sixteen_to_twenty_with_sal = sixteen_to_twenty_with_sal.drop(['sal_classified'],axis=1)\n",
    "#Dropping what we want to be our target"
   ]
  },
  {
   "cell_type": "code",
   "execution_count": 1287,
   "metadata": {},
   "outputs": [],
   "source": [
    "sixteen_to_twenty_with_sal = sixteen_to_twenty_with_sal.drop(['Rk', 'Tm', 'Pos', 'Season', 'Player', '2019-20'], axis=1)\n",
    "#Dropping unnecessary/non-numeric columns"
   ]
  },
  {
   "cell_type": "code",
   "execution_count": 1288,
   "metadata": {},
   "outputs": [],
   "source": [
    "sixteen_to_twenty_with_sal_sc = ss.fit_transform(sixteen_to_twenty_with_sal)"
   ]
  },
  {
   "cell_type": "code",
   "execution_count": 1289,
   "metadata": {},
   "outputs": [],
   "source": [
    "salary_model = KMeans(n_clusters=5, random_state=0).fit(sixteen_to_twenty_with_sal_sc)"
   ]
  },
  {
   "cell_type": "code",
   "execution_count": 1290,
   "metadata": {},
   "outputs": [
    {
     "data": {
      "text/plain": [
       "array([4, 4, 4, 0, 1, 0, 3, 1, 2, 3, 0, 1, 4, 4, 0, 1, 2, 1, 0, 4, 2, 4,\n",
       "       0, 0, 2, 0, 4, 0, 2, 0, 3, 1, 0, 0, 0, 1, 2, 0, 2, 4, 4, 3, 2, 0,\n",
       "       0, 4, 1, 4, 2, 1, 4, 0, 4, 3, 1, 0, 1, 4, 4, 1, 2, 4, 4, 4, 0, 0,\n",
       "       0, 4, 4, 3, 4, 4, 1, 4, 3, 1, 0, 4, 4, 0, 4, 0, 1, 1, 4, 4, 1, 0,\n",
       "       0, 2, 1, 0, 0, 4, 1, 4, 0, 2, 1, 0, 4, 1, 3, 4, 4, 2, 3, 0, 0, 4,\n",
       "       3, 3, 2, 4, 2, 4, 4, 4, 1, 2, 1, 0, 2, 1, 2, 3, 0, 0, 2, 2, 0, 4,\n",
       "       0, 4, 4, 0, 4, 4, 1, 0, 1, 0, 0, 1, 2, 0, 0, 1, 4, 0, 1, 4, 3, 3,\n",
       "       1, 0, 4, 4, 0, 4, 0, 0, 2, 4, 4, 0, 0, 4, 1, 4, 4, 1, 4, 1, 4, 3,\n",
       "       2, 0, 4, 0, 0, 4, 0, 2, 3, 0, 4, 1, 0, 0, 0, 4, 0, 4, 0, 4, 0, 0,\n",
       "       1, 0, 0, 0, 1, 0, 0, 2, 0, 0, 4, 4, 1, 2])"
      ]
     },
     "execution_count": 1290,
     "metadata": {},
     "output_type": "execute_result"
    }
   ],
   "source": [
    "salary_model.labels_\n",
    "#Predictions"
   ]
  },
  {
   "cell_type": "code",
   "execution_count": 1291,
   "metadata": {},
   "outputs": [
    {
     "data": {
      "text/plain": [
       "array([[ 0.1304003 , -0.4465121 , -0.93902095, -0.84488358, -0.80758332,\n",
       "        -0.7117293 , -0.6603034 , -0.08640835, -0.09967235,  0.28974646,\n",
       "        -0.87493774, -0.84725212, -0.57317049, -0.43501129, -0.69599372,\n",
       "        -0.7568651 ,  0.20115015, -0.66381654, -0.7825128 , -0.78477353,\n",
       "        -0.43790174, -0.53615374, -0.62428567, -0.73911376, -0.86852052,\n",
       "        -0.75611308],\n",
       "       [-0.1320582 , -0.144368  , -0.44412287, -0.77466223, -0.60898564,\n",
       "        -0.83549789,  1.20519263, -1.14672531, -1.17997558, -1.18352798,\n",
       "        -0.1682405 , -0.32073975,  1.04501412,  0.71503942, -0.43112402,\n",
       "        -0.31759708, -0.99966052,  0.80802738,  0.08254908,  0.33075193,\n",
       "        -0.69359431, -0.62071784,  0.57358647, -0.55278311,  0.27161851,\n",
       "        -0.6973587 ],\n",
       "       [-0.03633511,  0.32756614,  1.07138264,  1.33833545,  1.690311  ,\n",
       "         1.79133326, -0.13186964,  1.32306476,  1.35585691,  0.45910009,\n",
       "         1.31313447,  1.4306785 , -0.10989056, -0.06198608,  1.78051414,\n",
       "         1.65953913,  0.79005468, -0.29654256,  0.34043516,  0.14303893,\n",
       "         1.6048709 ,  1.35601606, -0.22705798,  1.70969039,  0.33448813,\n",
       "         1.82451074],\n",
       "       [-0.48311601,  0.61773433,  1.15417208,  0.81148287,  1.12256215,\n",
       "         0.63215039,  1.60505964, -0.92490413, -0.93833204, -0.89595403,\n",
       "         1.68977394,  1.40511154,  1.30972878,  1.16429048,  0.88268272,\n",
       "         1.25122787, -0.92543623,  2.37233824,  2.30853547,  2.45383129,\n",
       "        -0.10751547,  0.18705068,  2.07650275,  0.78449118,  1.43764862,\n",
       "         0.88265473],\n",
       "       [ 0.07129847,  0.27735128,  0.54534828,  0.61217222,  0.2554162 ,\n",
       "         0.36458863, -0.33255525,  0.44984055,  0.47339878,  0.40932331,\n",
       "         0.08465193,  0.16638034, -0.2689885 , -0.2102764 ,  0.05560725,\n",
       "         0.01261125,  0.27146308, -0.22407777,  0.08048727, -0.01669939,\n",
       "         0.24799709,  0.33924905, -0.08543008,  0.22575024,  0.28404628,\n",
       "         0.25647375]])"
      ]
     },
     "execution_count": 1291,
     "metadata": {},
     "output_type": "execute_result"
    }
   ],
   "source": [
    "centroids = salary_model.cluster_centers_\n",
    "centroids"
   ]
  },
  {
   "cell_type": "code",
   "execution_count": 1292,
   "metadata": {},
   "outputs": [
    {
     "data": {
      "text/plain": [
       "0.20226473717010185"
      ]
     },
     "execution_count": 1292,
     "metadata": {},
     "output_type": "execute_result"
    }
   ],
   "source": [
    "score = silhouette_score(sixteen_to_twenty_with_sal_sc, salary_model.labels_)\n",
    "score"
   ]
  },
  {
   "cell_type": "code",
   "execution_count": 1293,
   "metadata": {
    "scrolled": true
   },
   "outputs": [
    {
     "data": {
      "text/html": [
       "<div>\n",
       "<style scoped>\n",
       "    .dataframe tbody tr th:only-of-type {\n",
       "        vertical-align: middle;\n",
       "    }\n",
       "\n",
       "    .dataframe tbody tr th {\n",
       "        vertical-align: top;\n",
       "    }\n",
       "\n",
       "    .dataframe thead th {\n",
       "        text-align: right;\n",
       "    }\n",
       "</style>\n",
       "<table border=\"1\" class=\"dataframe\">\n",
       "  <thead>\n",
       "    <tr style=\"text-align: right;\">\n",
       "      <th></th>\n",
       "      <th>Age</th>\n",
       "      <th>G</th>\n",
       "      <th>GS</th>\n",
       "      <th>MP</th>\n",
       "      <th>FG</th>\n",
       "      <th>FGA</th>\n",
       "      <th>FG%</th>\n",
       "      <th>3P</th>\n",
       "      <th>3PA</th>\n",
       "      <th>3P%</th>\n",
       "      <th>...</th>\n",
       "      <th>ORB</th>\n",
       "      <th>DRB</th>\n",
       "      <th>TRB</th>\n",
       "      <th>AST</th>\n",
       "      <th>STL</th>\n",
       "      <th>BLK</th>\n",
       "      <th>TOV</th>\n",
       "      <th>PF</th>\n",
       "      <th>PTS</th>\n",
       "      <th>cluster</th>\n",
       "    </tr>\n",
       "  </thead>\n",
       "  <tbody>\n",
       "    <tr>\n",
       "      <th>0</th>\n",
       "      <td>22.0</td>\n",
       "      <td>71.2</td>\n",
       "      <td>61.2</td>\n",
       "      <td>30.36</td>\n",
       "      <td>5.26</td>\n",
       "      <td>11.78</td>\n",
       "      <td>0.4494</td>\n",
       "      <td>1.26</td>\n",
       "      <td>3.84</td>\n",
       "      <td>0.3154</td>\n",
       "      <td>...</td>\n",
       "      <td>1.68</td>\n",
       "      <td>5.22</td>\n",
       "      <td>6.92</td>\n",
       "      <td>2.64</td>\n",
       "      <td>0.82</td>\n",
       "      <td>0.66</td>\n",
       "      <td>1.48</td>\n",
       "      <td>2.06</td>\n",
       "      <td>13.98</td>\n",
       "      <td>4</td>\n",
       "    </tr>\n",
       "    <tr>\n",
       "      <th>1</th>\n",
       "      <td>31.0</td>\n",
       "      <td>71.4</td>\n",
       "      <td>70.2</td>\n",
       "      <td>31.04</td>\n",
       "      <td>5.54</td>\n",
       "      <td>11.26</td>\n",
       "      <td>0.4904</td>\n",
       "      <td>1.26</td>\n",
       "      <td>3.40</td>\n",
       "      <td>0.3676</td>\n",
       "      <td>...</td>\n",
       "      <td>1.58</td>\n",
       "      <td>5.42</td>\n",
       "      <td>7.00</td>\n",
       "      <td>4.22</td>\n",
       "      <td>0.78</td>\n",
       "      <td>1.22</td>\n",
       "      <td>1.50</td>\n",
       "      <td>1.98</td>\n",
       "      <td>13.52</td>\n",
       "      <td>4</td>\n",
       "    </tr>\n",
       "    <tr>\n",
       "      <th>2</th>\n",
       "      <td>27.0</td>\n",
       "      <td>62.2</td>\n",
       "      <td>51.4</td>\n",
       "      <td>27.40</td>\n",
       "      <td>2.90</td>\n",
       "      <td>7.38</td>\n",
       "      <td>0.3856</td>\n",
       "      <td>1.22</td>\n",
       "      <td>3.64</td>\n",
       "      <td>0.3306</td>\n",
       "      <td>...</td>\n",
       "      <td>1.32</td>\n",
       "      <td>5.36</td>\n",
       "      <td>6.68</td>\n",
       "      <td>1.40</td>\n",
       "      <td>0.96</td>\n",
       "      <td>0.54</td>\n",
       "      <td>1.18</td>\n",
       "      <td>1.82</td>\n",
       "      <td>8.38</td>\n",
       "      <td>4</td>\n",
       "    </tr>\n",
       "    <tr>\n",
       "      <th>3</th>\n",
       "      <td>26.0</td>\n",
       "      <td>53.4</td>\n",
       "      <td>9.4</td>\n",
       "      <td>21.16</td>\n",
       "      <td>3.48</td>\n",
       "      <td>8.44</td>\n",
       "      <td>0.4086</td>\n",
       "      <td>1.02</td>\n",
       "      <td>2.74</td>\n",
       "      <td>0.3626</td>\n",
       "      <td>...</td>\n",
       "      <td>0.48</td>\n",
       "      <td>2.98</td>\n",
       "      <td>3.48</td>\n",
       "      <td>1.72</td>\n",
       "      <td>0.62</td>\n",
       "      <td>0.18</td>\n",
       "      <td>1.14</td>\n",
       "      <td>1.60</td>\n",
       "      <td>10.30</td>\n",
       "      <td>0</td>\n",
       "    </tr>\n",
       "    <tr>\n",
       "      <th>4</th>\n",
       "      <td>24.0</td>\n",
       "      <td>71.2</td>\n",
       "      <td>27.2</td>\n",
       "      <td>20.30</td>\n",
       "      <td>3.38</td>\n",
       "      <td>6.74</td>\n",
       "      <td>0.5070</td>\n",
       "      <td>0.26</td>\n",
       "      <td>0.80</td>\n",
       "      <td>0.2720</td>\n",
       "      <td>...</td>\n",
       "      <td>2.14</td>\n",
       "      <td>4.48</td>\n",
       "      <td>6.60</td>\n",
       "      <td>1.00</td>\n",
       "      <td>0.44</td>\n",
       "      <td>0.96</td>\n",
       "      <td>1.32</td>\n",
       "      <td>2.64</td>\n",
       "      <td>8.92</td>\n",
       "      <td>1</td>\n",
       "    </tr>\n",
       "  </tbody>\n",
       "</table>\n",
       "<p>5 rows × 27 columns</p>\n",
       "</div>"
      ],
      "text/plain": [
       "    Age     G    GS     MP    FG    FGA     FG%    3P   3PA     3P%  ...  \\\n",
       "0  22.0  71.2  61.2  30.36  5.26  11.78  0.4494  1.26  3.84  0.3154  ...   \n",
       "1  31.0  71.4  70.2  31.04  5.54  11.26  0.4904  1.26  3.40  0.3676  ...   \n",
       "2  27.0  62.2  51.4  27.40  2.90   7.38  0.3856  1.22  3.64  0.3306  ...   \n",
       "3  26.0  53.4   9.4  21.16  3.48   8.44  0.4086  1.02  2.74  0.3626  ...   \n",
       "4  24.0  71.2  27.2  20.30  3.38   6.74  0.5070  0.26  0.80  0.2720  ...   \n",
       "\n",
       "    ORB   DRB   TRB   AST   STL   BLK   TOV    PF    PTS  cluster  \n",
       "0  1.68  5.22  6.92  2.64  0.82  0.66  1.48  2.06  13.98        4  \n",
       "1  1.58  5.42  7.00  4.22  0.78  1.22  1.50  1.98  13.52        4  \n",
       "2  1.32  5.36  6.68  1.40  0.96  0.54  1.18  1.82   8.38        4  \n",
       "3  0.48  2.98  3.48  1.72  0.62  0.18  1.14  1.60  10.30        0  \n",
       "4  2.14  4.48  6.60  1.00  0.44  0.96  1.32  2.64   8.92        1  \n",
       "\n",
       "[5 rows x 27 columns]"
      ]
     },
     "execution_count": 1293,
     "metadata": {},
     "output_type": "execute_result"
    }
   ],
   "source": [
    "sixteen_to_twenty_with_sal['cluster'] = salary_model.labels_\n",
    "sixteen_to_twenty_with_sal.head()"
   ]
  },
  {
   "cell_type": "code",
   "execution_count": 1315,
   "metadata": {},
   "outputs": [],
   "source": [
    "cluster_df = sixteen_to_twenty_with_sal_sc"
   ]
  },
  {
   "cell_type": "code",
   "execution_count": 1318,
   "metadata": {},
   "outputs": [],
   "source": [
    "# cluster_df = pd.DataFrame(cluster_df, columns=[])"
   ]
  },
  {
   "cell_type": "code",
   "execution_count": null,
   "metadata": {},
   "outputs": [],
   "source": []
  },
  {
   "cell_type": "code",
   "execution_count": null,
   "metadata": {},
   "outputs": [],
   "source": []
  },
  {
   "cell_type": "markdown",
   "metadata": {},
   "source": [
    "# 14-18 Clusters"
   ]
  },
  {
   "cell_type": "code",
   "execution_count": 1294,
   "metadata": {},
   "outputs": [],
   "source": [
    "fourteen_to_eighteen_with_sal = fourteen_to_eighteen_with_sal.drop(['sal_classified'], axis=1)"
   ]
  },
  {
   "cell_type": "code",
   "execution_count": 1295,
   "metadata": {},
   "outputs": [],
   "source": [
    "fourteen_to_eighteen_with_sal = fourteen_to_eighteen_with_sal.drop(['Rk', 'Tm', 'Pos', 'Season', 'Player', 'salary'], axis=1)\n",
    "#Dropping unnecessary/non-numeric columns"
   ]
  },
  {
   "cell_type": "code",
   "execution_count": 1296,
   "metadata": {},
   "outputs": [],
   "source": [
    "fourteen_to_eighteen_with_sal_sc = ss.fit_transform(fourteen_to_eighteen_with_sal)"
   ]
  },
  {
   "cell_type": "code",
   "execution_count": 1297,
   "metadata": {},
   "outputs": [],
   "source": [
    "salary_model = KMeans(n_clusters=5, random_state=0).fit(fourteen_to_eighteen_with_sal_sc)"
   ]
  },
  {
   "cell_type": "code",
   "execution_count": 1298,
   "metadata": {},
   "outputs": [
    {
     "data": {
      "text/plain": [
       "array([0, 0, 3, 3, 4, 1, 1, 3, 1, 1, 1, 0, 1, 1, 1, 3, 3, 4, 0, 3, 2, 4,\n",
       "       3, 2, 0, 1, 3, 1, 2, 1, 3, 3, 1, 2, 4, 3, 1, 3, 3, 2, 3, 1, 0, 0,\n",
       "       3, 0, 2, 1, 4, 3, 3, 1, 0, 1, 0, 3, 3, 1, 3, 3, 0, 2, 4, 4, 4, 1,\n",
       "       1, 2, 1, 1, 3, 3, 3, 0, 1, 2, 1, 1, 3, 3, 2, 4, 1, 3, 4, 1, 2, 1,\n",
       "       1, 2, 2, 3, 2, 1, 0, 1, 3, 2, 3, 2, 3, 1, 2, 0, 1, 1, 3, 3, 3, 0,\n",
       "       0, 3, 3, 3, 4, 1, 1, 1, 4, 2, 3, 1, 1, 3, 2, 3, 3, 3, 3, 3, 1, 0,\n",
       "       2, 0, 3, 2, 1, 1, 2, 2, 4, 2, 4, 3, 1, 0, 1, 1, 1, 1, 3, 2, 4, 4,\n",
       "       3, 1, 0, 1, 2, 1, 3, 1, 2, 3, 4, 1, 4, 2, 4, 2, 1, 3, 3, 1, 0])"
      ]
     },
     "execution_count": 1298,
     "metadata": {},
     "output_type": "execute_result"
    }
   ],
   "source": [
    "salary_model.labels_\n",
    "#Predictions"
   ]
  },
  {
   "cell_type": "code",
   "execution_count": 1299,
   "metadata": {},
   "outputs": [
    {
     "data": {
      "text/plain": [
       "array([[ 1.24977037e-01,  3.78825173e-01,  1.00905259e+00,\n",
       "         9.16490724e-01,  1.32081301e+00,  9.85268565e-01,\n",
       "         1.10190827e+00, -9.19888612e-01, -9.31570478e-01,\n",
       "        -4.52788171e-01,  1.75807579e+00,  1.59751867e+00,\n",
       "         7.45976580e-01,  4.61914386e-01,  9.78263821e-01,\n",
       "         1.20587022e+00, -5.30731546e-01,  1.66020929e+00,\n",
       "         1.79215676e+00,  1.83263870e+00, -1.43317349e-01,\n",
       "         1.87379093e-01,  1.63648749e+00,  6.26113838e-01,\n",
       "         1.18421007e+00,  1.08596117e+00],\n",
       "       [-6.18412740e-02, -7.12162157e-01, -1.00968246e+00,\n",
       "        -1.11303879e+00, -9.46478002e-01, -8.95808695e-01,\n",
       "        -5.17293536e-01, -2.84140626e-01, -2.82425726e-01,\n",
       "         2.16837558e-01, -8.82280082e-01, -8.64381640e-01,\n",
       "        -3.89960171e-01, -3.76463457e-01, -8.32494287e-01,\n",
       "        -8.56698665e-01,  8.85255425e-02, -6.32764404e-01,\n",
       "        -8.22482836e-01, -7.95738772e-01, -4.85452284e-01,\n",
       "        -6.47086235e-01, -5.64005667e-01, -8.31915369e-01,\n",
       "        -8.92314184e-01, -9.40983708e-01],\n",
       "       [-3.46608583e-01,  1.81341629e-01,  9.06900060e-01,\n",
       "         1.09769332e+00,  1.18969977e+00,  1.33699151e+00,\n",
       "        -2.57217629e-01,  8.91569744e-01,  9.58275912e-01,\n",
       "         3.81284648e-01,  8.90814682e-01,  1.01234413e+00,\n",
       "        -2.43379983e-01, -3.02973126e-01,  1.24270251e+00,\n",
       "         1.07747105e+00,  5.78619166e-01, -2.65667817e-01,\n",
       "         2.30683271e-01,  6.98179023e-02,  1.46441228e+00,\n",
       "         1.27348069e+00, -2.81477199e-01,  1.47508605e+00,\n",
       "         2.56752330e-01,  1.30413918e+00],\n",
       "       [ 3.42912874e-01,  4.76011440e-01,  1.89251868e-01,\n",
       "         3.25634147e-01,  5.92459662e-03,  9.79540619e-02,\n",
       "        -2.84728034e-01,  6.22613744e-01,  6.23684402e-01,\n",
       "         4.96121641e-01, -2.42005217e-01, -2.11947709e-01,\n",
       "        -9.25042497e-02,  1.28049868e-01, -1.50997352e-01,\n",
       "        -1.99122729e-01,  2.39030804e-01, -3.62832280e-01,\n",
       "        -1.65969121e-01, -2.40950551e-01,  1.13346500e-03,\n",
       "         1.65079819e-01, -3.29785019e-01, -6.06042204e-02,\n",
       "         8.00514965e-02,  5.48991231e-02],\n",
       "       [-3.71837344e-01,  2.57855660e-02, -1.47813182e-01,\n",
       "        -4.16225923e-01, -6.01928071e-01, -8.51754496e-01,\n",
       "         1.42415506e+00, -1.24053592e+00, -1.33724322e+00,\n",
       "        -2.05559246e+00, -1.32937983e-01, -2.74104342e-01,\n",
       "         9.08451660e-01,  6.71392216e-01, -1.98703112e-01,\n",
       "         2.43024770e-03, -1.20234602e+00,  1.36192252e+00,\n",
       "         4.58913720e-01,  7.88904764e-01, -7.00147827e-01,\n",
       "        -7.63547096e-01,  1.12640677e+00, -4.13212457e-01,\n",
       "         6.16213636e-01, -6.66676583e-01]])"
      ]
     },
     "execution_count": 1299,
     "metadata": {},
     "output_type": "execute_result"
    }
   ],
   "source": [
    "centroids = salary_model.cluster_centers_\n",
    "centroids"
   ]
  },
  {
   "cell_type": "code",
   "execution_count": 1300,
   "metadata": {},
   "outputs": [
    {
     "data": {
      "text/plain": [
       "0.18878454929551425"
      ]
     },
     "execution_count": 1300,
     "metadata": {},
     "output_type": "execute_result"
    }
   ],
   "source": [
    "score = silhouette_score(fourteen_to_eighteen_with_sal_sc, salary_model.labels_)\n",
    "score"
   ]
  },
  {
   "cell_type": "code",
   "execution_count": 1301,
   "metadata": {},
   "outputs": [
    {
     "data": {
      "text/html": [
       "<div>\n",
       "<style scoped>\n",
       "    .dataframe tbody tr th:only-of-type {\n",
       "        vertical-align: middle;\n",
       "    }\n",
       "\n",
       "    .dataframe tbody tr th {\n",
       "        vertical-align: top;\n",
       "    }\n",
       "\n",
       "    .dataframe thead th {\n",
       "        text-align: right;\n",
       "    }\n",
       "</style>\n",
       "<table border=\"1\" class=\"dataframe\">\n",
       "  <thead>\n",
       "    <tr style=\"text-align: right;\">\n",
       "      <th></th>\n",
       "      <th>Age</th>\n",
       "      <th>G</th>\n",
       "      <th>GS</th>\n",
       "      <th>MP</th>\n",
       "      <th>FG</th>\n",
       "      <th>FGA</th>\n",
       "      <th>FG%</th>\n",
       "      <th>3P</th>\n",
       "      <th>3PA</th>\n",
       "      <th>3P%</th>\n",
       "      <th>...</th>\n",
       "      <th>ORB</th>\n",
       "      <th>DRB</th>\n",
       "      <th>TRB</th>\n",
       "      <th>AST</th>\n",
       "      <th>STL</th>\n",
       "      <th>BLK</th>\n",
       "      <th>TOV</th>\n",
       "      <th>PF</th>\n",
       "      <th>PTS</th>\n",
       "      <th>cluster</th>\n",
       "    </tr>\n",
       "  </thead>\n",
       "  <tbody>\n",
       "    <tr>\n",
       "      <th>0</th>\n",
       "      <td>28.0</td>\n",
       "      <td>62.333333</td>\n",
       "      <td>62.333333</td>\n",
       "      <td>31.866667</td>\n",
       "      <td>7.166667</td>\n",
       "      <td>13.333333</td>\n",
       "      <td>0.536667</td>\n",
       "      <td>0.433333</td>\n",
       "      <td>1.333333</td>\n",
       "      <td>0.338</td>\n",
       "      <td>...</td>\n",
       "      <td>1.933333</td>\n",
       "      <td>5.666667</td>\n",
       "      <td>7.633333</td>\n",
       "      <td>3.000000</td>\n",
       "      <td>0.866667</td>\n",
       "      <td>1.433333</td>\n",
       "      <td>1.600000</td>\n",
       "      <td>1.833333</td>\n",
       "      <td>16.333333</td>\n",
       "      <td>0</td>\n",
       "    </tr>\n",
       "    <tr>\n",
       "      <th>1</th>\n",
       "      <td>30.0</td>\n",
       "      <td>61.666667</td>\n",
       "      <td>50.666667</td>\n",
       "      <td>29.633333</td>\n",
       "      <td>7.433333</td>\n",
       "      <td>15.000000</td>\n",
       "      <td>0.491667</td>\n",
       "      <td>0.000000</td>\n",
       "      <td>0.100000</td>\n",
       "      <td>0.300</td>\n",
       "      <td>...</td>\n",
       "      <td>1.600000</td>\n",
       "      <td>6.933333</td>\n",
       "      <td>8.533333</td>\n",
       "      <td>1.766667</td>\n",
       "      <td>0.733333</td>\n",
       "      <td>1.100000</td>\n",
       "      <td>1.133333</td>\n",
       "      <td>2.333333</td>\n",
       "      <td>16.800000</td>\n",
       "      <td>0</td>\n",
       "    </tr>\n",
       "    <tr>\n",
       "      <th>2</th>\n",
       "      <td>24.0</td>\n",
       "      <td>78.666667</td>\n",
       "      <td>50.000000</td>\n",
       "      <td>24.200000</td>\n",
       "      <td>2.833333</td>\n",
       "      <td>6.600000</td>\n",
       "      <td>0.434000</td>\n",
       "      <td>0.733333</td>\n",
       "      <td>2.200000</td>\n",
       "      <td>0.302</td>\n",
       "      <td>...</td>\n",
       "      <td>1.433333</td>\n",
       "      <td>4.200000</td>\n",
       "      <td>5.633333</td>\n",
       "      <td>1.300000</td>\n",
       "      <td>0.933333</td>\n",
       "      <td>0.633333</td>\n",
       "      <td>1.100000</td>\n",
       "      <td>1.933333</td>\n",
       "      <td>7.666667</td>\n",
       "      <td>3</td>\n",
       "    </tr>\n",
       "    <tr>\n",
       "      <th>3</th>\n",
       "      <td>23.0</td>\n",
       "      <td>45.333333</td>\n",
       "      <td>14.000000</td>\n",
       "      <td>29.033333</td>\n",
       "      <td>4.600000</td>\n",
       "      <td>10.866667</td>\n",
       "      <td>0.423333</td>\n",
       "      <td>0.866667</td>\n",
       "      <td>2.266667</td>\n",
       "      <td>0.379</td>\n",
       "      <td>...</td>\n",
       "      <td>0.666667</td>\n",
       "      <td>3.000000</td>\n",
       "      <td>3.666667</td>\n",
       "      <td>2.566667</td>\n",
       "      <td>0.700000</td>\n",
       "      <td>0.166667</td>\n",
       "      <td>1.800000</td>\n",
       "      <td>2.366667</td>\n",
       "      <td>13.733333</td>\n",
       "      <td>3</td>\n",
       "    </tr>\n",
       "    <tr>\n",
       "      <th>4</th>\n",
       "      <td>21.0</td>\n",
       "      <td>63.000000</td>\n",
       "      <td>31.000000</td>\n",
       "      <td>17.966667</td>\n",
       "      <td>2.266667</td>\n",
       "      <td>5.000000</td>\n",
       "      <td>0.451000</td>\n",
       "      <td>0.000000</td>\n",
       "      <td>0.033333</td>\n",
       "      <td>0.238</td>\n",
       "      <td>...</td>\n",
       "      <td>1.766667</td>\n",
       "      <td>3.733333</td>\n",
       "      <td>5.533333</td>\n",
       "      <td>0.600000</td>\n",
       "      <td>0.366667</td>\n",
       "      <td>0.900000</td>\n",
       "      <td>1.200000</td>\n",
       "      <td>2.533333</td>\n",
       "      <td>5.766667</td>\n",
       "      <td>4</td>\n",
       "    </tr>\n",
       "  </tbody>\n",
       "</table>\n",
       "<p>5 rows × 27 columns</p>\n",
       "</div>"
      ],
      "text/plain": [
       "    Age          G         GS         MP        FG        FGA       FG%  \\\n",
       "0  28.0  62.333333  62.333333  31.866667  7.166667  13.333333  0.536667   \n",
       "1  30.0  61.666667  50.666667  29.633333  7.433333  15.000000  0.491667   \n",
       "2  24.0  78.666667  50.000000  24.200000  2.833333   6.600000  0.434000   \n",
       "3  23.0  45.333333  14.000000  29.033333  4.600000  10.866667  0.423333   \n",
       "4  21.0  63.000000  31.000000  17.966667  2.266667   5.000000  0.451000   \n",
       "\n",
       "         3P       3PA    3P%  ...       ORB       DRB       TRB       AST  \\\n",
       "0  0.433333  1.333333  0.338  ...  1.933333  5.666667  7.633333  3.000000   \n",
       "1  0.000000  0.100000  0.300  ...  1.600000  6.933333  8.533333  1.766667   \n",
       "2  0.733333  2.200000  0.302  ...  1.433333  4.200000  5.633333  1.300000   \n",
       "3  0.866667  2.266667  0.379  ...  0.666667  3.000000  3.666667  2.566667   \n",
       "4  0.000000  0.033333  0.238  ...  1.766667  3.733333  5.533333  0.600000   \n",
       "\n",
       "        STL       BLK       TOV        PF        PTS  cluster  \n",
       "0  0.866667  1.433333  1.600000  1.833333  16.333333        0  \n",
       "1  0.733333  1.100000  1.133333  2.333333  16.800000        0  \n",
       "2  0.933333  0.633333  1.100000  1.933333   7.666667        3  \n",
       "3  0.700000  0.166667  1.800000  2.366667  13.733333        3  \n",
       "4  0.366667  0.900000  1.200000  2.533333   5.766667        4  \n",
       "\n",
       "[5 rows x 27 columns]"
      ]
     },
     "execution_count": 1301,
     "metadata": {},
     "output_type": "execute_result"
    }
   ],
   "source": [
    "fourteen_to_eighteen_with_sal['cluster'] = salary_model.labels_\n",
    "fourteen_to_eighteen_with_sal.head()"
   ]
  },
  {
   "cell_type": "code",
   "execution_count": 1302,
   "metadata": {},
   "outputs": [
    {
     "data": {
      "text/plain": [
       "array([0, 0, 3, 3, 4, 1, 1, 3, 1, 1, 1, 0, 1, 1, 1, 3, 3, 4, 0, 3, 2, 4,\n",
       "       3, 2, 0, 1, 3, 1, 2, 1, 3, 3, 1, 2, 4, 3, 1, 3, 3, 2, 3, 1, 0, 0,\n",
       "       3, 0, 2, 1, 4, 3, 3, 1, 0, 1, 0, 3, 3, 1, 3, 3, 0, 2, 4, 4, 4, 1,\n",
       "       1, 2, 1, 1, 3, 3, 3, 0, 1, 2, 1, 1, 3, 3, 2, 4, 1, 3, 4, 1, 2, 1,\n",
       "       1, 2, 2, 3, 2, 1, 0, 1, 3, 2, 3, 2, 3, 1, 2, 0, 1, 1, 3, 3, 3, 0,\n",
       "       0, 3, 3, 3, 4, 1, 1, 1, 4, 2, 3, 1, 1, 3, 2, 3, 3, 3, 3, 3, 1, 0,\n",
       "       2, 0, 3, 2, 1, 1, 2, 2, 4, 2, 4, 3, 1, 0, 1, 1, 1, 1, 3, 2, 4, 4,\n",
       "       3, 1, 0, 1, 2, 1, 3, 1, 2, 3, 4, 1, 4, 2, 4, 2, 1, 3, 3, 1, 0])"
      ]
     },
     "execution_count": 1302,
     "metadata": {},
     "output_type": "execute_result"
    }
   ],
   "source": [
    "salary_model.labels_\n",
    "#Predictions"
   ]
  },
  {
   "cell_type": "code",
   "execution_count": null,
   "metadata": {},
   "outputs": [],
   "source": []
  },
  {
   "cell_type": "code",
   "execution_count": null,
   "metadata": {},
   "outputs": [],
   "source": []
  },
  {
   "cell_type": "markdown",
   "metadata": {},
   "source": [
    "# 13-17 Clusters"
   ]
  },
  {
   "cell_type": "code",
   "execution_count": 1303,
   "metadata": {},
   "outputs": [],
   "source": [
    "thirteen_to_seventeen_with_sal = thirteen_to_seventeen_with_sal.drop(['sal_classified'], axis=1)"
   ]
  },
  {
   "cell_type": "code",
   "execution_count": 1304,
   "metadata": {},
   "outputs": [],
   "source": [
    "thirteen_to_seventeen_with_sal = thirteen_to_seventeen_with_sal.drop(['Rk', 'Tm', 'Pos', 'Season', 'Player', 'salary'], axis=1)"
   ]
  },
  {
   "cell_type": "code",
   "execution_count": 1305,
   "metadata": {},
   "outputs": [],
   "source": [
    "thirteen_to_seventeen_with_sal_sc = ss.fit_transform(thirteen_to_seventeen_with_sal)"
   ]
  },
  {
   "cell_type": "code",
   "execution_count": 1306,
   "metadata": {},
   "outputs": [],
   "source": [
    "salary_model = KMeans(n_clusters=5, random_state=0).fit(thirteen_to_seventeen_with_sal_sc)"
   ]
  },
  {
   "cell_type": "code",
   "execution_count": 1307,
   "metadata": {},
   "outputs": [
    {
     "data": {
      "text/plain": [
       "array([[-0.22059567,  0.34610006,  0.33141302, -0.04964242, -0.15659099,\n",
       "        -0.4564754 ,  1.49133799, -1.07421794, -1.14932367, -1.2107933 ,\n",
       "         0.27419923,  0.09315781,  1.15024642,  0.89069857, -0.19647733,\n",
       "         0.01797525, -1.06746584,  1.58544139,  0.82379951,  1.13578116,\n",
       "        -0.64911708, -0.61632698,  1.38711602, -0.25850946,  0.91503129,\n",
       "        -0.31685742],\n",
       "       [-0.21009612,  0.3083345 ,  0.75782227,  0.99474169,  0.8192028 ,\n",
       "         0.97553555, -0.35257722,  0.97477066,  1.00100574,  0.49024999,\n",
       "         0.46859663,  0.57281366, -0.31179322, -0.12683207,  0.77417804,\n",
       "         0.61963341,  0.6786943 , -0.47259539, -0.03431968, -0.19190698,\n",
       "         1.07437699,  0.92777547, -0.40428848,  0.9403546 ,  0.08235174,\n",
       "         0.9270464 ],\n",
       "       [-0.1754109 , -0.83301298, -1.0518274 , -1.23511175, -0.98678655,\n",
       "        -0.98330924, -0.2355607 , -0.50850637, -0.51479501, -0.08405138,\n",
       "        -0.83246896, -0.84044659, -0.16852504, -0.33489539, -0.83710535,\n",
       "        -0.83025048, -0.21545428, -0.41872552, -0.74976264, -0.67452791,\n",
       "        -0.61182668, -0.7670914 , -0.43092266, -0.85316569, -0.80675847,\n",
       "        -0.99761906],\n",
       "       [ 0.39654422,  0.38278714, -0.21175192, -0.05687268, -0.35316499,\n",
       "        -0.24811264, -0.51297456,  0.39509918,  0.40894209,  0.41328987,\n",
       "        -0.5357721 , -0.49953645, -0.34676251, -0.07240927, -0.37965848,\n",
       "        -0.40758396,  0.21051948, -0.46750977, -0.32821113, -0.39226971,\n",
       "        -0.11906217,  0.03195044, -0.35672444, -0.27583735, -0.02349199,\n",
       "        -0.2960034 ],\n",
       "       [ 0.32223078,  0.17506911,  1.12583174,  1.19534471,  1.77270312,\n",
       "         1.53890916,  0.73132119, -0.4497436 , -0.42931009, -0.32234865,\n",
       "         2.04906954,  1.9758992 ,  0.50730322,  0.21452655,  1.58848398,\n",
       "         1.71999225, -0.12022026,  1.27873222,  1.80536715,  1.71752506,\n",
       "         0.25079443,  0.61701597,  1.14862071,  1.07799414,  0.85038677,\n",
       "         1.62253507]])"
      ]
     },
     "execution_count": 1307,
     "metadata": {},
     "output_type": "execute_result"
    }
   ],
   "source": [
    "centroids = salary_model.cluster_centers_\n",
    "centroids"
   ]
  },
  {
   "cell_type": "code",
   "execution_count": 1308,
   "metadata": {},
   "outputs": [
    {
     "data": {
      "text/plain": [
       "0.15696316376603325"
      ]
     },
     "execution_count": 1308,
     "metadata": {},
     "output_type": "execute_result"
    }
   ],
   "source": [
    "score = silhouette_score(thirteen_to_seventeen_with_sal_sc, salary_model.labels_)\n",
    "score"
   ]
  },
  {
   "cell_type": "code",
   "execution_count": 1309,
   "metadata": {},
   "outputs": [
    {
     "data": {
      "text/html": [
       "<div>\n",
       "<style scoped>\n",
       "    .dataframe tbody tr th:only-of-type {\n",
       "        vertical-align: middle;\n",
       "    }\n",
       "\n",
       "    .dataframe tbody tr th {\n",
       "        vertical-align: top;\n",
       "    }\n",
       "\n",
       "    .dataframe thead th {\n",
       "        text-align: right;\n",
       "    }\n",
       "</style>\n",
       "<table border=\"1\" class=\"dataframe\">\n",
       "  <thead>\n",
       "    <tr style=\"text-align: right;\">\n",
       "      <th></th>\n",
       "      <th>Age</th>\n",
       "      <th>G</th>\n",
       "      <th>GS</th>\n",
       "      <th>MP</th>\n",
       "      <th>FG</th>\n",
       "      <th>FGA</th>\n",
       "      <th>FG%</th>\n",
       "      <th>3P</th>\n",
       "      <th>3PA</th>\n",
       "      <th>3P%</th>\n",
       "      <th>...</th>\n",
       "      <th>ORB</th>\n",
       "      <th>DRB</th>\n",
       "      <th>TRB</th>\n",
       "      <th>AST</th>\n",
       "      <th>STL</th>\n",
       "      <th>BLK</th>\n",
       "      <th>TOV</th>\n",
       "      <th>PF</th>\n",
       "      <th>PTS</th>\n",
       "      <th>cluster</th>\n",
       "    </tr>\n",
       "  </thead>\n",
       "  <tbody>\n",
       "    <tr>\n",
       "      <th>0</th>\n",
       "      <td>29.5</td>\n",
       "      <td>69.00</td>\n",
       "      <td>13.25</td>\n",
       "      <td>19.875</td>\n",
       "      <td>3.200</td>\n",
       "      <td>7.725</td>\n",
       "      <td>0.41900</td>\n",
       "      <td>1.175</td>\n",
       "      <td>3.100</td>\n",
       "      <td>0.376000</td>\n",
       "      <td>...</td>\n",
       "      <td>0.375</td>\n",
       "      <td>1.350</td>\n",
       "      <td>1.725</td>\n",
       "      <td>2.800</td>\n",
       "      <td>0.600</td>\n",
       "      <td>0.175</td>\n",
       "      <td>1.500</td>\n",
       "      <td>2.000</td>\n",
       "      <td>8.700</td>\n",
       "      <td>3</td>\n",
       "    </tr>\n",
       "    <tr>\n",
       "      <th>1</th>\n",
       "      <td>27.5</td>\n",
       "      <td>65.25</td>\n",
       "      <td>65.25</td>\n",
       "      <td>33.200</td>\n",
       "      <td>7.325</td>\n",
       "      <td>13.575</td>\n",
       "      <td>0.53825</td>\n",
       "      <td>0.325</td>\n",
       "      <td>1.025</td>\n",
       "      <td>0.378500</td>\n",
       "      <td>...</td>\n",
       "      <td>2.100</td>\n",
       "      <td>6.150</td>\n",
       "      <td>8.275</td>\n",
       "      <td>3.050</td>\n",
       "      <td>0.925</td>\n",
       "      <td>1.350</td>\n",
       "      <td>1.700</td>\n",
       "      <td>1.925</td>\n",
       "      <td>16.600</td>\n",
       "      <td>4</td>\n",
       "    </tr>\n",
       "    <tr>\n",
       "      <th>2</th>\n",
       "      <td>29.5</td>\n",
       "      <td>65.75</td>\n",
       "      <td>57.50</td>\n",
       "      <td>30.500</td>\n",
       "      <td>7.525</td>\n",
       "      <td>15.200</td>\n",
       "      <td>0.49225</td>\n",
       "      <td>0.000</td>\n",
       "      <td>0.125</td>\n",
       "      <td>0.239333</td>\n",
       "      <td>...</td>\n",
       "      <td>1.700</td>\n",
       "      <td>7.000</td>\n",
       "      <td>8.700</td>\n",
       "      <td>1.850</td>\n",
       "      <td>0.800</td>\n",
       "      <td>1.100</td>\n",
       "      <td>1.175</td>\n",
       "      <td>2.300</td>\n",
       "      <td>17.050</td>\n",
       "      <td>4</td>\n",
       "    </tr>\n",
       "    <tr>\n",
       "      <th>3</th>\n",
       "      <td>23.5</td>\n",
       "      <td>78.00</td>\n",
       "      <td>55.25</td>\n",
       "      <td>24.950</td>\n",
       "      <td>2.875</td>\n",
       "      <td>6.500</td>\n",
       "      <td>0.44425</td>\n",
       "      <td>0.575</td>\n",
       "      <td>1.725</td>\n",
       "      <td>0.279250</td>\n",
       "      <td>...</td>\n",
       "      <td>1.525</td>\n",
       "      <td>4.625</td>\n",
       "      <td>6.150</td>\n",
       "      <td>1.325</td>\n",
       "      <td>1.000</td>\n",
       "      <td>0.650</td>\n",
       "      <td>1.200</td>\n",
       "      <td>1.950</td>\n",
       "      <td>7.575</td>\n",
       "      <td>3</td>\n",
       "    </tr>\n",
       "    <tr>\n",
       "      <th>4</th>\n",
       "      <td>22.5</td>\n",
       "      <td>50.00</td>\n",
       "      <td>10.50</td>\n",
       "      <td>26.225</td>\n",
       "      <td>4.075</td>\n",
       "      <td>9.675</td>\n",
       "      <td>0.42250</td>\n",
       "      <td>0.775</td>\n",
       "      <td>2.050</td>\n",
       "      <td>0.374000</td>\n",
       "      <td>...</td>\n",
       "      <td>0.650</td>\n",
       "      <td>2.675</td>\n",
       "      <td>3.325</td>\n",
       "      <td>2.275</td>\n",
       "      <td>0.650</td>\n",
       "      <td>0.175</td>\n",
       "      <td>1.650</td>\n",
       "      <td>2.225</td>\n",
       "      <td>12.050</td>\n",
       "      <td>3</td>\n",
       "    </tr>\n",
       "  </tbody>\n",
       "</table>\n",
       "<p>5 rows × 27 columns</p>\n",
       "</div>"
      ],
      "text/plain": [
       "    Age      G     GS      MP     FG     FGA      FG%     3P    3PA       3P%  \\\n",
       "0  29.5  69.00  13.25  19.875  3.200   7.725  0.41900  1.175  3.100  0.376000   \n",
       "1  27.5  65.25  65.25  33.200  7.325  13.575  0.53825  0.325  1.025  0.378500   \n",
       "2  29.5  65.75  57.50  30.500  7.525  15.200  0.49225  0.000  0.125  0.239333   \n",
       "3  23.5  78.00  55.25  24.950  2.875   6.500  0.44425  0.575  1.725  0.279250   \n",
       "4  22.5  50.00  10.50  26.225  4.075   9.675  0.42250  0.775  2.050  0.374000   \n",
       "\n",
       "   ...    ORB    DRB    TRB    AST    STL    BLK    TOV     PF     PTS  \\\n",
       "0  ...  0.375  1.350  1.725  2.800  0.600  0.175  1.500  2.000   8.700   \n",
       "1  ...  2.100  6.150  8.275  3.050  0.925  1.350  1.700  1.925  16.600   \n",
       "2  ...  1.700  7.000  8.700  1.850  0.800  1.100  1.175  2.300  17.050   \n",
       "3  ...  1.525  4.625  6.150  1.325  1.000  0.650  1.200  1.950   7.575   \n",
       "4  ...  0.650  2.675  3.325  2.275  0.650  0.175  1.650  2.225  12.050   \n",
       "\n",
       "   cluster  \n",
       "0        3  \n",
       "1        4  \n",
       "2        4  \n",
       "3        3  \n",
       "4        3  \n",
       "\n",
       "[5 rows x 27 columns]"
      ]
     },
     "execution_count": 1309,
     "metadata": {},
     "output_type": "execute_result"
    }
   ],
   "source": [
    "thirteen_to_seventeen_with_sal['cluster'] = salary_model.labels_\n",
    "thirteen_to_seventeen_with_sal.head()"
   ]
  },
  {
   "cell_type": "code",
   "execution_count": null,
   "metadata": {},
   "outputs": [],
   "source": []
  },
  {
   "cell_type": "code",
   "execution_count": null,
   "metadata": {},
   "outputs": [],
   "source": []
  },
  {
   "cell_type": "markdown",
   "metadata": {},
   "source": [
    "# Groupby salary in clusters"
   ]
  },
  {
   "cell_type": "code",
   "execution_count": 1313,
   "metadata": {},
   "outputs": [
    {
     "data": {
      "text/html": [
       "<div>\n",
       "<style scoped>\n",
       "    .dataframe tbody tr th:only-of-type {\n",
       "        vertical-align: middle;\n",
       "    }\n",
       "\n",
       "    .dataframe tbody tr th {\n",
       "        vertical-align: top;\n",
       "    }\n",
       "\n",
       "    .dataframe thead th {\n",
       "        text-align: right;\n",
       "    }\n",
       "</style>\n",
       "<table border=\"1\" class=\"dataframe\">\n",
       "  <thead>\n",
       "    <tr style=\"text-align: right;\">\n",
       "      <th></th>\n",
       "      <th>Age</th>\n",
       "      <th>G</th>\n",
       "      <th>GS</th>\n",
       "      <th>MP</th>\n",
       "      <th>FG</th>\n",
       "      <th>FGA</th>\n",
       "      <th>FG%</th>\n",
       "      <th>3P</th>\n",
       "      <th>3PA</th>\n",
       "      <th>3P%</th>\n",
       "      <th>...</th>\n",
       "      <th>FT%</th>\n",
       "      <th>ORB</th>\n",
       "      <th>DRB</th>\n",
       "      <th>TRB</th>\n",
       "      <th>AST</th>\n",
       "      <th>STL</th>\n",
       "      <th>BLK</th>\n",
       "      <th>TOV</th>\n",
       "      <th>PF</th>\n",
       "      <th>PTS</th>\n",
       "    </tr>\n",
       "    <tr>\n",
       "      <th>cluster</th>\n",
       "      <th></th>\n",
       "      <th></th>\n",
       "      <th></th>\n",
       "      <th></th>\n",
       "      <th></th>\n",
       "      <th></th>\n",
       "      <th></th>\n",
       "      <th></th>\n",
       "      <th></th>\n",
       "      <th></th>\n",
       "      <th></th>\n",
       "      <th></th>\n",
       "      <th></th>\n",
       "      <th></th>\n",
       "      <th></th>\n",
       "      <th></th>\n",
       "      <th></th>\n",
       "      <th></th>\n",
       "      <th></th>\n",
       "      <th></th>\n",
       "      <th></th>\n",
       "    </tr>\n",
       "  </thead>\n",
       "  <tbody>\n",
       "    <tr>\n",
       "      <th>0</th>\n",
       "      <td>27.553623</td>\n",
       "      <td>57.104348</td>\n",
       "      <td>15.428986</td>\n",
       "      <td>19.606957</td>\n",
       "      <td>2.674203</td>\n",
       "      <td>6.292464</td>\n",
       "      <td>0.420212</td>\n",
       "      <td>1.045797</td>\n",
       "      <td>2.889855</td>\n",
       "      <td>0.341736</td>\n",
       "      <td>...</td>\n",
       "      <td>0.778722</td>\n",
       "      <td>0.528986</td>\n",
       "      <td>2.225797</td>\n",
       "      <td>2.749855</td>\n",
       "      <td>1.724058</td>\n",
       "      <td>0.618261</td>\n",
       "      <td>0.242029</td>\n",
       "      <td>0.894493</td>\n",
       "      <td>1.556812</td>\n",
       "      <td>7.359130</td>\n",
       "    </tr>\n",
       "    <tr>\n",
       "      <th>1</th>\n",
       "      <td>26.621622</td>\n",
       "      <td>60.513514</td>\n",
       "      <td>26.827027</td>\n",
       "      <td>20.052973</td>\n",
       "      <td>3.065405</td>\n",
       "      <td>5.775676</td>\n",
       "      <td>0.533627</td>\n",
       "      <td>0.207027</td>\n",
       "      <td>0.655135</td>\n",
       "      <td>0.199917</td>\n",
       "      <td>...</td>\n",
       "      <td>0.678319</td>\n",
       "      <td>1.738378</td>\n",
       "      <td>3.738919</td>\n",
       "      <td>5.471892</td>\n",
       "      <td>1.250270</td>\n",
       "      <td>0.586486</td>\n",
       "      <td>0.757838</td>\n",
       "      <td>1.033514</td>\n",
       "      <td>2.175135</td>\n",
       "      <td>7.688649</td>\n",
       "    </tr>\n",
       "    <tr>\n",
       "      <th>2</th>\n",
       "      <td>26.961538</td>\n",
       "      <td>65.838462</td>\n",
       "      <td>61.730769</td>\n",
       "      <td>33.473846</td>\n",
       "      <td>7.594615</td>\n",
       "      <td>16.743846</td>\n",
       "      <td>0.452338</td>\n",
       "      <td>2.160769</td>\n",
       "      <td>5.900769</td>\n",
       "      <td>0.358038</td>\n",
       "      <td>...</td>\n",
       "      <td>0.827962</td>\n",
       "      <td>0.830769</td>\n",
       "      <td>4.190000</td>\n",
       "      <td>5.013846</td>\n",
       "      <td>5.509231</td>\n",
       "      <td>1.329231</td>\n",
       "      <td>0.413077</td>\n",
       "      <td>2.721538</td>\n",
       "      <td>2.209231</td>\n",
       "      <td>21.832308</td>\n",
       "    </tr>\n",
       "    <tr>\n",
       "      <th>3</th>\n",
       "      <td>25.375000</td>\n",
       "      <td>69.112500</td>\n",
       "      <td>63.637500</td>\n",
       "      <td>30.127500</td>\n",
       "      <td>6.476250</td>\n",
       "      <td>11.903750</td>\n",
       "      <td>0.557937</td>\n",
       "      <td>0.382500</td>\n",
       "      <td>1.155000</td>\n",
       "      <td>0.227599</td>\n",
       "      <td>...</td>\n",
       "      <td>0.684525</td>\n",
       "      <td>3.023750</td>\n",
       "      <td>7.632500</td>\n",
       "      <td>10.652500</td>\n",
       "      <td>2.336250</td>\n",
       "      <td>0.890000</td>\n",
       "      <td>1.405000</td>\n",
       "      <td>2.031250</td>\n",
       "      <td>2.807500</td>\n",
       "      <td>16.550000</td>\n",
       "    </tr>\n",
       "    <tr>\n",
       "      <th>4</th>\n",
       "      <td>27.343750</td>\n",
       "      <td>65.271875</td>\n",
       "      <td>49.615625</td>\n",
       "      <td>28.861563</td>\n",
       "      <td>4.768125</td>\n",
       "      <td>10.786563</td>\n",
       "      <td>0.440138</td>\n",
       "      <td>1.470000</td>\n",
       "      <td>4.075313</td>\n",
       "      <td>0.353247</td>\n",
       "      <td>...</td>\n",
       "      <td>0.784601</td>\n",
       "      <td>0.890313</td>\n",
       "      <td>3.735312</td>\n",
       "      <td>4.624063</td>\n",
       "      <td>2.995000</td>\n",
       "      <td>0.947187</td>\n",
       "      <td>0.474063</td>\n",
       "      <td>1.614375</td>\n",
       "      <td>2.181875</td>\n",
       "      <td>13.038125</td>\n",
       "    </tr>\n",
       "  </tbody>\n",
       "</table>\n",
       "<p>5 rows × 26 columns</p>\n",
       "</div>"
      ],
      "text/plain": [
       "               Age          G         GS         MP        FG        FGA  \\\n",
       "cluster                                                                    \n",
       "0        27.553623  57.104348  15.428986  19.606957  2.674203   6.292464   \n",
       "1        26.621622  60.513514  26.827027  20.052973  3.065405   5.775676   \n",
       "2        26.961538  65.838462  61.730769  33.473846  7.594615  16.743846   \n",
       "3        25.375000  69.112500  63.637500  30.127500  6.476250  11.903750   \n",
       "4        27.343750  65.271875  49.615625  28.861563  4.768125  10.786563   \n",
       "\n",
       "              FG%        3P       3PA       3P%  ...       FT%       ORB  \\\n",
       "cluster                                          ...                       \n",
       "0        0.420212  1.045797  2.889855  0.341736  ...  0.778722  0.528986   \n",
       "1        0.533627  0.207027  0.655135  0.199917  ...  0.678319  1.738378   \n",
       "2        0.452338  2.160769  5.900769  0.358038  ...  0.827962  0.830769   \n",
       "3        0.557937  0.382500  1.155000  0.227599  ...  0.684525  3.023750   \n",
       "4        0.440138  1.470000  4.075313  0.353247  ...  0.784601  0.890313   \n",
       "\n",
       "              DRB        TRB       AST       STL       BLK       TOV  \\\n",
       "cluster                                                                \n",
       "0        2.225797   2.749855  1.724058  0.618261  0.242029  0.894493   \n",
       "1        3.738919   5.471892  1.250270  0.586486  0.757838  1.033514   \n",
       "2        4.190000   5.013846  5.509231  1.329231  0.413077  2.721538   \n",
       "3        7.632500  10.652500  2.336250  0.890000  1.405000  2.031250   \n",
       "4        3.735312   4.624063  2.995000  0.947187  0.474063  1.614375   \n",
       "\n",
       "               PF        PTS  \n",
       "cluster                       \n",
       "0        1.556812   7.359130  \n",
       "1        2.175135   7.688649  \n",
       "2        2.209231  21.832308  \n",
       "3        2.807500  16.550000  \n",
       "4        2.181875  13.038125  \n",
       "\n",
       "[5 rows x 26 columns]"
      ]
     },
     "execution_count": 1313,
     "metadata": {},
     "output_type": "execute_result"
    }
   ],
   "source": [
    "sixteen_to_twenty_with_sal.groupby('cluster').mean()\n",
    "#players in this cluster salaries"
   ]
  },
  {
   "cell_type": "code",
   "execution_count": 1319,
   "metadata": {},
   "outputs": [],
   "source": [
    "# sixteen_to_twenty_with_sal.groupby('cluster')."
   ]
  },
  {
   "cell_type": "code",
   "execution_count": null,
   "metadata": {},
   "outputs": [],
   "source": []
  },
  {
   "cell_type": "code",
   "execution_count": null,
   "metadata": {},
   "outputs": [],
   "source": []
  },
  {
   "cell_type": "markdown",
   "metadata": {},
   "source": [
    "# Scoring model with clusters"
   ]
  },
  {
   "cell_type": "code",
   "execution_count": 1191,
   "metadata": {},
   "outputs": [
    {
     "name": "stdout",
     "output_type": "stream",
     "text": [
      "train score is 0.9932432432432432\n",
      "test score is 0.984375\n"
     ]
    },
    {
     "data": {
      "text/plain": [
       "(None, None)"
      ]
     },
     "execution_count": 1191,
     "metadata": {},
     "output_type": "execute_result"
    }
   ],
   "source": [
    "fit_models_and_score(logreg, sixteen_to_twenty_with_sal.drop(['Age'], axis=1), sixteen_to_twenty_with_sal['cluster'])"
   ]
  },
  {
   "cell_type": "code",
   "execution_count": 1192,
   "metadata": {},
   "outputs": [
    {
     "name": "stdout",
     "output_type": "stream",
     "text": [
      "train score is 0.831081081081081\n",
      "test score is 0.75\n"
     ]
    },
    {
     "data": {
      "text/plain": [
       "(None, None)"
      ]
     },
     "execution_count": 1192,
     "metadata": {},
     "output_type": "execute_result"
    }
   ],
   "source": [
    "fit_models_and_score(knnc, sixteen_to_twenty_with_sal.drop(['Age'], axis=1), sixteen_to_twenty_with_sal['cluster'])"
   ]
  },
  {
   "cell_type": "code",
   "execution_count": 1193,
   "metadata": {},
   "outputs": [
    {
     "name": "stdout",
     "output_type": "stream",
     "text": [
      "train score is 0.9932432432432432\n",
      "test score is 0.984375\n"
     ]
    },
    {
     "data": {
      "text/plain": [
       "(None, None)"
      ]
     },
     "execution_count": 1193,
     "metadata": {},
     "output_type": "execute_result"
    }
   ],
   "source": [
    "fit_models_and_score(logreg, sixteen_to_twenty_with_sal.drop(['Age'], axis=1), sixteen_to_twenty_with_sal['cluster'])"
   ]
  },
  {
   "cell_type": "markdown",
   "metadata": {},
   "source": [
    "Clustering with other datasets"
   ]
  },
  {
   "cell_type": "markdown",
   "metadata": {},
   "source": [
    "# Searching for ideal k for clustering"
   ]
  },
  {
   "cell_type": "code",
   "execution_count": 1196,
   "metadata": {},
   "outputs": [
    {
     "name": "stdout",
     "output_type": "stream",
     "text": [
      "0.2749013616279595\n",
      "0.2763159972217445\n",
      "0.2046602529966292\n",
      "0.20226473717010185\n",
      "0.14476250378824998\n",
      "0.17993114939058472\n",
      "0.1498822002449758\n",
      "0.13817940976955703\n",
      "0.13301930259667832\n",
      "0.12928553242563276\n",
      "0.13068637625718071\n",
      "0.12513995505074074\n",
      "0.12202690714618188\n",
      "0.10904883479356187\n",
      "0.1275436588779501\n",
      "0.12775077135866825\n",
      "0.11766367843997398\n",
      "0.11016313132647415\n",
      "0.10269156057489424\n",
      "0.11341517544896292\n",
      "0.11681378863221319\n"
     ]
    }
   ],
   "source": [
    "for i in range(2,23):\n",
    "    salary_model = KMeans(n_clusters=i, random_state=0).fit(sixteen_to_twenty_with_sal_sc)\n",
    "    print(silhouette_score(sixteen_to_twenty_with_sal_sc, salary_model.labels_))\n",
    "\n",
    "#Highest silhouette scores are with 2 and 3 clusters, but not significantly higher than the one we used where k=5"
   ]
  },
  {
   "cell_type": "code",
   "execution_count": 1100,
   "metadata": {},
   "outputs": [
    {
     "name": "stdout",
     "output_type": "stream",
     "text": [
      "0.2750566247781479\n",
      "0.2747368535018793\n",
      "0.2677210485827732\n",
      "0.18878454929551425\n",
      "0.1573385086252208\n",
      "0.157192380823437\n",
      "0.12846765824868958\n",
      "0.1285746821156275\n",
      "0.13725734362840153\n",
      "0.1322589550983205\n",
      "0.13285060151908692\n",
      "0.12917584465071455\n",
      "0.11928940588775942\n",
      "0.12041544716921809\n",
      "0.12789593755371603\n",
      "0.12778482781512546\n",
      "0.11906903293228305\n",
      "0.11853543179686699\n",
      "0.12169741165188623\n",
      "0.1266692386270077\n",
      "0.11210423257759462\n"
     ]
    }
   ],
   "source": [
    "for i in range(2,23):\n",
    "    salary_model = KMeans(n_clusters=i, random_state=0).fit(fourteen_to_eighteen_with_sal_sc)\n",
    "    print(silhouette_score(fourteen_to_eighteen_with_sal_sc, salary_model.labels_))"
   ]
  },
  {
   "cell_type": "code",
   "execution_count": 1101,
   "metadata": {},
   "outputs": [
    {
     "name": "stdout",
     "output_type": "stream",
     "text": [
      "0.26859459372392863\n",
      "0.2688672602908561\n",
      "0.23279458329146552\n",
      "0.15696316376603325\n",
      "0.1545205873868092\n",
      "0.1451417341350024\n",
      "0.1309262089134801\n",
      "0.12262531736239224\n",
      "0.12857185681034936\n",
      "0.12641347695190133\n",
      "0.12484615115770217\n",
      "0.12049083926029414\n",
      "0.11073435217215968\n",
      "0.11726629696862194\n",
      "0.10953526741861142\n",
      "0.11094224915227244\n",
      "0.10690791987041834\n",
      "0.0989594298996313\n",
      "0.11190925029562333\n",
      "0.10813434947125157\n",
      "0.11094877636623418\n"
     ]
    }
   ],
   "source": [
    "for i in range(2,23):\n",
    "    salary_model = KMeans(n_clusters=i, random_state=0).fit(thirteen_to_seventeen_with_sal_sc)\n",
    "    print(silhouette_score(thirteen_to_seventeen_with_sal_sc, salary_model.labels_))"
   ]
  },
  {
   "cell_type": "markdown",
   "metadata": {},
   "source": [
    "# Visualizing Clusters"
   ]
  },
  {
   "cell_type": "code",
   "execution_count": null,
   "metadata": {},
   "outputs": [],
   "source": []
  }
 ],
 "metadata": {
  "kernelspec": {
   "display_name": "Python 3",
   "language": "python",
   "name": "python3"
  },
  "language_info": {
   "codemirror_mode": {
    "name": "ipython",
    "version": 3
   },
   "file_extension": ".py",
   "mimetype": "text/x-python",
   "name": "python",
   "nbconvert_exporter": "python",
   "pygments_lexer": "ipython3",
   "version": "3.8.3"
  }
 },
 "nbformat": 4,
 "nbformat_minor": 4
}
